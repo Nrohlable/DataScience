{
 "cells": [
  {
   "cell_type": "code",
   "execution_count": 4,
   "metadata": {
    "colab": {
     "base_uri": "https://localhost:8080/",
     "height": 740
    },
    "id": "cSYMT9K8hEe2",
    "outputId": "b4dddcd1-d647-445f-e2a7-e6cea25a0297"
   },
   "outputs": [
    {
     "data": {
      "text/html": [
       "<div>\n",
       "<style scoped>\n",
       "    .dataframe tbody tr th:only-of-type {\n",
       "        vertical-align: middle;\n",
       "    }\n",
       "\n",
       "    .dataframe tbody tr th {\n",
       "        vertical-align: top;\n",
       "    }\n",
       "\n",
       "    .dataframe thead th {\n",
       "        text-align: right;\n",
       "    }\n",
       "</style>\n",
       "<table border=\"1\" class=\"dataframe\">\n",
       "  <thead>\n",
       "    <tr style=\"text-align: right;\">\n",
       "      <th></th>\n",
       "      <th>Unnamed: 0</th>\n",
       "      <th>Unnamed: 1</th>\n",
       "      <th>Unnamed: 2</th>\n",
       "      <th>Unnamed: 3</th>\n",
       "      <th>Unnamed: 4</th>\n",
       "      <th>Unnamed: 5</th>\n",
       "      <th>Unnamed: 6</th>\n",
       "      <th>Unnamed: 7</th>\n",
       "    </tr>\n",
       "  </thead>\n",
       "  <tbody>\n",
       "    <tr>\n",
       "      <th>0</th>\n",
       "      <td>Company Name</td>\n",
       "      <td>Exchange:Ticker</td>\n",
       "      <td>Company Type</td>\n",
       "      <td>Company Status</td>\n",
       "      <td>Geographic Locations</td>\n",
       "      <td>Business Description</td>\n",
       "      <td>Industry Classifications</td>\n",
       "      <td>Security Tickers</td>\n",
       "    </tr>\n",
       "    <tr>\n",
       "      <th>1</th>\n",
       "      <td>024 Pharma, Inc. (OTCPK:EEIG)</td>\n",
       "      <td>OTCPK:EEIG</td>\n",
       "      <td>Public Company</td>\n",
       "      <td>Operating</td>\n",
       "      <td>United States of America (Primary)</td>\n",
       "      <td>024 Pharma, Inc. provides healthcare products ...</td>\n",
       "      <td>Beauty Care Products (Primary); Consumer Stapl...</td>\n",
       "      <td>OTCPK:EEIG</td>\n",
       "    </tr>\n",
       "    <tr>\n",
       "      <th>2</th>\n",
       "      <td>1-800-FLOWERS.COM, Inc. (NasdaqGS:FLWS)</td>\n",
       "      <td>NasdaqGS:FLWS</td>\n",
       "      <td>Public Company</td>\n",
       "      <td>Operating</td>\n",
       "      <td>United States of America (Primary)</td>\n",
       "      <td>1-800-Flowers.com, Inc., together with its sub...</td>\n",
       "      <td>Catalog Flowers, Gifts and Novelties (Primary)...</td>\n",
       "      <td>NasdaqGS:FLWS; DB:FWC</td>\n",
       "    </tr>\n",
       "    <tr>\n",
       "      <th>3</th>\n",
       "      <td>12 Retech Corporation (OTCPK:RETC)</td>\n",
       "      <td>OTCPK:RETC</td>\n",
       "      <td>Public Company</td>\n",
       "      <td>Operating</td>\n",
       "      <td>United States of America (Primary)</td>\n",
       "      <td>12 Retech Corporation, through its subsidiarie...</td>\n",
       "      <td>Information Technology (Primary); Internet Sof...</td>\n",
       "      <td>OTCPK:RETC</td>\n",
       "    </tr>\n",
       "    <tr>\n",
       "      <th>4</th>\n",
       "      <td>1347 Property Insurance Holdings, Inc. (Nasdaq...</td>\n",
       "      <td>NasdaqGM:PIH</td>\n",
       "      <td>Public Company</td>\n",
       "      <td>Operating</td>\n",
       "      <td>United States of America (Primary)</td>\n",
       "      <td>1347 Property Insurance Holdings, Inc., throug...</td>\n",
       "      <td>Casualty (Primary); Financials (Primary); Fire...</td>\n",
       "      <td>NasdaqGM:PIH</td>\n",
       "    </tr>\n",
       "    <tr>\n",
       "      <th>...</th>\n",
       "      <td>...</td>\n",
       "      <td>...</td>\n",
       "      <td>...</td>\n",
       "      <td>...</td>\n",
       "      <td>...</td>\n",
       "      <td>...</td>\n",
       "      <td>...</td>\n",
       "      <td>...</td>\n",
       "    </tr>\n",
       "    <tr>\n",
       "      <th>1998</th>\n",
       "      <td>Delhi Bank Corp. (OTCPK:DWNX)</td>\n",
       "      <td>OTCPK:DWNX</td>\n",
       "      <td>Public Company</td>\n",
       "      <td>Operating</td>\n",
       "      <td>United States of America (Primary)</td>\n",
       "      <td>Delhi Bank Corp. operates as a bank holding co...</td>\n",
       "      <td>Banks (Primary); Banks (Primary); Financials (...</td>\n",
       "      <td>OTCPK:DWNX</td>\n",
       "    </tr>\n",
       "    <tr>\n",
       "      <th>1999</th>\n",
       "      <td>dELiA*s, Inc. (OTCPK:DLIA.Q)</td>\n",
       "      <td>OTCPK:DLIA.Q</td>\n",
       "      <td>Public Company</td>\n",
       "      <td>Operating</td>\n",
       "      <td>United States of America (Primary)</td>\n",
       "      <td>dELiA*s, Inc. operates as a multi-channel reta...</td>\n",
       "      <td>Catalog Apparel and Accessory Retail (Primary)...</td>\n",
       "      <td>OTCPK:DLIA.Q</td>\n",
       "    </tr>\n",
       "    <tr>\n",
       "      <th>2000</th>\n",
       "      <td>Delivery Technology Solutions, Inc. (OTCPK:DTSL)</td>\n",
       "      <td>OTCPK:DTSL</td>\n",
       "      <td>Public Company</td>\n",
       "      <td>Operating</td>\n",
       "      <td>United States of America (Primary)</td>\n",
       "      <td>Delivery Technology Solutions, Inc. offers res...</td>\n",
       "      <td>Commercial and Professional Services (Primary)...</td>\n",
       "      <td>OTCPK:DTSL</td>\n",
       "    </tr>\n",
       "    <tr>\n",
       "      <th>2001</th>\n",
       "      <td>Delmar Bancorp (OTCPK:DBCP)</td>\n",
       "      <td>OTCPK:DBCP</td>\n",
       "      <td>Public Company</td>\n",
       "      <td>Operating</td>\n",
       "      <td>United States of America (Primary)</td>\n",
       "      <td>Delmar Bancorp operates as the bank holding co...</td>\n",
       "      <td>Banks (Primary); Banks (Primary); Financials (...</td>\n",
       "      <td>OTCPK:DBCP</td>\n",
       "    </tr>\n",
       "    <tr>\n",
       "      <th>2002</th>\n",
       "      <td>Delmarva Bancshares, Inc. (OTCPK:DLMV)</td>\n",
       "      <td>OTCPK:DLMV</td>\n",
       "      <td>Public Company</td>\n",
       "      <td>Operating</td>\n",
       "      <td>United States of America (Primary)</td>\n",
       "      <td>Delmarva Bancshares, Inc. operates as the bank...</td>\n",
       "      <td>Banks (Primary); Banks (Primary); Financials (...</td>\n",
       "      <td>OTCPK:DLMV</td>\n",
       "    </tr>\n",
       "  </tbody>\n",
       "</table>\n",
       "<p>2003 rows × 8 columns</p>\n",
       "</div>"
      ],
      "text/plain": [
       "                                             Unnamed: 0  ...             Unnamed: 7\n",
       "0                                          Company Name  ...       Security Tickers\n",
       "1                         024 Pharma, Inc. (OTCPK:EEIG)  ...             OTCPK:EEIG\n",
       "2               1-800-FLOWERS.COM, Inc. (NasdaqGS:FLWS)  ...  NasdaqGS:FLWS; DB:FWC\n",
       "3                    12 Retech Corporation (OTCPK:RETC)  ...             OTCPK:RETC\n",
       "4     1347 Property Insurance Holdings, Inc. (Nasdaq...  ...           NasdaqGM:PIH\n",
       "...                                                 ...  ...                    ...\n",
       "1998                      Delhi Bank Corp. (OTCPK:DWNX)  ...             OTCPK:DWNX\n",
       "1999                       dELiA*s, Inc. (OTCPK:DLIA.Q)  ...           OTCPK:DLIA.Q\n",
       "2000   Delivery Technology Solutions, Inc. (OTCPK:DTSL)  ...             OTCPK:DTSL\n",
       "2001                        Delmar Bancorp (OTCPK:DBCP)  ...             OTCPK:DBCP\n",
       "2002             Delmarva Bancshares, Inc. (OTCPK:DLMV)  ...             OTCPK:DLMV\n",
       "\n",
       "[2003 rows x 8 columns]"
      ]
     },
     "execution_count": 4,
     "metadata": {
      "tags": []
     },
     "output_type": "execute_result"
    }
   ],
   "source": [
    "import pandas as pd\n",
    "training_data = pd.read_excel('/content/drive/MyDrive/Training Data.xlsx')\n",
    "training_data"
   ]
  },
  {
   "cell_type": "code",
   "execution_count": 5,
   "metadata": {
    "colab": {
     "base_uri": "https://localhost:8080/",
     "height": 756
    },
    "id": "g2blC1gDh4n0",
    "outputId": "e2dc89fd-9691-4fad-9589-85cfa950e05f"
   },
   "outputs": [
    {
     "data": {
      "text/html": [
       "<div>\n",
       "<style scoped>\n",
       "    .dataframe tbody tr th:only-of-type {\n",
       "        vertical-align: middle;\n",
       "    }\n",
       "\n",
       "    .dataframe tbody tr th {\n",
       "        vertical-align: top;\n",
       "    }\n",
       "\n",
       "    .dataframe thead th {\n",
       "        text-align: right;\n",
       "    }\n",
       "</style>\n",
       "<table border=\"1\" class=\"dataframe\">\n",
       "  <thead>\n",
       "    <tr style=\"text-align: right;\">\n",
       "      <th></th>\n",
       "      <th>Company Name</th>\n",
       "      <th>Exchange:Ticker</th>\n",
       "      <th>Company Type</th>\n",
       "      <th>Company Status</th>\n",
       "      <th>Geographic Locations</th>\n",
       "      <th>Business Description</th>\n",
       "      <th>Industry Classifications</th>\n",
       "      <th>Security Tickers</th>\n",
       "    </tr>\n",
       "  </thead>\n",
       "  <tbody>\n",
       "    <tr>\n",
       "      <th>1</th>\n",
       "      <td>024 Pharma, Inc. (OTCPK:EEIG)</td>\n",
       "      <td>OTCPK:EEIG</td>\n",
       "      <td>Public Company</td>\n",
       "      <td>Operating</td>\n",
       "      <td>United States of America (Primary)</td>\n",
       "      <td>024 Pharma, Inc. provides healthcare products ...</td>\n",
       "      <td>Beauty Care Products (Primary); Consumer Stapl...</td>\n",
       "      <td>OTCPK:EEIG</td>\n",
       "    </tr>\n",
       "    <tr>\n",
       "      <th>2</th>\n",
       "      <td>1-800-FLOWERS.COM, Inc. (NasdaqGS:FLWS)</td>\n",
       "      <td>NasdaqGS:FLWS</td>\n",
       "      <td>Public Company</td>\n",
       "      <td>Operating</td>\n",
       "      <td>United States of America (Primary)</td>\n",
       "      <td>1-800-Flowers.com, Inc., together with its sub...</td>\n",
       "      <td>Catalog Flowers, Gifts and Novelties (Primary)...</td>\n",
       "      <td>NasdaqGS:FLWS; DB:FWC</td>\n",
       "    </tr>\n",
       "    <tr>\n",
       "      <th>3</th>\n",
       "      <td>12 Retech Corporation (OTCPK:RETC)</td>\n",
       "      <td>OTCPK:RETC</td>\n",
       "      <td>Public Company</td>\n",
       "      <td>Operating</td>\n",
       "      <td>United States of America (Primary)</td>\n",
       "      <td>12 Retech Corporation, through its subsidiarie...</td>\n",
       "      <td>Information Technology (Primary); Internet Sof...</td>\n",
       "      <td>OTCPK:RETC</td>\n",
       "    </tr>\n",
       "    <tr>\n",
       "      <th>4</th>\n",
       "      <td>1347 Property Insurance Holdings, Inc. (Nasdaq...</td>\n",
       "      <td>NasdaqGM:PIH</td>\n",
       "      <td>Public Company</td>\n",
       "      <td>Operating</td>\n",
       "      <td>United States of America (Primary)</td>\n",
       "      <td>1347 Property Insurance Holdings, Inc., throug...</td>\n",
       "      <td>Casualty (Primary); Financials (Primary); Fire...</td>\n",
       "      <td>NasdaqGM:PIH</td>\n",
       "    </tr>\n",
       "    <tr>\n",
       "      <th>5</th>\n",
       "      <td>1847 Holdings LLC (OTCPK:EFSH)</td>\n",
       "      <td>OTCPK:EFSH</td>\n",
       "      <td>Public Company</td>\n",
       "      <td>Operating</td>\n",
       "      <td>United States of America (Primary)</td>\n",
       "      <td>1847 Holdings LLC, through its subsidiaries, p...</td>\n",
       "      <td>Commercial and Professional Services (Primary)...</td>\n",
       "      <td>OTCPK:EFSH</td>\n",
       "    </tr>\n",
       "    <tr>\n",
       "      <th>...</th>\n",
       "      <td>...</td>\n",
       "      <td>...</td>\n",
       "      <td>...</td>\n",
       "      <td>...</td>\n",
       "      <td>...</td>\n",
       "      <td>...</td>\n",
       "      <td>...</td>\n",
       "      <td>...</td>\n",
       "    </tr>\n",
       "    <tr>\n",
       "      <th>1998</th>\n",
       "      <td>Delhi Bank Corp. (OTCPK:DWNX)</td>\n",
       "      <td>OTCPK:DWNX</td>\n",
       "      <td>Public Company</td>\n",
       "      <td>Operating</td>\n",
       "      <td>United States of America (Primary)</td>\n",
       "      <td>Delhi Bank Corp. operates as a bank holding co...</td>\n",
       "      <td>Banks (Primary); Banks (Primary); Financials (...</td>\n",
       "      <td>OTCPK:DWNX</td>\n",
       "    </tr>\n",
       "    <tr>\n",
       "      <th>1999</th>\n",
       "      <td>dELiA*s, Inc. (OTCPK:DLIA.Q)</td>\n",
       "      <td>OTCPK:DLIA.Q</td>\n",
       "      <td>Public Company</td>\n",
       "      <td>Operating</td>\n",
       "      <td>United States of America (Primary)</td>\n",
       "      <td>dELiA*s, Inc. operates as a multi-channel reta...</td>\n",
       "      <td>Catalog Apparel and Accessory Retail (Primary)...</td>\n",
       "      <td>OTCPK:DLIA.Q</td>\n",
       "    </tr>\n",
       "    <tr>\n",
       "      <th>2000</th>\n",
       "      <td>Delivery Technology Solutions, Inc. (OTCPK:DTSL)</td>\n",
       "      <td>OTCPK:DTSL</td>\n",
       "      <td>Public Company</td>\n",
       "      <td>Operating</td>\n",
       "      <td>United States of America (Primary)</td>\n",
       "      <td>Delivery Technology Solutions, Inc. offers res...</td>\n",
       "      <td>Commercial and Professional Services (Primary)...</td>\n",
       "      <td>OTCPK:DTSL</td>\n",
       "    </tr>\n",
       "    <tr>\n",
       "      <th>2001</th>\n",
       "      <td>Delmar Bancorp (OTCPK:DBCP)</td>\n",
       "      <td>OTCPK:DBCP</td>\n",
       "      <td>Public Company</td>\n",
       "      <td>Operating</td>\n",
       "      <td>United States of America (Primary)</td>\n",
       "      <td>Delmar Bancorp operates as the bank holding co...</td>\n",
       "      <td>Banks (Primary); Banks (Primary); Financials (...</td>\n",
       "      <td>OTCPK:DBCP</td>\n",
       "    </tr>\n",
       "    <tr>\n",
       "      <th>2002</th>\n",
       "      <td>Delmarva Bancshares, Inc. (OTCPK:DLMV)</td>\n",
       "      <td>OTCPK:DLMV</td>\n",
       "      <td>Public Company</td>\n",
       "      <td>Operating</td>\n",
       "      <td>United States of America (Primary)</td>\n",
       "      <td>Delmarva Bancshares, Inc. operates as the bank...</td>\n",
       "      <td>Banks (Primary); Banks (Primary); Financials (...</td>\n",
       "      <td>OTCPK:DLMV</td>\n",
       "    </tr>\n",
       "  </tbody>\n",
       "</table>\n",
       "<p>2002 rows × 8 columns</p>\n",
       "</div>"
      ],
      "text/plain": [
       "0                                          Company Name  ...       Security Tickers\n",
       "1                         024 Pharma, Inc. (OTCPK:EEIG)  ...             OTCPK:EEIG\n",
       "2               1-800-FLOWERS.COM, Inc. (NasdaqGS:FLWS)  ...  NasdaqGS:FLWS; DB:FWC\n",
       "3                    12 Retech Corporation (OTCPK:RETC)  ...             OTCPK:RETC\n",
       "4     1347 Property Insurance Holdings, Inc. (Nasdaq...  ...           NasdaqGM:PIH\n",
       "5                        1847 Holdings LLC (OTCPK:EFSH)  ...             OTCPK:EFSH\n",
       "...                                                 ...  ...                    ...\n",
       "1998                      Delhi Bank Corp. (OTCPK:DWNX)  ...             OTCPK:DWNX\n",
       "1999                       dELiA*s, Inc. (OTCPK:DLIA.Q)  ...           OTCPK:DLIA.Q\n",
       "2000   Delivery Technology Solutions, Inc. (OTCPK:DTSL)  ...             OTCPK:DTSL\n",
       "2001                        Delmar Bancorp (OTCPK:DBCP)  ...             OTCPK:DBCP\n",
       "2002             Delmarva Bancshares, Inc. (OTCPK:DLMV)  ...             OTCPK:DLMV\n",
       "\n",
       "[2002 rows x 8 columns]"
      ]
     },
     "execution_count": 5,
     "metadata": {
      "tags": []
     },
     "output_type": "execute_result"
    }
   ],
   "source": [
    "#As we can observe that the Columns names in the DataFrame is in 1st row so, we would shift that\n",
    "#and drop that row from the dataset after setting it as Column names\n",
    "training_data.columns = training_data.iloc[0]\n",
    "training_data.drop(training_data.index[0] , inplace= True)\n",
    "training_data"
   ]
  },
  {
   "cell_type": "code",
   "execution_count": 6,
   "metadata": {
    "colab": {
     "base_uri": "https://localhost:8080/"
    },
    "id": "hg8O0VC6iklu",
    "outputId": "2d138cb9-8bb1-498b-8fe4-428a0d36e82e"
   },
   "outputs": [
    {
     "data": {
      "text/plain": [
       "Index(['Company Name', 'Exchange:Ticker', 'Company Type', 'Company Status',\n",
       "       'Geographic Locations', 'Business Description',\n",
       "       'Industry Classifications', 'Security Tickers'],\n",
       "      dtype='object', name=0)"
      ]
     },
     "execution_count": 6,
     "metadata": {
      "tags": []
     },
     "output_type": "execute_result"
    }
   ],
   "source": [
    "#Let's have a look at all the features we have in the dataset in order to classify the campanies on the basis of tags\n",
    "training_data.columns"
   ]
  },
  {
   "cell_type": "markdown",
   "metadata": {
    "id": "lXVIjxcVtwN6"
   },
   "source": [
    "# Features:"
   ]
  },
  {
   "cell_type": "code",
   "execution_count": 7,
   "metadata": {
    "colab": {
     "base_uri": "https://localhost:8080/"
    },
    "id": "yhPNBYAUt23i",
    "outputId": "1be254cf-a7cd-4c3e-bdce-8281fdd591c4"
   },
   "outputs": [
    {
     "name": "stdout",
     "output_type": "stream",
     "text": [
      "Unique Company_Type:  ['Public Company']\n",
      "Unique Company_Status:  ['Operating']\n",
      "Unique Geographic Locations:  ['United States of America (Primary)']\n"
     ]
    }
   ],
   "source": [
    "# Company Type :\n",
    "print('Unique Company_Type: ',training_data['Company Type'].unique())\n",
    "# All the rows have just one type of Company which indicates to Public_Company so there is no need of using the feature in order\n",
    "# to perform classification\n",
    "# Company Status :\n",
    "print('Unique Company_Status: ',training_data['Company Status'].unique())\n",
    "# All the rows have just one status of Company which indicates to Operating so there is no need of using the feature in order\n",
    "# to perform classification\n",
    "# Geographic Locations :\n",
    "print('Unique Geographic Locations: ',training_data['Geographic Locations'].unique())\n",
    "# All the rows have just one Geographic location of Company which indicates to United States of America so there is no need of using the feature in order\n",
    "# to perform classification\n",
    "\n",
    "training_data.drop(columns= ['Company Type','Company Status', 'Geographic Locations' ], inplace= True)"
   ]
  },
  {
   "cell_type": "code",
   "execution_count": 8,
   "metadata": {
    "colab": {
     "base_uri": "https://localhost:8080/"
    },
    "id": "KN94zeygvrpy",
    "outputId": "d0aadd75-0287-4640-f0dc-23a580c04199"
   },
   "outputs": [
    {
     "name": "stdout",
     "output_type": "stream",
     "text": [
      "Percentage of Datapoints having unique Exchange:Ticker Feature:  99.45054945054946\n",
      "Percentage of Datapoints having unique Security Tickers Feature:  99.7002997002997\n"
     ]
    }
   ],
   "source": [
    "print('Percentage of Datapoints having unique Exchange:Ticker Feature: ',len(training_data['Exchange:Ticker'].value_counts())/len(training_data)*100)\n",
    "print('Percentage of Datapoints having unique Security Tickers Feature: ',len(training_data['Security Tickers'].value_counts())/len(training_data)*100)"
   ]
  },
  {
   "cell_type": "markdown",
   "metadata": {
    "id": "cfWOYStWwofw"
   },
   "source": [
    "Since both the Features Exchange:Ticker and Security:Ticker have more than 99% of the values different for all the rows , it provide any significant insights in terms of Multi-class Classification and hence, we would drop these two Featrues as well"
   ]
  },
  {
   "cell_type": "code",
   "execution_count": 9,
   "metadata": {
    "id": "E6Y_dMDaxTVN"
   },
   "outputs": [],
   "source": [
    "training_data.drop(columns= ['Exchange:Ticker', 'Security Tickers'], inplace= True)"
   ]
  },
  {
   "cell_type": "code",
   "execution_count": 10,
   "metadata": {
    "colab": {
     "base_uri": "https://localhost:8080/"
    },
    "id": "Ll0DLsIaxnjL",
    "outputId": "44e2ad28-4b25-4223-80c3-519ab0bb2313"
   },
   "outputs": [
    {
     "name": "stdout",
     "output_type": "stream",
     "text": [
      "Number of Null values:  0\n",
      "Shape of Dataframe after removing Features:  (2002, 3)\n"
     ]
    }
   ],
   "source": [
    "# Checking for any null values\n",
    "print('Number of Null values: ',training_data.isnull().sum().sum())\n",
    "\n",
    "print('Shape of Dataframe after removing Features: ', training_data.shape)"
   ]
  },
  {
   "cell_type": "markdown",
   "metadata": {
    "id": "-WuBoLnv4QRA"
   },
   "source": [
    "**Company Name:** Each company will have different name so we can't use it as a Feature for our classificatiion . Even if we use it then since the Company data will have different Company names then the vectorized form will create a prblem for us, since it'll try to vectorize data through a vocabulary which won't consist those words"
   ]
  },
  {
   "cell_type": "code",
   "execution_count": 11,
   "metadata": {
    "id": "ZQzJBeXg47p1"
   },
   "outputs": [],
   "source": [
    "training_data.drop(columns= ['Company Name'], inplace= True)"
   ]
  },
  {
   "cell_type": "markdown",
   "metadata": {
    "id": "du-0r0rYrykZ"
   },
   "source": [
    "# Class Label Column:"
   ]
  },
  {
   "cell_type": "code",
   "execution_count": 12,
   "metadata": {
    "colab": {
     "base_uri": "https://localhost:8080/",
     "height": 71
    },
    "id": "AgcpHenwjUIn",
    "outputId": "57103e5c-7e2e-47e0-daaf-bb2384172efe"
   },
   "outputs": [
    {
     "data": {
      "application/vnd.google.colaboratory.intrinsic+json": {
       "type": "string"
      },
      "text/plain": [
       "'Beauty Care Products (Primary); Consumer Staples (Primary); Hair Care Products (Primary); Household and Personal Products (Primary); Personal Products (Primary); Personal Products (Primary); Skin Care Products (Primary); Vitamins and Nutritional Supplements (Primary); Healthcare; Pharmaceutical Products; Pharmaceuticals; Pharmaceuticals; Pharmaceuticals, Biotechnology and Life Sciences'"
      ]
     },
     "execution_count": 12,
     "metadata": {
      "tags": []
     },
     "output_type": "execute_result"
    }
   ],
   "source": [
    "#If we observe the Column G which represents Industry Classification and which has all the Class labels for  a Multi-class Classification\n",
    "#It was n number of tags in each row , but as per the document we would just need the 1st tag in order to put a label to that datapoint\n",
    "training_data['Industry Classifications'][1]"
   ]
  },
  {
   "cell_type": "code",
   "execution_count": 13,
   "metadata": {
    "id": "tF1opk2slzMX"
   },
   "outputs": [],
   "source": [
    "# Getting just the 1st Tag in Industry Classification column for each row\n",
    "category_list = training_data['Industry Classifications'].values\n",
    "\n",
    "for i in range(len(category_list)):\n",
    "  category_list[i] = category_list[i].split(\";\")[0]\n",
    "  category_list[i] = category_list[i].replace('(Primary)', '')"
   ]
  },
  {
   "cell_type": "code",
   "execution_count": 14,
   "metadata": {
    "colab": {
     "base_uri": "https://localhost:8080/",
     "height": 406
    },
    "id": "BPVABbmjmUeF",
    "outputId": "cf84b2c6-4cfb-4350-a342-3a17bcde3415"
   },
   "outputs": [
    {
     "data": {
      "text/html": [
       "<div>\n",
       "<style scoped>\n",
       "    .dataframe tbody tr th:only-of-type {\n",
       "        vertical-align: middle;\n",
       "    }\n",
       "\n",
       "    .dataframe tbody tr th {\n",
       "        vertical-align: top;\n",
       "    }\n",
       "\n",
       "    .dataframe thead th {\n",
       "        text-align: right;\n",
       "    }\n",
       "</style>\n",
       "<table border=\"1\" class=\"dataframe\">\n",
       "  <thead>\n",
       "    <tr style=\"text-align: right;\">\n",
       "      <th></th>\n",
       "      <th>Business Description</th>\n",
       "      <th>Industry Classifications</th>\n",
       "    </tr>\n",
       "  </thead>\n",
       "  <tbody>\n",
       "    <tr>\n",
       "      <th>1</th>\n",
       "      <td>024 Pharma, Inc. provides healthcare products ...</td>\n",
       "      <td>Beauty Care Products</td>\n",
       "    </tr>\n",
       "    <tr>\n",
       "      <th>2</th>\n",
       "      <td>1-800-Flowers.com, Inc., together with its sub...</td>\n",
       "      <td>Catalog Flowers, Gifts and Novelties</td>\n",
       "    </tr>\n",
       "    <tr>\n",
       "      <th>3</th>\n",
       "      <td>12 Retech Corporation, through its subsidiarie...</td>\n",
       "      <td>Information Technology</td>\n",
       "    </tr>\n",
       "    <tr>\n",
       "      <th>4</th>\n",
       "      <td>1347 Property Insurance Holdings, Inc., throug...</td>\n",
       "      <td>Casualty</td>\n",
       "    </tr>\n",
       "    <tr>\n",
       "      <th>5</th>\n",
       "      <td>1847 Holdings LLC, through its subsidiaries, p...</td>\n",
       "      <td>Commercial and Professional Services</td>\n",
       "    </tr>\n",
       "    <tr>\n",
       "      <th>...</th>\n",
       "      <td>...</td>\n",
       "      <td>...</td>\n",
       "    </tr>\n",
       "    <tr>\n",
       "      <th>1998</th>\n",
       "      <td>Delhi Bank Corp. operates as a bank holding co...</td>\n",
       "      <td>Banks</td>\n",
       "    </tr>\n",
       "    <tr>\n",
       "      <th>1999</th>\n",
       "      <td>dELiA*s, Inc. operates as a multi-channel reta...</td>\n",
       "      <td>Catalog Apparel and Accessory Retail</td>\n",
       "    </tr>\n",
       "    <tr>\n",
       "      <th>2000</th>\n",
       "      <td>Delivery Technology Solutions, Inc. offers res...</td>\n",
       "      <td>Commercial and Professional Services</td>\n",
       "    </tr>\n",
       "    <tr>\n",
       "      <th>2001</th>\n",
       "      <td>Delmar Bancorp operates as the bank holding co...</td>\n",
       "      <td>Banks</td>\n",
       "    </tr>\n",
       "    <tr>\n",
       "      <th>2002</th>\n",
       "      <td>Delmarva Bancshares, Inc. operates as the bank...</td>\n",
       "      <td>Banks</td>\n",
       "    </tr>\n",
       "  </tbody>\n",
       "</table>\n",
       "<p>2002 rows × 2 columns</p>\n",
       "</div>"
      ],
      "text/plain": [
       "0                                  Business Description               Industry Classifications\n",
       "1     024 Pharma, Inc. provides healthcare products ...                  Beauty Care Products \n",
       "2     1-800-Flowers.com, Inc., together with its sub...  Catalog Flowers, Gifts and Novelties \n",
       "3     12 Retech Corporation, through its subsidiarie...                Information Technology \n",
       "4     1347 Property Insurance Holdings, Inc., throug...                              Casualty \n",
       "5     1847 Holdings LLC, through its subsidiaries, p...  Commercial and Professional Services \n",
       "...                                                 ...                                    ...\n",
       "1998  Delhi Bank Corp. operates as a bank holding co...                                 Banks \n",
       "1999  dELiA*s, Inc. operates as a multi-channel reta...  Catalog Apparel and Accessory Retail \n",
       "2000  Delivery Technology Solutions, Inc. offers res...  Commercial and Professional Services \n",
       "2001  Delmar Bancorp operates as the bank holding co...                                 Banks \n",
       "2002  Delmarva Bancshares, Inc. operates as the bank...                                 Banks \n",
       "\n",
       "[2002 rows x 2 columns]"
      ]
     },
     "execution_count": 14,
     "metadata": {
      "tags": []
     },
     "output_type": "execute_result"
    }
   ],
   "source": [
    "training_data['Industry Classifications'] = category_list\n",
    "training_data"
   ]
  },
  {
   "cell_type": "code",
   "execution_count": 15,
   "metadata": {
    "colab": {
     "base_uri": "https://localhost:8080/"
    },
    "id": "oCxNYgX6m5W8",
    "outputId": "4ea5a272-f1f8-4e0a-ee33-12e68e9e7327"
   },
   "outputs": [
    {
     "data": {
      "text/plain": [
       "Banks                                                                 241\n",
       "Healthcare                                                            153\n",
       "Biotechnology                                                         145\n",
       "Energy                                                                133\n",
       "Consumer Discretionary                                                117\n",
       "                                                                     ... \n",
       "Colleges, Universities, Professional Schools, and Junior Colleges       1\n",
       "Alcohol and Narcotic Testing Devices                                    1\n",
       "Athletic Footwear                                                       1\n",
       "Beverage Distribution                                                   1\n",
       "Materials                                                               1\n",
       "Name: Industry Classifications, Length: 202, dtype: int64"
      ]
     },
     "execution_count": 15,
     "metadata": {
      "tags": []
     },
     "output_type": "execute_result"
    }
   ],
   "source": [
    "# If we oberve here we have a lot of Class labels whose corresponding Dataponits are only 1.\n",
    "# This brings us a case a Class-Imbalance and need to be fixed\n",
    "training_data['Industry Classifications'].value_counts()"
   ]
  },
  {
   "cell_type": "markdown",
   "metadata": {
    "id": "ViCbyPznSiJZ"
   },
   "source": []
  },
  {
   "cell_type": "code",
   "execution_count": 16,
   "metadata": {
    "id": "Knn51NWqSpPi"
   },
   "outputs": [],
   "source": [
    "#Filtering rows in dataset which doesn't have alphabets in Industry Classifictions tags\n",
    "training_data = training_data[training_data['Industry Classifications'].str.contains('[A-Za-z]', na=False)] "
   ]
  },
  {
   "cell_type": "code",
   "execution_count": 17,
   "metadata": {
    "colab": {
     "base_uri": "https://localhost:8080/",
     "height": 723
    },
    "id": "aqGsnYI9nbN0",
    "outputId": "70800ead-3806-479d-fb4b-0e5d84f73e6d"
   },
   "outputs": [
    {
     "data": {
      "image/png": "[encoded data removed]",
      "text/plain": [
       "<Figure size 1584x720 with 1 Axes>"
      ]
     },
     "metadata": {
      "needs_background": "light",
      "tags": []
     },
     "output_type": "display_data"
    }
   ],
   "source": [
    "# Creating a Bar Graph in order to check Class Imbalance \n",
    "tags = dict(training_data['Industry Classifications'].value_counts())\n",
    "\n",
    "import matplotlib.pyplot as plt\n",
    "from matplotlib import text\n",
    "\n",
    "category = list(tags.keys())\n",
    "values = list(tags.values())\n",
    "\n",
    "plt.figure(figsize= (22,10))\n",
    "plt.bar(category , values)\n",
    "plt.xticks(category, rotation='vertical', size = 8)\n",
    "plt.text(40, 200, 'TAGS',size= 25 , color = 'blue')\n",
    "plt.yticks(size = 15)\n",
    "plt.show()"
   ]
  },
  {
   "cell_type": "code",
   "execution_count": 18,
   "metadata": {
    "colab": {
     "base_uri": "https://localhost:8080/"
    },
    "id": "mjg2PuFx1UUF",
    "outputId": "83138eba-b98d-4077-b33d-911101ca7a5b"
   },
   "outputs": [
    {
     "name": "stdout",
     "output_type": "stream",
     "text": [
      "0th Percentile:  1.0\n",
      "10th Percentile:  1.0\n",
      "20th Percentile:  1.0\n",
      "30th Percentile:  1.0\n",
      "40th Percentile:  2.0\n",
      "50th Percentile:  2.0\n",
      "60th Percentile:  3.0\n",
      "70th Percentile:  4.0\n",
      "80th Percentile:  8.0\n",
      "90th Percentile:  15.0\n",
      "100th Percentile:  241.0\n"
     ]
    }
   ],
   "source": [
    "# In order to fix this class imbalance we need to Find a Elbow point , more like a threshold value so that we can upsample our data\n",
    "# till that n number of points . Here we are using percentile values\n",
    "import numpy as np\n",
    "for i in range(0,101,10):\n",
    "  print(str(i) +'th Percentile: ', np.percentile(values, i))"
   ]
  },
  {
   "cell_type": "code",
   "execution_count": 19,
   "metadata": {
    "colab": {
     "base_uri": "https://localhost:8080/"
    },
    "id": "dmLOuyon3PLr",
    "outputId": "37ad83dc-5145-4f44-c9ce-af94917185a5"
   },
   "outputs": [
    {
     "name": "stdout",
     "output_type": "stream",
     "text": [
      "90th Percentile:  15.0\n",
      "91th Percentile:  17.0\n",
      "92th Percentile:  18.0\n",
      "93th Percentile:  23.0\n",
      "94th Percentile:  28.0\n",
      "95th Percentile:  32.0\n",
      "96th Percentile:  50.0\n",
      "97th Percentile:  88.0\n",
      "98th Percentile:  117.0\n",
      "99th Percentile:  145.0\n",
      "100th Percentile:  241.0\n"
     ]
    }
   ],
   "source": [
    "for i in range(90,101,1):\n",
    "  print(str(i) +'th Percentile: ', np.percentile(values, i))"
   ]
  },
  {
   "cell_type": "markdown",
   "metadata": {
    "id": "E3CN3Cscs0kd"
   },
   "source": [
    "So we would consider the value at 96th percentile i.e, 50 in order to do the upsampling"
   ]
  },
  {
   "cell_type": "code",
   "execution_count": 20,
   "metadata": {
    "colab": {
     "base_uri": "https://localhost:8080/"
    },
    "id": "PU-CrWqiuRMJ",
    "outputId": "43443868-3eff-42d2-f60c-87a34ac9f686"
   },
   "outputs": [
    {
     "name": "stdout",
     "output_type": "stream",
     "text": [
      "Number of Class label which has datapoints below Thrshold level:  192\n"
     ]
    }
   ],
   "source": [
    "threshold_value = 50\n",
    "class_label = []\n",
    "for key, value in tags.items():\n",
    "  if value < threshold_value:\n",
    "    class_label.append(key)\n",
    "\n",
    "print('Number of Class label which has datapoints below Thrshold level: ', len(class_label))"
   ]
  },
  {
   "cell_type": "markdown",
   "metadata": {
    "id": "J7vHzJrvtUpk"
   },
   "source": [
    "So we need to upsample a total of 193 class labels"
   ]
  },
  {
   "cell_type": "code",
   "execution_count": 21,
   "metadata": {
    "colab": {
     "base_uri": "https://localhost:8080/"
    },
    "id": "AYh3gW6iw7gS",
    "outputId": "ec9df165-e6ab-4ea0-8b5b-52802aadfdc6"
   },
   "outputs": [
    {
     "data": {
      "text/plain": [
       "Banks                                    241\n",
       "Healthcare                               153\n",
       "Biotechnology                            145\n",
       "Energy                                   133\n",
       "Consumer Discretionary                   117\n",
       "                                        ... \n",
       "Catalog Apparel and Accessory Retail      50\n",
       "Calling Card Provider Services            50\n",
       "Casualty Reinsurance Carriers             50\n",
       "E-Commerce Software                       50\n",
       "Catalog Flowers, Gifts and Novelties      50\n",
       "Name: Industry Classifications, Length: 201, dtype: int64"
      ]
     },
     "execution_count": 21,
     "metadata": {
      "tags": []
     },
     "output_type": "execute_result"
    }
   ],
   "source": [
    "from sklearn.utils import resample\n",
    "\n",
    "for i in class_label:\n",
    "  df_minority = training_data[training_data['Industry Classifications'] == i]\n",
    "  df_minority_upsampled = resample(df_minority, replace=True, n_samples= 49 , random_state= 100)\n",
    "  training_data = pd.concat([training_data, df_minority_upsampled], ignore_index= True)\n",
    "\n",
    "training_data['Industry Classifications'].value_counts()"
   ]
  },
  {
   "cell_type": "code",
   "execution_count": 22,
   "metadata": {
    "colab": {
     "base_uri": "https://localhost:8080/",
     "height": 723
    },
    "id": "g06TUMX5oGSQ",
    "outputId": "1bd65bf6-711b-4ecd-8b62-63b9eac223c0"
   },
   "outputs": [
    {
     "data": {
      "image/png": "[encoded data removed]",
      "text/plain": [
       "<Figure size 1584x720 with 1 Axes>"
      ]
     },
     "metadata": {
      "needs_background": "light",
      "tags": []
     },
     "output_type": "display_data"
    }
   ],
   "source": [
    "# Bar plot Visualization after upsampling\n",
    "tags = dict(training_data['Industry Classifications'].value_counts())\n",
    "\n",
    "import matplotlib.pyplot as plt\n",
    "from matplotlib import text\n",
    "\n",
    "category = list(tags.keys())\n",
    "values = list(tags.values())\n",
    "\n",
    "plt.figure(figsize= (22,10))\n",
    "plt.bar(category , values)\n",
    "plt.xticks(category, rotation='vertical', size = 8)\n",
    "plt.text(40, 200, 'TAGS',size= 25 , color = 'blue')\n",
    "plt.yticks(size = 15)\n",
    "plt.show()"
   ]
  },
  {
   "cell_type": "code",
   "execution_count": 23,
   "metadata": {
    "colab": {
     "base_uri": "https://localhost:8080/"
    },
    "id": "zlJfqJUuQErB",
    "outputId": "22b1b7a7-adcd-4fbd-fb69-2a43c776003d"
   },
   "outputs": [
    {
     "name": "stdout",
     "output_type": "stream",
     "text": [
      "Number of Datapoints after Upsampling:  11399\n"
     ]
    }
   ],
   "source": [
    "print('Number of Datapoints after Upsampling: ', len(training_data))"
   ]
  },
  {
   "cell_type": "markdown",
   "metadata": {
    "id": "_AHVYSxsyed2"
   },
   "source": [
    "# Text Featurization:"
   ]
  },
  {
   "cell_type": "code",
   "execution_count": 24,
   "metadata": {
    "colab": {
     "base_uri": "https://localhost:8080/"
    },
    "id": "BkzEj_CdtoFq",
    "outputId": "394cb53b-9f31-4f94-b5e7-1a70187f8da7"
   },
   "outputs": [
    {
     "name": "stdout",
     "output_type": "stream",
     "text": [
      "[nltk_data] Downloading package stopwords to /root/nltk_data...\n",
      "[nltk_data]   Package stopwords is already up-to-date!\n",
      "[nltk_data] Downloading package punkt to /root/nltk_data...\n",
      "[nltk_data]   Package punkt is already up-to-date!\n",
      "[nltk_data] Downloading package averaged_perceptron_tagger to\n",
      "[nltk_data]     /root/nltk_data...\n",
      "[nltk_data]   Package averaged_perceptron_tagger is already up-to-\n",
      "[nltk_data]       date!\n",
      "[nltk_data] Downloading package maxent_ne_chunker to\n",
      "[nltk_data]     /root/nltk_data...\n",
      "[nltk_data]   Package maxent_ne_chunker is already up-to-date!\n",
      "[nltk_data] Downloading package words to /root/nltk_data...\n",
      "[nltk_data]   Package words is already up-to-date!\n"
     ]
    },
    {
     "data": {
      "text/plain": [
       "True"
      ]
     },
     "execution_count": 24,
     "metadata": {
      "tags": []
     },
     "output_type": "execute_result"
    }
   ],
   "source": [
    "import nltk\n",
    "nltk.download('stopwords')\n",
    "from nltk.corpus import stopwords\n",
    "stop = stopwords.words('english') #importing stopwords to remove them from text data\n",
    "\n",
    "nltk.download('punkt')\n",
    "nltk.download('averaged_perceptron_tagger')\n",
    "nltk.download('maxent_ne_chunker')\n",
    "nltk.download('words') # these dowmloads will help us to remove unecessary verbs from your Texts"
   ]
  },
  {
   "cell_type": "code",
   "execution_count": 25,
   "metadata": {
    "id": "JFfmcf9WzA6g"
   },
   "outputs": [],
   "source": [
    "#Here I have customly Designed a Fuction will take care of entire Text Preprocessing in one go :\n",
    "def chunking(text):\n",
    "  verb_list = []\n",
    "  chunk = nltk.ne_chunk(nltk.pos_tag(nltk.word_tokenize(text)))\n",
    "  if hasattr(chunk, 'label'):\n",
    "    for i in chunk.leaves():\n",
    "      #print(i)\n",
    "      if i[1] == 'VBZ' or i[1] == 'VBN': # we are removing verbs which doesn't play a vital role for your classification purpose\n",
    "        #print(i[0])\n",
    "        verb_list.append(i[0])\n",
    "  #print(verb_list)\n",
    "  for word in verb_list:\n",
    "    text = text.replace(word, '')\n",
    "  return text\n",
    "\n",
    "def text_preprocessing(dataframe, column_name):\n",
    "  import re\n",
    "  #Regex Preprocessing\n",
    "  dataframe[column_name] = dataframe[column_name].apply(lambda x :  x.lower())\n",
    "  dataframe[column_name] = dataframe[column_name].apply(lambda x : re.sub(r'\\([^()]*\\)', '', x))\n",
    "  dataframe[column_name] = dataframe[column_name].apply(lambda x : re.sub(r'[\\n]+' , '\\n' , x))\n",
    "  dataframe[column_name] = dataframe[column_name].apply(lambda x : x.replace('\\'',' '))\n",
    "  dataframe[column_name] = dataframe[column_name].apply(lambda x : x.replace('/',' '))\n",
    "  dataframe[column_name] = dataframe[column_name].apply(lambda x : re.sub(r\"[']\" , '' , x))\n",
    "  dataframe[column_name] = dataframe[column_name].apply(lambda x :  re.sub(r'[0-9]+' , '' , x))\n",
    "  dataframe[column_name] = dataframe[column_name].apply(lambda x :  re.sub(r'[,;:.-]+' , '' , x))\n",
    "  dataframe[column_name] = dataframe[column_name].apply(lambda x :  ' '.join([w for w in x.split() if len(w)>2]))\n",
    "  dataframe[column_name] = dataframe[column_name].apply(lambda x :  re.sub(r'\\s+',' ', x))\n",
    "  #Removing Stopwords\n",
    "  dataframe[column_name] = dataframe[column_name].apply(lambda x: ' '.join([word for word in x.split() if word not in (stop)]))\n",
    "  #Chunking\n",
    "  dataframe[column_name] = dataframe[column_name].apply(chunking)\n",
    "  dataframe[column_name] = dataframe[column_name].apply(lambda x :  re.sub(r'\\s+',' ', x))\n",
    "  \n",
    "  return dataframe"
   ]
  },
  {
   "cell_type": "markdown",
   "metadata": {
    "id": "2mCesg7m1p2T"
   },
   "source": [
    "# Splitting Dataset for Traning and Cross Validation:"
   ]
  },
  {
   "cell_type": "code",
   "execution_count": 26,
   "metadata": {
    "colab": {
     "base_uri": "https://localhost:8080/"
    },
    "id": "tLNvhJNpOrh4",
    "outputId": "7b682bcf-a61a-49cf-bf09-52ed662f6f5f"
   },
   "outputs": [
    {
     "name": "stdout",
     "output_type": "stream",
     "text": [
      "Training Data Shape:  (9119, 2)\n",
      "Cross Validation Data Shape:  (2280, 2)\n"
     ]
    }
   ],
   "source": [
    "from sklearn.model_selection import train_test_split\n",
    "\n",
    "X_train , X_cv = train_test_split(training_data, test_size = 0.2, stratify = training_data['Industry Classifications'])\n",
    "\n",
    "print('Training Data Shape: ', X_train.shape)\n",
    "print('Cross Validation Data Shape: ', X_cv.shape)"
   ]
  },
  {
   "cell_type": "code",
   "execution_count": 27,
   "metadata": {
    "colab": {
     "base_uri": "https://localhost:8080/"
    },
    "id": "1QaxM0ZCPm14",
    "outputId": "3be2e7d6-344a-4eb8-9a06-41abc4426cc5"
   },
   "outputs": [
    {
     "name": "stdout",
     "output_type": "stream",
     "text": [
      "Shape of Training Class label Data:  (9119, 201)\n",
      "Shape of Cross-Validation Class label Data:  (2280, 201)\n"
     ]
    }
   ],
   "source": [
    "# One hot Encoding Class Labels\n",
    "y_train = X_train['Industry Classifications']\n",
    "y_cv = X_cv['Industry Classifications']\n",
    "\n",
    "from sklearn.preprocessing import LabelEncoder\n",
    "from tensorflow.keras.utils import to_categorical\n",
    "\n",
    "le = LabelEncoder()\n",
    "#Traning Class labels\n",
    "y_train = le.fit_transform(y_train)\n",
    "y_train = to_categorical(y_train)\n",
    "print('Shape of Training Class label Data: ', y_train.shape)\n",
    "#Cross-validation Class labels\n",
    "y_cv = le.transform(y_cv)\n",
    "y_cv = to_categorical(y_cv)\n",
    "print('Shape of Cross-Validation Class label Data: ', y_cv.shape)"
   ]
  },
  {
   "cell_type": "code",
   "execution_count": null,
   "metadata": {
    "id": "tOCsS1PJ16VQ"
   },
   "outputs": [],
   "source": [
    "# Text Featurization:\n",
    "preprocess_train= text_preprocessing(X_train, 'Business Description')\n",
    "preprocess_cv = text_preprocessing(X_cv, 'Business Description')\n",
    "\n",
    "X_train_text = preprocess_train['Business Description']\n",
    "X_cv_text = preprocess_cv['Business Description']"
   ]
  },
  {
   "cell_type": "markdown",
   "metadata": {
    "id": "906c61Wp5Q0p"
   },
   "source": [
    "Now we have our Preprocessed Text and One hot encoed class labels ready for Vectorizer/Embedding followed by Traning and cross-validation"
   ]
  },
  {
   "cell_type": "markdown",
   "metadata": {
    "id": "xi5TTN0_5dIR"
   },
   "source": [
    "# Count_Vectorizer(Bag of Words):"
   ]
  },
  {
   "cell_type": "code",
   "execution_count": 29,
   "metadata": {
    "colab": {
     "base_uri": "https://localhost:8080/"
    },
    "id": "5fb0cRm-pv1b",
    "outputId": "7ae82e5d-119c-495b-9e5f-c931a65da912"
   },
   "outputs": [
    {
     "data": {
      "text/plain": [
       "CountVectorizer(analyzer='word', binary=False, decode_error='strict',\n",
       "                dtype=<class 'numpy.int64'>, encoding='utf-8', input='content',\n",
       "                lowercase=True, max_df=1.0, max_features=None, min_df=1,\n",
       "                ngram_range=(1, 1), preprocessor=None, stop_words=None,\n",
       "                strip_accents=None, token_pattern='(?u)\\\\b\\\\w\\\\w+\\\\b',\n",
       "                tokenizer=None, vocabulary=None)"
      ]
     },
     "execution_count": 29,
     "metadata": {
      "tags": []
     },
     "output_type": "execute_result"
    }
   ],
   "source": [
    "from sklearn.feature_extraction.text import CountVectorizer\n",
    "\n",
    "Bow_Vectorizer = CountVectorizer()\n",
    "Bow_Vectorizer.fit(X_train_text)"
   ]
  },
  {
   "cell_type": "code",
   "execution_count": 30,
   "metadata": {
    "colab": {
     "base_uri": "https://localhost:8080/"
    },
    "id": "1VHatnqwrIlp",
    "outputId": "5501dce0-434b-46af-d65c-6bed9a7a2be0"
   },
   "outputs": [
    {
     "name": "stdout",
     "output_type": "stream",
     "text": [
      "Shape of Bussiness Description Training Data After Vectorization:  (9119, 17171)\n",
      "Shape of Training Class label Data:  (9119, 201)\n",
      "Shape of Bussiness Description Cross-Validation Data After Vectorization:  (2280, 17171)\n",
      "Shape of Cross validation Class label Data:  (2280, 201)\n"
     ]
    }
   ],
   "source": [
    "x_train_text_bow = Bow_Vectorizer.transform(X_train_text)\n",
    "x_cv_text_bow = Bow_Vectorizer.transform(X_cv_text)\n",
    "\n",
    "print('Shape of Bussiness Description Training Data After Vectorization: ',x_train_text_bow.shape)\n",
    "print('Shape of Training Class label Data: ',y_train.shape)\n",
    "print('Shape of Bussiness Description Cross-Validation Data After Vectorization: ',x_cv_text_bow.shape)\n",
    "print('Shape of Cross validation Class label Data: ', y_cv.shape)"
   ]
  },
  {
   "cell_type": "markdown",
   "metadata": {
    "id": "zEbcFd3m5z4Y"
   },
   "source": [
    "Now we will use different models on the text features we go ready from Bag of Words Technique "
   ]
  },
  {
   "cell_type": "markdown",
   "metadata": {
    "id": "HISaSc8f5zzM"
   },
   "source": [
    "**Random Forest**"
   ]
  },
  {
   "cell_type": "code",
   "execution_count": 31,
   "metadata": {
    "colab": {
     "base_uri": "https://localhost:8080/"
    },
    "id": "FECtMIRybEdJ",
    "outputId": "28753305-5960-4130-9f4f-a6e3b018f70b"
   },
   "outputs": [
    {
     "data": {
      "text/plain": [
       "RandomForestClassifier(bootstrap=True, ccp_alpha=0.0, class_weight=None,\n",
       "                       criterion='gini', max_depth=None, max_features='auto',\n",
       "                       max_leaf_nodes=None, max_samples=None,\n",
       "                       min_impurity_decrease=0.0, min_impurity_split=None,\n",
       "                       min_samples_leaf=1, min_samples_split=2,\n",
       "                       min_weight_fraction_leaf=0.0, n_estimators=200,\n",
       "                       n_jobs=None, oob_score=False, random_state=None,\n",
       "                       verbose=0, warm_start=False)"
      ]
     },
     "execution_count": 31,
     "metadata": {
      "tags": []
     },
     "output_type": "execute_result"
    }
   ],
   "source": [
    "from sklearn.ensemble import RandomForestClassifier\n",
    "\n",
    "model = RandomForestClassifier(n_estimators= 200)\n",
    "model.fit(x_train_text_bow, y_train)"
   ]
  },
  {
   "cell_type": "code",
   "execution_count": 32,
   "metadata": {
    "colab": {
     "base_uri": "https://localhost:8080/"
    },
    "id": "nD5kKk32ctSG",
    "outputId": "ea204b33-bfab-4df1-ea7e-e3289db2960c"
   },
   "outputs": [
    {
     "name": "stdout",
     "output_type": "stream",
     "text": [
      "Shape of predicted value for Cross_valiidation:  (2280, 201)\n",
      "Cross-Validation _Results:\n",
      "\n",
      "Confusion Matrix:\n",
      "[[11  0  0 ...  0  0  0]\n",
      " [ 0 10  0 ...  0  0  0]\n",
      " [ 0  0 10 ...  0  0  0]\n",
      " ...\n",
      " [ 0  0  0 ... 10  0  0]\n",
      " [ 0  0  0 ...  0 10  0]\n",
      " [ 0  0  0 ...  0  0 12]]\n",
      "Micro F1-Score 0.959890610756609\n"
     ]
    }
   ],
   "source": [
    "from sklearn.metrics import confusion_matrix , classification_report, f1_score\n",
    "\n",
    "#Predicting the class labels for cross-validation report \n",
    "y_pred = model.predict(x_cv_text_bow)\n",
    "print('Shape of predicted value for Cross_valiidation: ',y_pred.shape)\n",
    "\n",
    "print('Cross-Validation _Results:\\n')\n",
    "matrix = confusion_matrix(y_cv.argmax(axis=1), y_pred.argmax(axis=1))\n",
    "print('Confusion Matrix:')\n",
    "print(matrix)\n",
    "\n",
    "print('Micro F1-Score', f1_score(y_cv, y_pred , average= 'micro'))"
   ]
  },
  {
   "cell_type": "markdown",
   "metadata": {
    "id": "CtHh9covCPpi"
   },
   "source": [
    "Multi Layer Perceptron Model (MLP Classifier):"
   ]
  },
  {
   "cell_type": "code",
   "execution_count": 33,
   "metadata": {
    "colab": {
     "base_uri": "https://localhost:8080/"
    },
    "id": "2OjI1ZvuCaD4",
    "outputId": "a337a53a-6b28-4f2c-e332-d4b5df5979c0"
   },
   "outputs": [
    {
     "data": {
      "text/plain": [
       "MLPClassifier(activation='relu', alpha=0.0001, batch_size='auto', beta_1=0.9,\n",
       "              beta_2=0.999, early_stopping=False, epsilon=1e-08,\n",
       "              hidden_layer_sizes=[100, 100, 100, 100, 100],\n",
       "              learning_rate='constant', learning_rate_init=0.001, max_fun=15000,\n",
       "              max_iter=200, momentum=0.9, n_iter_no_change=10,\n",
       "              nesterovs_momentum=True, power_t=0.5, random_state=None,\n",
       "              shuffle=True, solver='adam', tol=0.0001, validation_fraction=0.1,\n",
       "              verbose=False, warm_start=False)"
      ]
     },
     "execution_count": 33,
     "metadata": {
      "tags": []
     },
     "output_type": "execute_result"
    }
   ],
   "source": [
    "from sklearn.neural_network import MLPClassifier\n",
    "mlp_classifier = MLPClassifier(hidden_layer_sizes = [100]*5, activation= 'relu') #Five hidden layers with 100 units\n",
    "mlp_classifier.fit(x_train_text_bow, y_train)"
   ]
  },
  {
   "cell_type": "code",
   "execution_count": 34,
   "metadata": {
    "colab": {
     "base_uri": "https://localhost:8080/"
    },
    "id": "ESrQ0PH7C5Zd",
    "outputId": "7b8ee36e-3883-40c1-a128-b17f5d9388cf"
   },
   "outputs": [
    {
     "name": "stdout",
     "output_type": "stream",
     "text": [
      "Shape of predicted value for Cross_valiidation:  (2280, 201)\n",
      "Cross-Validation _Results:\n",
      "\n",
      "Confusion Matrix:\n",
      "[[11  0  0 ...  0  0  0]\n",
      " [ 0 10  0 ...  0  0  0]\n",
      " [ 0  0 10 ...  0  0  0]\n",
      " ...\n",
      " [ 0  0  0 ... 10  0  0]\n",
      " [ 0  0  0 ...  0 10  0]\n",
      " [ 0  0  0 ...  0  0 12]]\n",
      "Micro F1-Score 0.9607620775686098\n"
     ]
    }
   ],
   "source": [
    "from sklearn.metrics import confusion_matrix , classification_report, f1_score\n",
    "\n",
    "#Predicting the class labels for cross-validation report \n",
    "y_pred = mlp_classifier.predict(x_cv_text_bow)\n",
    "print('Shape of predicted value for Cross_valiidation: ',y_pred.shape)\n",
    "\n",
    "print('Cross-Validation _Results:\\n')\n",
    "matrix = confusion_matrix(y_cv.argmax(axis=1), y_pred.argmax(axis=1))\n",
    "print('Confusion Matrix:')\n",
    "print(matrix)\n",
    "\n",
    "print('Micro F1-Score', f1_score(y_cv, y_pred , average= 'micro'))"
   ]
  },
  {
   "cell_type": "markdown",
   "metadata": {
    "id": "mgW8HifsDMmD"
   },
   "source": [
    "Support Vector Machine(SVM) :"
   ]
  },
  {
   "cell_type": "markdown",
   "metadata": {
    "id": "nWRe3759Kquj"
   },
   "source": [
    "Since we cannot use SVM directly for a Multi-class Classification task we would need OneVsRestClassifier from sklearn to do the multi-class classification task using SVM and same in the case of XGBOOST"
   ]
  },
  {
   "cell_type": "code",
   "execution_count": 52,
   "metadata": {
    "colab": {
     "base_uri": "https://localhost:8080/"
    },
    "id": "lTujngALDLzc",
    "outputId": "a684cd8f-b8ac-4ece-b210-f53d1f4e5839"
   },
   "outputs": [
    {
     "data": {
      "text/plain": [
       "OneVsRestClassifier(estimator=SVC(C=1.0, break_ties=False, cache_size=200,\n",
       "                                  class_weight=None, coef0=0.0,\n",
       "                                  decision_function_shape='ovr', degree=3,\n",
       "                                  gamma='scale', kernel='rbf', max_iter=-1,\n",
       "                                  probability=False, random_state=None,\n",
       "                                  shrinking=True, tol=0.001, verbose=False),\n",
       "                    n_jobs=None)"
      ]
     },
     "execution_count": 52,
     "metadata": {
      "tags": []
     },
     "output_type": "execute_result"
    }
   ],
   "source": [
    "from sklearn.svm import SVC\n",
    "from sklearn.multiclass import OneVsRestClassifier\n",
    "svm_classifier = OneVsRestClassifier(SVC(decision_function_shape='ovr', kernel= 'rbf'))\n",
    "svm_classifier.fit(x_train_text_bow, y_train)"
   ]
  },
  {
   "cell_type": "code",
   "execution_count": 53,
   "metadata": {
    "colab": {
     "base_uri": "https://localhost:8080/"
    },
    "id": "RU739By7Da3H",
    "outputId": "30301e95-91b1-4789-d7e5-615114362fb7"
   },
   "outputs": [
    {
     "name": "stdout",
     "output_type": "stream",
     "text": [
      "Shape of predicted value for Cross_valiidation:  (2280, 201)\n",
      "Cross-Validation _Results:\n",
      "\n",
      "Confusion Matrix:\n",
      "[[11  0  0 ...  0  0  0]\n",
      " [ 0 10  0 ...  0  0  0]\n",
      " [ 0  0 10 ...  0  0  0]\n",
      " ...\n",
      " [ 0  0  0 ... 10  0  0]\n",
      " [ 0  0  0 ...  0 10  0]\n",
      " [ 1  0  0 ...  0  0 11]]\n",
      "Micro F1-Score 0.9340813464235623\n"
     ]
    }
   ],
   "source": [
    "from sklearn.metrics import confusion_matrix , classification_report, f1_score\n",
    "\n",
    "#Predicting the class labels for cross-validation report \n",
    "y_pred = svm_classifier.predict(x_cv_text_bow)\n",
    "print('Shape of predicted value for Cross_valiidation: ',y_pred.shape)\n",
    "\n",
    "print('Cross-Validation _Results:\\n')\n",
    "matrix = confusion_matrix(y_cv.argmax(axis=1), y_pred.argmax(axis=1))\n",
    "print('Confusion Matrix:')\n",
    "print(matrix)\n",
    "\n",
    "print('Micro F1-Score', f1_score(y_cv, y_pred , average= 'micro'))"
   ]
  },
  {
   "cell_type": "code",
   "execution_count": 54,
   "metadata": {
    "colab": {
     "base_uri": "https://localhost:8080/"
    },
    "id": "RWIxxZRfKDBi",
    "outputId": "24d3f89e-abdc-427e-d4bf-7ea1e16bf1bd"
   },
   "outputs": [
    {
     "data": {
      "text/plain": [
       "OneVsRestClassifier(estimator=XGBClassifier(base_score=0.5, booster='gbtree',\n",
       "                                            colsample_bylevel=1,\n",
       "                                            colsample_bynode=1,\n",
       "                                            colsample_bytree=1, gamma=0,\n",
       "                                            learning_rate=0.1, max_delta_step=0,\n",
       "                                            max_depth=3, min_child_weight=1,\n",
       "                                            missing=None, n_estimators=100,\n",
       "                                            n_jobs=1, nthread=None,\n",
       "                                            objective='binary:logistic',\n",
       "                                            random_state=0, reg_alpha=0,\n",
       "                                            reg_lambda=1, scale_pos_weight=1,\n",
       "                                            seed=None, silent=None, subsample=1,\n",
       "                                            verbosity=1),\n",
       "                    n_jobs=None)"
      ]
     },
     "execution_count": 54,
     "metadata": {
      "tags": []
     },
     "output_type": "execute_result"
    }
   ],
   "source": [
    "from xgboost import XGBClassifier\n",
    "xgb_classifier = OneVsRestClassifier(XGBClassifier())\n",
    "xgb_classifier.fit(x_train_text_bow, y_train)"
   ]
  },
  {
   "cell_type": "code",
   "execution_count": 55,
   "metadata": {
    "colab": {
     "base_uri": "https://localhost:8080/"
    },
    "id": "6rcxaJTBKdgG",
    "outputId": "7aa4c5f2-09d3-4c07-9fea-51ad174c9626"
   },
   "outputs": [
    {
     "name": "stdout",
     "output_type": "stream",
     "text": [
      "Shape of predicted value for Cross_valiidation:  (2280, 201)\n",
      "Cross-Validation _Results:\n",
      "\n",
      "Confusion Matrix:\n",
      "[[11  0  0 ...  0  0  0]\n",
      " [ 0 10  0 ...  0  0  0]\n",
      " [ 0  0 10 ...  0  0  0]\n",
      " ...\n",
      " [ 0  0  0 ... 10  0  0]\n",
      " [ 0  0  0 ...  0 10  0]\n",
      " [ 0  0  0 ...  0  0 12]]\n",
      "Micro F1-Score 0.9501600365797896\n"
     ]
    }
   ],
   "source": [
    "from sklearn.metrics import confusion_matrix , classification_report, f1_score\n",
    "\n",
    "#Predicting the class labels for cross-validation report \n",
    "y_pred = xgb_classifier.predict(x_cv_text_bow)\n",
    "print('Shape of predicted value for Cross_valiidation: ',y_pred.shape)\n",
    "\n",
    "print('Cross-Validation _Results:\\n')\n",
    "matrix = confusion_matrix(y_cv.argmax(axis=1), y_pred.argmax(axis=1))\n",
    "print('Confusion Matrix:')\n",
    "print(matrix)\n",
    "\n",
    "print('Micro F1-Score', f1_score(y_cv, y_pred , average= 'micro'))"
   ]
  },
  {
   "cell_type": "markdown",
   "metadata": {
    "id": "TDbvI0t3GAon"
   },
   "source": [
    "So, the best performance for BagofWords Technique of Featurization was showm by an MLP Classifier with 5 hidden layers with 100 units with relu activation function"
   ]
  },
  {
   "cell_type": "markdown",
   "metadata": {
    "id": "bEJ3sltXEDA1"
   },
   "source": [
    "# TF-IDF Vectorizer:"
   ]
  },
  {
   "cell_type": "code",
   "execution_count": 57,
   "metadata": {
    "colab": {
     "base_uri": "https://localhost:8080/"
    },
    "id": "IJf0Fee7duE_",
    "outputId": "591b8f26-e78d-48c9-9389-d86dafc710a3"
   },
   "outputs": [
    {
     "name": "stdout",
     "output_type": "stream",
     "text": [
      "Shape of Bussiness Description Training Data After Vectorization:  (9119, 17171)\n",
      "Shape of Training Class label Data:  (9119, 201)\n",
      "Shape of Bussiness Description Cross-Validation Data After Vectorization:  (2280, 17171)\n",
      "Shape of Cross validation Class label Data:  (2280, 201)\n"
     ]
    }
   ],
   "source": [
    "from sklearn.feature_extraction.text import TfidfVectorizer\n",
    "\n",
    "Vectorizer = TfidfVectorizer()\n",
    "Vectorizer.fit(X_train_text)\n",
    "\n",
    "x_train_text_tfidf = Vectorizer.transform(X_train_text)\n",
    "x_cv_text_tfidf = Vectorizer.transform(X_cv_text)\n",
    "\n",
    "print('Shape of Bussiness Description Training Data After Vectorization: ',x_train_text_tfidf.shape)\n",
    "print('Shape of Training Class label Data: ',y_train.shape)\n",
    "print('Shape of Bussiness Description Cross-Validation Data After Vectorization: ',x_cv_text_tfidf.shape)\n",
    "print('Shape of Cross validation Class label Data: ', y_cv.shape)"
   ]
  },
  {
   "cell_type": "markdown",
   "metadata": {
    "id": "N4Vq_9gQEdhv"
   },
   "source": [
    "Random Forest:"
   ]
  },
  {
   "cell_type": "code",
   "execution_count": 58,
   "metadata": {
    "colab": {
     "base_uri": "https://localhost:8080/"
    },
    "id": "8HFBV79zd9r6",
    "outputId": "33846a1b-937a-4aa7-aaea-d06047a8e784"
   },
   "outputs": [
    {
     "data": {
      "text/plain": [
       "RandomForestClassifier(bootstrap=True, ccp_alpha=0.0, class_weight=None,\n",
       "                       criterion='gini', max_depth=None, max_features='auto',\n",
       "                       max_leaf_nodes=None, max_samples=None,\n",
       "                       min_impurity_decrease=0.0, min_impurity_split=None,\n",
       "                       min_samples_leaf=1, min_samples_split=2,\n",
       "                       min_weight_fraction_leaf=0.0, n_estimators=200,\n",
       "                       n_jobs=None, oob_score=False, random_state=None,\n",
       "                       verbose=0, warm_start=False)"
      ]
     },
     "execution_count": 58,
     "metadata": {
      "tags": []
     },
     "output_type": "execute_result"
    }
   ],
   "source": [
    "from sklearn.ensemble import RandomForestClassifier\n",
    "\n",
    "rf_tfidf = RandomForestClassifier(n_estimators= 200)\n",
    "rf_tfidf.fit(x_train_text_tfidf, y_train)"
   ]
  },
  {
   "cell_type": "code",
   "execution_count": 59,
   "metadata": {
    "colab": {
     "base_uri": "https://localhost:8080/"
    },
    "id": "KFgeDF4VeG0O",
    "outputId": "dd181ab5-5dfc-4a91-bced-259d0b07d981"
   },
   "outputs": [
    {
     "name": "stdout",
     "output_type": "stream",
     "text": [
      "Shape of predicted value for Cross_valiidation:  (2280, 201)\n",
      "Cross-Validation _Results:\n",
      "\n",
      "Confusion Matrix:\n",
      "[[11  0  0 ...  0  0  0]\n",
      " [ 0 10  0 ...  0  0  0]\n",
      " [ 0  0 10 ...  0  0  0]\n",
      " ...\n",
      " [ 0  0  0 ... 10  0  0]\n",
      " [ 0  0  0 ...  0 10  0]\n",
      " [ 0  0  0 ...  0  0 12]]\n",
      "F1-Score 0.9603644646924829\n"
     ]
    }
   ],
   "source": [
    "from sklearn.metrics import confusion_matrix , classification_report, f1_score\n",
    "\n",
    "#Predicting the class labels for cross-validation report \n",
    "y_pred = rf_tfidf.predict(x_cv_text_tfidf)\n",
    "print('Shape of predicted value for Cross_valiidation: ',y_pred.shape)\n",
    "\n",
    "print('Cross-Validation _Results:\\n')\n",
    "matrix = confusion_matrix(y_cv.argmax(axis=1), y_pred.argmax(axis=1))\n",
    "print('Confusion Matrix:')\n",
    "print(matrix)\n",
    "\n",
    "print('F1-Score', f1_score(y_cv, y_pred , average= 'micro'))"
   ]
  },
  {
   "cell_type": "markdown",
   "metadata": {
    "id": "fbklUeVoEkWl"
   },
   "source": [
    "Multi Layer Perceptron(MLP Classifier):"
   ]
  },
  {
   "cell_type": "code",
   "execution_count": 60,
   "metadata": {
    "colab": {
     "base_uri": "https://localhost:8080/"
    },
    "id": "Y5bA6udJEiiJ",
    "outputId": "f735de58-6ee8-4d2c-b434-19737b786962"
   },
   "outputs": [
    {
     "data": {
      "text/plain": [
       "MLPClassifier(activation='relu', alpha=0.0001, batch_size='auto', beta_1=0.9,\n",
       "              beta_2=0.999, early_stopping=False, epsilon=1e-08,\n",
       "              hidden_layer_sizes=[100, 100, 100, 100, 100],\n",
       "              learning_rate='constant', learning_rate_init=0.001, max_fun=15000,\n",
       "              max_iter=200, momentum=0.9, n_iter_no_change=10,\n",
       "              nesterovs_momentum=True, power_t=0.5, random_state=None,\n",
       "              shuffle=True, solver='adam', tol=0.0001, validation_fraction=0.1,\n",
       "              verbose=False, warm_start=False)"
      ]
     },
     "execution_count": 60,
     "metadata": {
      "tags": []
     },
     "output_type": "execute_result"
    }
   ],
   "source": [
    "from sklearn.neural_network import MLPClassifier\n",
    "mlp_tfidf_classifier = MLPClassifier(hidden_layer_sizes = [100]*5, activation= 'relu') #Five hidden layers with 100 units\n",
    "mlp_tfidf_classifier.fit(x_train_text_bow, y_train)"
   ]
  },
  {
   "cell_type": "code",
   "execution_count": 61,
   "metadata": {
    "colab": {
     "base_uri": "https://localhost:8080/"
    },
    "id": "ir9QZwHZEuFh",
    "outputId": "1ce89d77-73bb-4356-e509-5e47117db961"
   },
   "outputs": [
    {
     "name": "stdout",
     "output_type": "stream",
     "text": [
      "Shape of predicted value for Cross_valiidation:  (2280, 201)\n",
      "Cross-Validation _Results:\n",
      "\n",
      "Confusion Matrix:\n",
      "[[11  0  0 ...  0  0  0]\n",
      " [ 4  6  0 ...  0  0  0]\n",
      " [10  0  0 ...  0  0  0]\n",
      " ...\n",
      " [10  0  0 ...  0  0  0]\n",
      " [10  0  0 ...  0  0  0]\n",
      " [ 2  0  0 ...  0  0 10]]\n",
      "F1-Score 0.15753698520591766\n"
     ]
    }
   ],
   "source": [
    "from sklearn.metrics import confusion_matrix , classification_report, f1_score\n",
    "\n",
    "#Predicting the class labels for cross-validation report \n",
    "y_pred = mlp_tfidf_classifier.predict(x_cv_text_tfidf)\n",
    "print('Shape of predicted value for Cross_valiidation: ',y_pred.shape)\n",
    "\n",
    "print('Cross-Validation _Results:\\n')\n",
    "matrix = confusion_matrix(y_cv.argmax(axis=1), y_pred.argmax(axis=1))\n",
    "print('Confusion Matrix:')\n",
    "print(matrix)\n",
    "\n",
    "print('F1-Score', f1_score(y_cv, y_pred , average= 'micro'))"
   ]
  },
  {
   "cell_type": "markdown",
   "metadata": {
    "id": "uTocao6LFo_h"
   },
   "source": [
    "# BERT NLP Sentence Embedding:"
   ]
  },
  {
   "cell_type": "code",
   "execution_count": 62,
   "metadata": {
    "colab": {
     "base_uri": "https://localhost:8080/"
    },
    "id": "ElVXSa57Gkek",
    "outputId": "2d67146f-6fd4-4d6e-fa23-5f6664145493"
   },
   "outputs": [
    {
     "name": "stdout",
     "output_type": "stream",
     "text": [
      "Requirement already satisfied: sentence-transformers in /usr/local/lib/python3.6/dist-packages (0.4.1.2)\n",
      "Requirement already satisfied: transformers<5.0.0,>=3.1.0 in /usr/local/lib/python3.6/dist-packages (from sentence-transformers) (4.1.1)\n",
      "Requirement already satisfied: torch>=1.6.0 in /usr/local/lib/python3.6/dist-packages (from sentence-transformers) (1.7.0+cu101)\n",
      "Requirement already satisfied: scipy in /usr/local/lib/python3.6/dist-packages (from sentence-transformers) (1.4.1)\n",
      "Requirement already satisfied: sentencepiece in /usr/local/lib/python3.6/dist-packages (from sentence-transformers) (0.1.94)\n",
      "Requirement already satisfied: scikit-learn in /usr/local/lib/python3.6/dist-packages (from sentence-transformers) (0.22.2.post1)\n",
      "Requirement already satisfied: nltk in /usr/local/lib/python3.6/dist-packages (from sentence-transformers) (3.2.5)\n",
      "Requirement already satisfied: numpy in /usr/local/lib/python3.6/dist-packages (from sentence-transformers) (1.19.4)\n",
      "Requirement already satisfied: tqdm in /usr/local/lib/python3.6/dist-packages (from sentence-transformers) (4.41.1)\n",
      "Requirement already satisfied: filelock in /usr/local/lib/python3.6/dist-packages (from transformers<5.0.0,>=3.1.0->sentence-transformers) (3.0.12)\n",
      "Requirement already satisfied: sacremoses in /usr/local/lib/python3.6/dist-packages (from transformers<5.0.0,>=3.1.0->sentence-transformers) (0.0.43)\n",
      "Requirement already satisfied: tokenizers==0.9.4 in /usr/local/lib/python3.6/dist-packages (from transformers<5.0.0,>=3.1.0->sentence-transformers) (0.9.4)\n",
      "Requirement already satisfied: dataclasses; python_version < \"3.7\" in /usr/local/lib/python3.6/dist-packages (from transformers<5.0.0,>=3.1.0->sentence-transformers) (0.8)\n",
      "Requirement already satisfied: regex!=2019.12.17 in /usr/local/lib/python3.6/dist-packages (from transformers<5.0.0,>=3.1.0->sentence-transformers) (2019.12.20)\n",
      "Requirement already satisfied: requests in /usr/local/lib/python3.6/dist-packages (from transformers<5.0.0,>=3.1.0->sentence-transformers) (2.23.0)\n",
      "Requirement already satisfied: packaging in /usr/local/lib/python3.6/dist-packages (from transformers<5.0.0,>=3.1.0->sentence-transformers) (20.8)\n",
      "Requirement already satisfied: future in /usr/local/lib/python3.6/dist-packages (from torch>=1.6.0->sentence-transformers) (0.16.0)\n",
      "Requirement already satisfied: typing-extensions in /usr/local/lib/python3.6/dist-packages (from torch>=1.6.0->sentence-transformers) (3.7.4.3)\n",
      "Requirement already satisfied: joblib>=0.11 in /usr/local/lib/python3.6/dist-packages (from scikit-learn->sentence-transformers) (1.0.0)\n",
      "Requirement already satisfied: six in /usr/local/lib/python3.6/dist-packages (from nltk->sentence-transformers) (1.15.0)\n",
      "Requirement already satisfied: click in /usr/local/lib/python3.6/dist-packages (from sacremoses->transformers<5.0.0,>=3.1.0->sentence-transformers) (7.1.2)\n",
      "Requirement already satisfied: idna<3,>=2.5 in /usr/local/lib/python3.6/dist-packages (from requests->transformers<5.0.0,>=3.1.0->sentence-transformers) (2.10)\n",
      "Requirement already satisfied: certifi>=2017.4.17 in /usr/local/lib/python3.6/dist-packages (from requests->transformers<5.0.0,>=3.1.0->sentence-transformers) (2020.12.5)\n",
      "Requirement already satisfied: chardet<4,>=3.0.2 in /usr/local/lib/python3.6/dist-packages (from requests->transformers<5.0.0,>=3.1.0->sentence-transformers) (3.0.4)\n",
      "Requirement already satisfied: urllib3!=1.25.0,!=1.25.1,<1.26,>=1.21.1 in /usr/local/lib/python3.6/dist-packages (from requests->transformers<5.0.0,>=3.1.0->sentence-transformers) (1.24.3)\n",
      "Requirement already satisfied: pyparsing>=2.0.2 in /usr/local/lib/python3.6/dist-packages (from packaging->transformers<5.0.0,>=3.1.0->sentence-transformers) (2.4.7)\n"
     ]
    }
   ],
   "source": [
    "!pip install sentence-transformers"
   ]
  },
  {
   "cell_type": "code",
   "execution_count": 63,
   "metadata": {
    "id": "y8vKCI9nr8fx"
   },
   "outputs": [],
   "source": [
    "from sentence_transformers import SentenceTransformer\n",
    "sbert_model = SentenceTransformer('bert-base-nli-mean-tokens')"
   ]
  },
  {
   "cell_type": "code",
   "execution_count": 64,
   "metadata": {
    "colab": {
     "base_uri": "https://localhost:8080/"
    },
    "id": "7nCgWG6HsJPK",
    "outputId": "017d2b7f-8127-4119-bf73-b69bbd964018"
   },
   "outputs": [
    {
     "name": "stdout",
     "output_type": "stream",
     "text": [
      "Shape of Bussiness Description Training Data After Bert NLP Sentence Embedding:  (9119, 768)\n",
      "Shape of Bussiness Description Cross-Validation Data After Bert NLP Sentence Embedding:  (2280, 768)\n"
     ]
    }
   ],
   "source": [
    "train_sentence_embeddings = sbert_model.encode(X_train_text.values)\n",
    "cv_sentence_embeddings = sbert_model.encode(X_cv_text.values)\n",
    "\n",
    "print('Shape of Bussiness Description Training Data After Bert NLP Sentence Embedding: ',train_sentence_embeddings.shape)\n",
    "print('Shape of Bussiness Description Cross-Validation Data After Bert NLP Sentence Embedding: ',cv_sentence_embeddings.shape)"
   ]
  },
  {
   "cell_type": "markdown",
   "metadata": {
    "id": "pIBOci7xJCbm"
   },
   "source": [
    "MultiLayer Perceptron (MLP Classifier):"
   ]
  },
  {
   "cell_type": "code",
   "execution_count": 65,
   "metadata": {
    "colab": {
     "base_uri": "https://localhost:8080/"
    },
    "id": "X-ktHNJqJBtf",
    "outputId": "17f083c6-c7d7-4592-ade8-c7802c7432d7"
   },
   "outputs": [
    {
     "data": {
      "text/plain": [
       "MLPClassifier(activation='relu', alpha=0.0001, batch_size='auto', beta_1=0.9,\n",
       "              beta_2=0.999, early_stopping=False, epsilon=1e-08,\n",
       "              hidden_layer_sizes=[100, 100, 100, 100, 100],\n",
       "              learning_rate='constant', learning_rate_init=0.001, max_fun=15000,\n",
       "              max_iter=200, momentum=0.9, n_iter_no_change=10,\n",
       "              nesterovs_momentum=True, power_t=0.5, random_state=None,\n",
       "              shuffle=True, solver='adam', tol=0.0001, validation_fraction=0.1,\n",
       "              verbose=False, warm_start=False)"
      ]
     },
     "execution_count": 65,
     "metadata": {
      "tags": []
     },
     "output_type": "execute_result"
    }
   ],
   "source": [
    "from sklearn.neural_network import MLPClassifier\n",
    "mlp_bert_classifier = MLPClassifier(hidden_layer_sizes = [100]*5, activation= 'relu') #Five hidden layers with 100 units\n",
    "mlp_bert_classifier.fit(train_sentence_embeddings, y_train)"
   ]
  },
  {
   "cell_type": "code",
   "execution_count": 66,
   "metadata": {
    "colab": {
     "base_uri": "https://localhost:8080/"
    },
    "id": "5SInfHknJNEL",
    "outputId": "8d743ae4-b107-4216-a4df-2b28cffbd348"
   },
   "outputs": [
    {
     "name": "stdout",
     "output_type": "stream",
     "text": [
      "Shape of predicted value for Cross_valiidation:  (2280, 201)\n",
      "Cross-Validation _Results:\n",
      "\n",
      "Confusion Matrix:\n",
      "[[11  0  0 ...  0  0  0]\n",
      " [ 0 10  0 ...  0  0  0]\n",
      " [ 0  0 10 ...  0  0  0]\n",
      " ...\n",
      " [ 0  0  0 ... 10  0  0]\n",
      " [ 0  0  0 ...  0 10  0]\n",
      " [ 0  0  0 ...  0  0 12]]\n",
      "F1-Score 0.95456570155902\n"
     ]
    }
   ],
   "source": [
    "from sklearn.metrics import confusion_matrix , classification_report, f1_score\n",
    "\n",
    "#Predicting the class labels for cross-validation report \n",
    "y_pred = mlp_bert_classifier.predict(cv_sentence_embeddings)\n",
    "print('Shape of predicted value for Cross_valiidation: ',y_pred.shape)\n",
    "\n",
    "print('Cross-Validation _Results:\\n')\n",
    "matrix = confusion_matrix(y_cv.argmax(axis=1), y_pred.argmax(axis=1))\n",
    "print('Confusion Matrix:')\n",
    "print(matrix)\n",
    "\n",
    "print('F1-Score', f1_score(y_cv, y_pred , average= 'micro'))"
   ]
  },
  {
   "cell_type": "markdown",
   "metadata": {
    "id": "cnYfCGsFLGsb"
   },
   "source": [
    "We got a good performing model using BERT NLP sentence embedding too."
   ]
  },
  {
   "cell_type": "markdown",
   "metadata": {
    "id": "R_jPBFN-LaPo"
   },
   "source": [
    "# Prediction of Tags in Company Data"
   ]
  },
  {
   "cell_type": "code",
   "execution_count": 50,
   "metadata": {
    "colab": {
     "base_uri": "https://localhost:8080/",
     "height": 590
    },
    "id": "LBy5gDfxLZfg",
    "outputId": "175992d1-d9c0-4702-f8c7-31952d2e4022"
   },
   "outputs": [
    {
     "data": {
      "text/html": [
       "<div>\n",
       "<style scoped>\n",
       "    .dataframe tbody tr th:only-of-type {\n",
       "        vertical-align: middle;\n",
       "    }\n",
       "\n",
       "    .dataframe tbody tr th {\n",
       "        vertical-align: top;\n",
       "    }\n",
       "\n",
       "    .dataframe thead th {\n",
       "        text-align: right;\n",
       "    }\n",
       "</style>\n",
       "<table border=\"1\" class=\"dataframe\">\n",
       "  <thead>\n",
       "    <tr style=\"text-align: right;\">\n",
       "      <th></th>\n",
       "      <th>Company Name</th>\n",
       "      <th>Exchange:Ticker</th>\n",
       "      <th>Company Type</th>\n",
       "      <th>Company Status</th>\n",
       "      <th>Geographic Locations</th>\n",
       "      <th>Business Description</th>\n",
       "      <th>Security Tickers</th>\n",
       "    </tr>\n",
       "  </thead>\n",
       "  <tbody>\n",
       "    <tr>\n",
       "      <th>0</th>\n",
       "      <td>024 Pharma, Inc. (OTCPK:EEIG)</td>\n",
       "      <td>OTCPK:EEIG</td>\n",
       "      <td>Public Company</td>\n",
       "      <td>Operating</td>\n",
       "      <td>United States of America (Primary)</td>\n",
       "      <td>024 Pharma, Inc. provides healthcare products ...</td>\n",
       "      <td>OTCPK:EEIG</td>\n",
       "    </tr>\n",
       "    <tr>\n",
       "      <th>1</th>\n",
       "      <td>1-800-FLOWERS.COM, Inc. (NasdaqGS:FLWS)</td>\n",
       "      <td>NasdaqGS:FLWS</td>\n",
       "      <td>Public Company</td>\n",
       "      <td>Operating</td>\n",
       "      <td>United States of America (Primary)</td>\n",
       "      <td>1-800-Flowers.com, Inc., together with its sub...</td>\n",
       "      <td>NasdaqGS:FLWS; DB:FWC</td>\n",
       "    </tr>\n",
       "    <tr>\n",
       "      <th>2</th>\n",
       "      <td>12 Retech Corporation (OTCPK:RETC)</td>\n",
       "      <td>OTCPK:RETC</td>\n",
       "      <td>Public Company</td>\n",
       "      <td>Operating</td>\n",
       "      <td>United States of America (Primary)</td>\n",
       "      <td>12 Retech Corporation, through its subsidiarie...</td>\n",
       "      <td>OTCPK:RETC</td>\n",
       "    </tr>\n",
       "    <tr>\n",
       "      <th>3</th>\n",
       "      <td>1347 Property Insurance Holdings, Inc. (Nasdaq...</td>\n",
       "      <td>NasdaqGM:PIH</td>\n",
       "      <td>Public Company</td>\n",
       "      <td>Operating</td>\n",
       "      <td>United States of America (Primary)</td>\n",
       "      <td>1347 Property Insurance Holdings, Inc., throug...</td>\n",
       "      <td>NasdaqGM:PIH</td>\n",
       "    </tr>\n",
       "    <tr>\n",
       "      <th>4</th>\n",
       "      <td>1847 Holdings LLC (OTCPK:EFSH)</td>\n",
       "      <td>OTCPK:EFSH</td>\n",
       "      <td>Public Company</td>\n",
       "      <td>Operating</td>\n",
       "      <td>United States of America (Primary)</td>\n",
       "      <td>1847 Holdings LLC, through its subsidiaries, p...</td>\n",
       "      <td>OTCPK:EFSH</td>\n",
       "    </tr>\n",
       "    <tr>\n",
       "      <th>...</th>\n",
       "      <td>...</td>\n",
       "      <td>...</td>\n",
       "      <td>...</td>\n",
       "      <td>...</td>\n",
       "      <td>...</td>\n",
       "      <td>...</td>\n",
       "      <td>...</td>\n",
       "    </tr>\n",
       "    <tr>\n",
       "      <th>8420</th>\n",
       "      <td>Yappn Corp. (OTCPK:YPPN)</td>\n",
       "      <td>OTCPK:YPPN</td>\n",
       "      <td>Public Company</td>\n",
       "      <td>Operating Subsidiary</td>\n",
       "      <td>United States of America (Primary)</td>\n",
       "      <td>Yappn Corp. provides language translation prod...</td>\n",
       "      <td>OTCPK:YPPN</td>\n",
       "    </tr>\n",
       "    <tr>\n",
       "      <th>8421</th>\n",
       "      <td>YaSheng Group (OTCPK:HERB)</td>\n",
       "      <td>OTCPK:HERB</td>\n",
       "      <td>Public Company</td>\n",
       "      <td>Operating Subsidiary</td>\n",
       "      <td>United States of America (Primary)</td>\n",
       "      <td>YaSheng Group, through its subsidiaries, desig...</td>\n",
       "      <td>OTCPK:HERB</td>\n",
       "    </tr>\n",
       "    <tr>\n",
       "      <th>8422</th>\n",
       "      <td>Zenergy Brands, Inc.      (OTCPK:ZNGY)</td>\n",
       "      <td>OTCPK:ZNGY</td>\n",
       "      <td>Public Company</td>\n",
       "      <td>Operating Subsidiary</td>\n",
       "      <td>United States of America (Primary)</td>\n",
       "      <td>Zenergy Brands, Inc., an energy and technology...</td>\n",
       "      <td>OTCPK:ZNGY</td>\n",
       "    </tr>\n",
       "    <tr>\n",
       "      <th>8423</th>\n",
       "      <td>Zulu-Tek Inc (OTCPK:ZULU)</td>\n",
       "      <td>OTCPK:ZULU</td>\n",
       "      <td>Public Company</td>\n",
       "      <td>Operating Subsidiary</td>\n",
       "      <td>United States of America (Primary)</td>\n",
       "      <td>Zulu-Tek Inc provides Internet advertising ser...</td>\n",
       "      <td>OTCPK:ZULU</td>\n",
       "    </tr>\n",
       "    <tr>\n",
       "      <th>8424</th>\n",
       "      <td>Zurvita Holdings, Inc. (OTCPK:ZRVT)</td>\n",
       "      <td>OTCPK:ZRVT</td>\n",
       "      <td>Public Company</td>\n",
       "      <td>Operating Subsidiary</td>\n",
       "      <td>United States of America (Primary)</td>\n",
       "      <td>Zurvita Holdings, Inc. markets health and well...</td>\n",
       "      <td>OTCPK:ZRVT</td>\n",
       "    </tr>\n",
       "  </tbody>\n",
       "</table>\n",
       "<p>8425 rows × 7 columns</p>\n",
       "</div>"
      ],
      "text/plain": [
       "                                           Company Name  ...       Security Tickers\n",
       "0                         024 Pharma, Inc. (OTCPK:EEIG)  ...             OTCPK:EEIG\n",
       "1               1-800-FLOWERS.COM, Inc. (NasdaqGS:FLWS)  ...  NasdaqGS:FLWS; DB:FWC\n",
       "2                    12 Retech Corporation (OTCPK:RETC)  ...             OTCPK:RETC\n",
       "3     1347 Property Insurance Holdings, Inc. (Nasdaq...  ...           NasdaqGM:PIH\n",
       "4                        1847 Holdings LLC (OTCPK:EFSH)  ...             OTCPK:EFSH\n",
       "...                                                 ...  ...                    ...\n",
       "8420                           Yappn Corp. (OTCPK:YPPN)  ...             OTCPK:YPPN\n",
       "8421                         YaSheng Group (OTCPK:HERB)  ...             OTCPK:HERB\n",
       "8422             Zenergy Brands, Inc.      (OTCPK:ZNGY)  ...             OTCPK:ZNGY\n",
       "8423                          Zulu-Tek Inc (OTCPK:ZULU)  ...             OTCPK:ZULU\n",
       "8424                Zurvita Holdings, Inc. (OTCPK:ZRVT)  ...             OTCPK:ZRVT\n",
       "\n",
       "[8425 rows x 7 columns]"
      ]
     },
     "execution_count": 50,
     "metadata": {
      "tags": []
     },
     "output_type": "execute_result"
    }
   ],
   "source": [
    "company_data = pd.read_excel('/content/drive/MyDrive/Company_ Business Description.xlsx')\n",
    "company_data"
   ]
  },
  {
   "cell_type": "code",
   "execution_count": 37,
   "metadata": {
    "id": "udfZntXMNDuo"
   },
   "outputs": [],
   "source": [
    "processed_target = text_preprocessing(company_data , 'Business Description')"
   ]
  },
  {
   "cell_type": "code",
   "execution_count": 38,
   "metadata": {
    "id": "rMto4aq3NQ0S"
   },
   "outputs": [],
   "source": [
    "predict_text = processed_target['Business Description']\n",
    "predict_text_bow = Bow_Vectorizer.transform(predict_text)"
   ]
  },
  {
   "cell_type": "code",
   "execution_count": 39,
   "metadata": {
    "colab": {
     "base_uri": "https://localhost:8080/"
    },
    "id": "XnqwimuvO31u",
    "outputId": "a8c61e1c-937a-4095-9874-611ef1764933"
   },
   "outputs": [
    {
     "data": {
      "text/plain": [
       "(8425, 17171)"
      ]
     },
     "execution_count": 39,
     "metadata": {
      "tags": []
     },
     "output_type": "execute_result"
    }
   ],
   "source": [
    "predict_text_bow.shape"
   ]
  },
  {
   "cell_type": "code",
   "execution_count": 40,
   "metadata": {
    "colab": {
     "base_uri": "https://localhost:8080/"
    },
    "id": "kBcgNdeDObfp",
    "outputId": "71f98c79-1043-4634-b4f3-3c6ac178cfb5"
   },
   "outputs": [
    {
     "data": {
      "text/plain": [
       "(8425, 201)"
      ]
     },
     "execution_count": 40,
     "metadata": {
      "tags": []
     },
     "output_type": "execute_result"
    }
   ],
   "source": [
    "#mlp_classifier - CountVectorizer have highest f1 score\n",
    "prediction = mlp_classifier.predict(predict_text_bow)\n",
    "prediction.shape"
   ]
  },
  {
   "cell_type": "code",
   "execution_count": 41,
   "metadata": {
    "id": "TCfC8m76PmCL"
   },
   "outputs": [],
   "source": [
    "arg_max = np.argmax(prediction, axis=1)\n",
    "prediction = le.inverse_transform(arg_max)"
   ]
  },
  {
   "cell_type": "code",
   "execution_count": 42,
   "metadata": {
    "colab": {
     "base_uri": "https://localhost:8080/"
    },
    "id": "ssyqMJrXZyO_",
    "outputId": "8fc06e41-88bf-4128-c21b-13ed2da102ba"
   },
   "outputs": [
    {
     "name": "stdout",
     "output_type": "stream",
     "text": [
      "['Beauty Care Products ' 'Catalog Flowers, Gifts and Novelties '\n",
      " 'Information Technology ' ... 'Accessories ' 'Accessories '\n",
      " 'Accessories ']\n"
     ]
    }
   ],
   "source": [
    "print(prediction)"
   ]
  },
  {
   "cell_type": "code",
   "execution_count": 44,
   "metadata": {
    "id": "k15u6LHMZ5Mz"
   },
   "outputs": [],
   "source": [
    "company_data['Industry Classification'] = prediction"
   ]
  },
  {
   "cell_type": "code",
   "execution_count": 47,
   "metadata": {
    "colab": {
     "base_uri": "https://localhost:8080/"
    },
    "id": "RjcGx-1naDyV",
    "outputId": "3b1c0651-f63a-4796-acb4-09de9c94c1af"
   },
   "outputs": [
    {
     "data": {
      "text/plain": [
       "Accessories                           4860\n",
       "Banks                                  915\n",
       "Energy                                 455\n",
       "Biotechnology                          362\n",
       "Healthcare                             209\n",
       "                                      ... \n",
       "Amusement And Recreation Services        1\n",
       "Forest Products                          1\n",
       "Disaster Recovery                        1\n",
       "Amplifier                                1\n",
       "Materials                                1\n",
       "Name: Industry Classification, Length: 201, dtype: int64"
      ]
     },
     "execution_count": 47,
     "metadata": {
      "tags": []
     },
     "output_type": "execute_result"
    }
   ],
   "source": [
    "company_data['Industry Classification'].value_counts()"
   ]
  },
  {
   "cell_type": "code",
   "execution_count": 48,
   "metadata": {
    "id": "FNFSO5s6aP0R"
   },
   "outputs": [],
   "source": [
    "company_data.to_excel('Comapany_tags.xlsx')"
   ]
  }
 ],
 "metadata": {
  "accelerator": "GPU",
  "colab": {
   "name": "SkyQuest.ipynb",
   "provenance": []
  },
  "kernelspec": {
   "display_name": "Python 3",
   "language": "python",
   "name": "python3"
  },
  "language_info": {
   "codemirror_mode": {
    "name": "ipython",
    "version": 3
   },
   "file_extension": ".py",
   "mimetype": "text/x-python",
   "name": "python",
   "nbconvert_exporter": "python",
   "pygments_lexer": "ipython3",
   "version": "3.7.6"
  }
 },
 "nbformat": 4,
 "nbformat_minor": 1
}
