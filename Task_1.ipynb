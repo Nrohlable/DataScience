{
 "cells": [
  {
   "cell_type": "code",
   "execution_count": null,
   "metadata": {
    "id": "RvLczslFW-mC"
   },
   "outputs": [],
   "source": [
    "#To read csv files in Tabular format we would use pandas\n",
    "import pandas as pd\n",
    "data = pd.read_csv('/content/drive/MyDrive/SpendData.csv')"
   ]
  },
  {
   "cell_type": "code",
   "execution_count": null,
   "metadata": {
    "colab": {
     "base_uri": "https://localhost:8080/",
     "height": 263
    },
    "id": "qhhQPJcOXHdp",
    "outputId": "6a39ae3c-f86f-4a71-ae61-013943ffa2a9"
   },
   "outputs": [
    {
     "data": {
      "text/html": [
       "<div>\n",
       "<style scoped>\n",
       "    .dataframe tbody tr th:only-of-type {\n",
       "        vertical-align: middle;\n",
       "    }\n",
       "\n",
       "    .dataframe tbody tr th {\n",
       "        vertical-align: top;\n",
       "    }\n",
       "\n",
       "    .dataframe thead th {\n",
       "        text-align: right;\n",
       "    }\n",
       "</style>\n",
       "<table border=\"1\" class=\"dataframe\">\n",
       "  <thead>\n",
       "    <tr style=\"text-align: right;\">\n",
       "      <th></th>\n",
       "      <th>Unnamed: 0</th>\n",
       "      <th>month</th>\n",
       "      <th>var8</th>\n",
       "      <th>var6</th>\n",
       "      <th>a.1</th>\n",
       "      <th>a.2</th>\n",
       "      <th>a.3</th>\n",
       "      <th>a.4</th>\n",
       "      <th>var5</th>\n",
       "      <th>b.5</th>\n",
       "      <th>b.6</th>\n",
       "      <th>b.7</th>\n",
       "      <th>b.8</th>\n",
       "      <th>b.9</th>\n",
       "      <th>b.10</th>\n",
       "      <th>b.11</th>\n",
       "      <th>b.12</th>\n",
       "      <th>b.13</th>\n",
       "      <th>b.14</th>\n",
       "      <th>b.15</th>\n",
       "      <th>b.16</th>\n",
       "      <th>b.17</th>\n",
       "      <th>b.18</th>\n",
       "      <th>b.19</th>\n",
       "      <th>b.20</th>\n",
       "      <th>b.21</th>\n",
       "      <th>b.22</th>\n",
       "      <th>pov6</th>\n",
       "      <th>b.23</th>\n",
       "      <th>b.24</th>\n",
       "      <th>b.25</th>\n",
       "      <th>b.26</th>\n",
       "      <th>b.27</th>\n",
       "      <th>b.28</th>\n",
       "      <th>c.29</th>\n",
       "      <th>c.30</th>\n",
       "      <th>var7</th>\n",
       "      <th>c.31</th>\n",
       "      <th>c.32</th>\n",
       "      <th>c.33</th>\n",
       "      <th>...</th>\n",
       "      <th>c.246</th>\n",
       "      <th>c.247</th>\n",
       "      <th>c.248</th>\n",
       "      <th>c.249</th>\n",
       "      <th>c.250</th>\n",
       "      <th>c.251</th>\n",
       "      <th>c.252</th>\n",
       "      <th>c.253</th>\n",
       "      <th>c.254</th>\n",
       "      <th>c.255</th>\n",
       "      <th>c.256</th>\n",
       "      <th>c.257</th>\n",
       "      <th>c.258</th>\n",
       "      <th>c.259</th>\n",
       "      <th>c.260</th>\n",
       "      <th>c.261</th>\n",
       "      <th>c.262</th>\n",
       "      <th>c.263</th>\n",
       "      <th>c.264</th>\n",
       "      <th>c.265</th>\n",
       "      <th>c.266</th>\n",
       "      <th>c.267</th>\n",
       "      <th>c.268</th>\n",
       "      <th>c.269</th>\n",
       "      <th>c.270</th>\n",
       "      <th>c.271</th>\n",
       "      <th>c.272</th>\n",
       "      <th>c.273</th>\n",
       "      <th>c.274</th>\n",
       "      <th>c.275</th>\n",
       "      <th>c.276</th>\n",
       "      <th>c.277</th>\n",
       "      <th>c.278</th>\n",
       "      <th>c.279</th>\n",
       "      <th>c.280</th>\n",
       "      <th>c.281</th>\n",
       "      <th>c.282</th>\n",
       "      <th>c.283</th>\n",
       "      <th>f.284</th>\n",
       "      <th>t.158</th>\n",
       "    </tr>\n",
       "  </thead>\n",
       "  <tbody>\n",
       "    <tr>\n",
       "      <th>0</th>\n",
       "      <td>1</td>\n",
       "      <td>1</td>\n",
       "      <td>2.0</td>\n",
       "      <td>NaN</td>\n",
       "      <td>1</td>\n",
       "      <td>5</td>\n",
       "      <td>1</td>\n",
       "      <td>57</td>\n",
       "      <td>34</td>\n",
       "      <td>1</td>\n",
       "      <td>NaN</td>\n",
       "      <td>1</td>\n",
       "      <td>1.0</td>\n",
       "      <td>2</td>\n",
       "      <td>NaN</td>\n",
       "      <td>NaN</td>\n",
       "      <td>2</td>\n",
       "      <td>NaN</td>\n",
       "      <td>NaN</td>\n",
       "      <td>6</td>\n",
       "      <td>6</td>\n",
       "      <td>6.0</td>\n",
       "      <td>6.0</td>\n",
       "      <td>7</td>\n",
       "      <td>0.0</td>\n",
       "      <td>0.0</td>\n",
       "      <td>14</td>\n",
       "      <td>1</td>\n",
       "      <td>0</td>\n",
       "      <td>0</td>\n",
       "      <td>0</td>\n",
       "      <td>0</td>\n",
       "      <td>0</td>\n",
       "      <td>0</td>\n",
       "      <td>1</td>\n",
       "      <td>1</td>\n",
       "      <td>1</td>\n",
       "      <td>1.0</td>\n",
       "      <td>1</td>\n",
       "      <td>1</td>\n",
       "      <td>...</td>\n",
       "      <td>1</td>\n",
       "      <td>0</td>\n",
       "      <td>0</td>\n",
       "      <td>1</td>\n",
       "      <td>NaN</td>\n",
       "      <td>0</td>\n",
       "      <td>1</td>\n",
       "      <td>0</td>\n",
       "      <td>0</td>\n",
       "      <td>0</td>\n",
       "      <td>0</td>\n",
       "      <td>0</td>\n",
       "      <td>0</td>\n",
       "      <td>0</td>\n",
       "      <td>0</td>\n",
       "      <td>0</td>\n",
       "      <td>0</td>\n",
       "      <td>0</td>\n",
       "      <td>0</td>\n",
       "      <td>0</td>\n",
       "      <td>0</td>\n",
       "      <td>1</td>\n",
       "      <td>0</td>\n",
       "      <td>0</td>\n",
       "      <td>1</td>\n",
       "      <td>1</td>\n",
       "      <td>0</td>\n",
       "      <td>0</td>\n",
       "      <td>0</td>\n",
       "      <td>0</td>\n",
       "      <td>1</td>\n",
       "      <td>0</td>\n",
       "      <td>0</td>\n",
       "      <td>0</td>\n",
       "      <td>1</td>\n",
       "      <td>0</td>\n",
       "      <td>0</td>\n",
       "      <td>0</td>\n",
       "      <td>5.0</td>\n",
       "      <td>NaN</td>\n",
       "    </tr>\n",
       "    <tr>\n",
       "      <th>1</th>\n",
       "      <td>2</td>\n",
       "      <td>1</td>\n",
       "      <td>2.0</td>\n",
       "      <td>NaN</td>\n",
       "      <td>1</td>\n",
       "      <td>4</td>\n",
       "      <td>1</td>\n",
       "      <td>57</td>\n",
       "      <td>34</td>\n",
       "      <td>2</td>\n",
       "      <td>3.0</td>\n",
       "      <td>1</td>\n",
       "      <td>1.0</td>\n",
       "      <td>2</td>\n",
       "      <td>NaN</td>\n",
       "      <td>NaN</td>\n",
       "      <td>2</td>\n",
       "      <td>NaN</td>\n",
       "      <td>NaN</td>\n",
       "      <td>50</td>\n",
       "      <td>50</td>\n",
       "      <td>50.0</td>\n",
       "      <td>50.0</td>\n",
       "      <td>12</td>\n",
       "      <td>0.0</td>\n",
       "      <td>0.0</td>\n",
       "      <td>31</td>\n",
       "      <td>1</td>\n",
       "      <td>14</td>\n",
       "      <td>0</td>\n",
       "      <td>0</td>\n",
       "      <td>0</td>\n",
       "      <td>0</td>\n",
       "      <td>0</td>\n",
       "      <td>2</td>\n",
       "      <td>2</td>\n",
       "      <td>2</td>\n",
       "      <td>NaN</td>\n",
       "      <td>2</td>\n",
       "      <td>0</td>\n",
       "      <td>...</td>\n",
       "      <td>1</td>\n",
       "      <td>0</td>\n",
       "      <td>0</td>\n",
       "      <td>0</td>\n",
       "      <td>0.0</td>\n",
       "      <td>0</td>\n",
       "      <td>0</td>\n",
       "      <td>0</td>\n",
       "      <td>0</td>\n",
       "      <td>0</td>\n",
       "      <td>0</td>\n",
       "      <td>0</td>\n",
       "      <td>0</td>\n",
       "      <td>0</td>\n",
       "      <td>0</td>\n",
       "      <td>0</td>\n",
       "      <td>0</td>\n",
       "      <td>0</td>\n",
       "      <td>0</td>\n",
       "      <td>0</td>\n",
       "      <td>0</td>\n",
       "      <td>1</td>\n",
       "      <td>0</td>\n",
       "      <td>1</td>\n",
       "      <td>1</td>\n",
       "      <td>0</td>\n",
       "      <td>0</td>\n",
       "      <td>0</td>\n",
       "      <td>0</td>\n",
       "      <td>0</td>\n",
       "      <td>0</td>\n",
       "      <td>0</td>\n",
       "      <td>0</td>\n",
       "      <td>0</td>\n",
       "      <td>0</td>\n",
       "      <td>0</td>\n",
       "      <td>1</td>\n",
       "      <td>0</td>\n",
       "      <td>NaN</td>\n",
       "      <td>NaN</td>\n",
       "    </tr>\n",
       "    <tr>\n",
       "      <th>2</th>\n",
       "      <td>3</td>\n",
       "      <td>1</td>\n",
       "      <td>2.0</td>\n",
       "      <td>NaN</td>\n",
       "      <td>1</td>\n",
       "      <td>5</td>\n",
       "      <td>1</td>\n",
       "      <td>57</td>\n",
       "      <td>42</td>\n",
       "      <td>2</td>\n",
       "      <td>1.0</td>\n",
       "      <td>1</td>\n",
       "      <td>1.0</td>\n",
       "      <td>1</td>\n",
       "      <td>93.0</td>\n",
       "      <td>1.0</td>\n",
       "      <td>1</td>\n",
       "      <td>93.0</td>\n",
       "      <td>60.0</td>\n",
       "      <td>6</td>\n",
       "      <td>6</td>\n",
       "      <td>6.0</td>\n",
       "      <td>6.0</td>\n",
       "      <td>7</td>\n",
       "      <td>0.0</td>\n",
       "      <td>0.0</td>\n",
       "      <td>45</td>\n",
       "      <td>1</td>\n",
       "      <td>31</td>\n",
       "      <td>0</td>\n",
       "      <td>0</td>\n",
       "      <td>0</td>\n",
       "      <td>0</td>\n",
       "      <td>0</td>\n",
       "      <td>2</td>\n",
       "      <td>2</td>\n",
       "      <td>3</td>\n",
       "      <td>NaN</td>\n",
       "      <td>2</td>\n",
       "      <td>0</td>\n",
       "      <td>...</td>\n",
       "      <td>0</td>\n",
       "      <td>0</td>\n",
       "      <td>0</td>\n",
       "      <td>1</td>\n",
       "      <td>500.0</td>\n",
       "      <td>0</td>\n",
       "      <td>0</td>\n",
       "      <td>0</td>\n",
       "      <td>0</td>\n",
       "      <td>0</td>\n",
       "      <td>0</td>\n",
       "      <td>0</td>\n",
       "      <td>0</td>\n",
       "      <td>0</td>\n",
       "      <td>0</td>\n",
       "      <td>0</td>\n",
       "      <td>0</td>\n",
       "      <td>0</td>\n",
       "      <td>0</td>\n",
       "      <td>0</td>\n",
       "      <td>0</td>\n",
       "      <td>1</td>\n",
       "      <td>0</td>\n",
       "      <td>0</td>\n",
       "      <td>1</td>\n",
       "      <td>0</td>\n",
       "      <td>0</td>\n",
       "      <td>0</td>\n",
       "      <td>0</td>\n",
       "      <td>0</td>\n",
       "      <td>0</td>\n",
       "      <td>0</td>\n",
       "      <td>0</td>\n",
       "      <td>0</td>\n",
       "      <td>0</td>\n",
       "      <td>0</td>\n",
       "      <td>0</td>\n",
       "      <td>0</td>\n",
       "      <td>3.0</td>\n",
       "      <td>NaN</td>\n",
       "    </tr>\n",
       "    <tr>\n",
       "      <th>3</th>\n",
       "      <td>4</td>\n",
       "      <td>1</td>\n",
       "      <td>2.0</td>\n",
       "      <td>NaN</td>\n",
       "      <td>1</td>\n",
       "      <td>6</td>\n",
       "      <td>1</td>\n",
       "      <td>57</td>\n",
       "      <td>34</td>\n",
       "      <td>2</td>\n",
       "      <td>4.0</td>\n",
       "      <td>1</td>\n",
       "      <td>1.0</td>\n",
       "      <td>2</td>\n",
       "      <td>NaN</td>\n",
       "      <td>NaN</td>\n",
       "      <td>2</td>\n",
       "      <td>NaN</td>\n",
       "      <td>NaN</td>\n",
       "      <td>7</td>\n",
       "      <td>7</td>\n",
       "      <td>7.0</td>\n",
       "      <td>7.0</td>\n",
       "      <td>8</td>\n",
       "      <td>0.0</td>\n",
       "      <td>0.0</td>\n",
       "      <td>14</td>\n",
       "      <td>1</td>\n",
       "      <td>31</td>\n",
       "      <td>0</td>\n",
       "      <td>0</td>\n",
       "      <td>0</td>\n",
       "      <td>0</td>\n",
       "      <td>0</td>\n",
       "      <td>2</td>\n",
       "      <td>2</td>\n",
       "      <td>2</td>\n",
       "      <td>NaN</td>\n",
       "      <td>2</td>\n",
       "      <td>0</td>\n",
       "      <td>...</td>\n",
       "      <td>1</td>\n",
       "      <td>0</td>\n",
       "      <td>0</td>\n",
       "      <td>0</td>\n",
       "      <td>0.0</td>\n",
       "      <td>0</td>\n",
       "      <td>0</td>\n",
       "      <td>0</td>\n",
       "      <td>0</td>\n",
       "      <td>0</td>\n",
       "      <td>0</td>\n",
       "      <td>0</td>\n",
       "      <td>0</td>\n",
       "      <td>0</td>\n",
       "      <td>1</td>\n",
       "      <td>0</td>\n",
       "      <td>0</td>\n",
       "      <td>0</td>\n",
       "      <td>0</td>\n",
       "      <td>0</td>\n",
       "      <td>0</td>\n",
       "      <td>1</td>\n",
       "      <td>0</td>\n",
       "      <td>0</td>\n",
       "      <td>1</td>\n",
       "      <td>1</td>\n",
       "      <td>0</td>\n",
       "      <td>0</td>\n",
       "      <td>0</td>\n",
       "      <td>0</td>\n",
       "      <td>0</td>\n",
       "      <td>0</td>\n",
       "      <td>0</td>\n",
       "      <td>0</td>\n",
       "      <td>1</td>\n",
       "      <td>0</td>\n",
       "      <td>1</td>\n",
       "      <td>0</td>\n",
       "      <td>5.0</td>\n",
       "      <td>NaN</td>\n",
       "    </tr>\n",
       "    <tr>\n",
       "      <th>4</th>\n",
       "      <td>5</td>\n",
       "      <td>1</td>\n",
       "      <td>2.0</td>\n",
       "      <td>NaN</td>\n",
       "      <td>1</td>\n",
       "      <td>8</td>\n",
       "      <td>1</td>\n",
       "      <td>22</td>\n",
       "      <td>1</td>\n",
       "      <td>1</td>\n",
       "      <td>NaN</td>\n",
       "      <td>1</td>\n",
       "      <td>2.0</td>\n",
       "      <td>1</td>\n",
       "      <td>102.0</td>\n",
       "      <td>0.0</td>\n",
       "      <td>1</td>\n",
       "      <td>93.0</td>\n",
       "      <td>3.0</td>\n",
       "      <td>2</td>\n",
       "      <td>2</td>\n",
       "      <td>2.0</td>\n",
       "      <td>2.0</td>\n",
       "      <td>3</td>\n",
       "      <td>0.0</td>\n",
       "      <td>0.0</td>\n",
       "      <td>32</td>\n",
       "      <td>2</td>\n",
       "      <td>0</td>\n",
       "      <td>0</td>\n",
       "      <td>0</td>\n",
       "      <td>0</td>\n",
       "      <td>0</td>\n",
       "      <td>0</td>\n",
       "      <td>2</td>\n",
       "      <td>2</td>\n",
       "      <td>2</td>\n",
       "      <td>NaN</td>\n",
       "      <td>2</td>\n",
       "      <td>1</td>\n",
       "      <td>...</td>\n",
       "      <td>0</td>\n",
       "      <td>0</td>\n",
       "      <td>0</td>\n",
       "      <td>0</td>\n",
       "      <td>0.0</td>\n",
       "      <td>0</td>\n",
       "      <td>0</td>\n",
       "      <td>0</td>\n",
       "      <td>0</td>\n",
       "      <td>0</td>\n",
       "      <td>0</td>\n",
       "      <td>0</td>\n",
       "      <td>0</td>\n",
       "      <td>0</td>\n",
       "      <td>0</td>\n",
       "      <td>0</td>\n",
       "      <td>0</td>\n",
       "      <td>0</td>\n",
       "      <td>0</td>\n",
       "      <td>0</td>\n",
       "      <td>0</td>\n",
       "      <td>1</td>\n",
       "      <td>0</td>\n",
       "      <td>1</td>\n",
       "      <td>0</td>\n",
       "      <td>0</td>\n",
       "      <td>0</td>\n",
       "      <td>0</td>\n",
       "      <td>0</td>\n",
       "      <td>0</td>\n",
       "      <td>0</td>\n",
       "      <td>0</td>\n",
       "      <td>0</td>\n",
       "      <td>0</td>\n",
       "      <td>0</td>\n",
       "      <td>0</td>\n",
       "      <td>0</td>\n",
       "      <td>0</td>\n",
       "      <td>5.0</td>\n",
       "      <td>NaN</td>\n",
       "    </tr>\n",
       "  </tbody>\n",
       "</table>\n",
       "<p>5 rows × 301 columns</p>\n",
       "</div>"
      ],
      "text/plain": [
       "   Unnamed: 0  month  var8  var6  a.1  ...  c.281  c.282  c.283  f.284  t.158\n",
       "0           1      1   2.0   NaN    1  ...      0      0      0    5.0    NaN\n",
       "1           2      1   2.0   NaN    1  ...      0      1      0    NaN    NaN\n",
       "2           3      1   2.0   NaN    1  ...      0      0      0    3.0    NaN\n",
       "3           4      1   2.0   NaN    1  ...      0      1      0    5.0    NaN\n",
       "4           5      1   2.0   NaN    1  ...      0      0      0    5.0    NaN\n",
       "\n",
       "[5 rows x 301 columns]"
      ]
     },
     "execution_count": 23,
     "metadata": {
      "tags": []
     },
     "output_type": "execute_result"
    }
   ],
   "source": [
    "data.head(5)"
   ]
  },
  {
   "cell_type": "code",
   "execution_count": null,
   "metadata": {
    "colab": {
     "base_uri": "https://localhost:8080/"
    },
    "id": "YtiCHJWwXjCC",
    "outputId": "61d445f2-792e-4249-e4bb-e61c5a57195a"
   },
   "outputs": [
    {
     "data": {
      "text/plain": [
       "1    14197\n",
       "2     3246\n",
       "3      335\n",
       "6      285\n",
       "4      183\n",
       "5      133\n",
       "Name: pov6, dtype: int64"
      ]
     },
     "execution_count": 24,
     "metadata": {
      "tags": []
     },
     "output_type": "execute_result"
    }
   ],
   "source": [
    "#As per the Problem statement the Column/Feature 'pov6' has the respondents divided into 6 categories \n",
    "#Here we are analazing about the class imbalance for this Multi-classs Porblem\n",
    "data['pov6'].value_counts()"
   ]
  },
  {
   "cell_type": "markdown",
   "metadata": {
    "id": "1I3xtvirqI3k"
   },
   "source": [
    "The above output shows that there is a huge Class imbalance if we compare group 1 with group 5 , group 4 , group 6 and group 3 . This class imbalance have to keep in mind while Training the data.\n",
    "</br>\n",
    "\n",
    "**Upsampling:** We will try to train the same data 1st without Upsampling by keep an eye on Metric and Model used for this data and if it doesn't work then we would try to work it out with upsampling.\n",
    "We could use various modules for this task such as sklearn's Resample , Imblearn's Smotes and etc.\n",
    "</br>\n",
    "\n",
    "\n",
    "**Downsampling:** We shuold not use downsampling here since if we downsample the entire dataset to number of samples present in any of the group btw 3 to 6 , then we would lose a good amount of valuable data \n",
    "\n",
    "\n"
   ]
  },
  {
   "cell_type": "code",
   "execution_count": null,
   "metadata": {
    "colab": {
     "base_uri": "https://localhost:8080/"
    },
    "id": "VR_ND2W7spAG",
    "outputId": "b24ff14a-4c65-4853-e41b-fd4ab12767d3"
   },
   "outputs": [
    {
     "name": "stdout",
     "output_type": "stream",
     "text": [
      "Total Number of NAN values in Dataset:  809220\n"
     ]
    }
   ],
   "source": [
    "#Getting total number of null values in the Dataset\n",
    "print('Total Number of NAN values in Dataset: ',data.isnull().sum().sum())"
   ]
  },
  {
   "cell_type": "markdown",
   "metadata": {
    "id": "XdoMXSfxs7c4"
   },
   "source": [
    "It seems the given Dataset contains a lot of Null values which needs to be fixed "
   ]
  },
  {
   "cell_type": "code",
   "execution_count": null,
   "metadata": {
    "colab": {
     "base_uri": "https://localhost:8080/"
    },
    "id": "uUlkfnLceq3-",
    "outputId": "ac72df84-5817-4762-c350-13275f573f12"
   },
   "outputs": [
    {
     "name": "stdout",
     "output_type": "stream",
     "text": [
      "var8 Column/Feature total number of NAN Values: 4009\n",
      "var6 Column/Feature total number of NAN Values: 16480\n",
      "b.6 Column/Feature total number of NAN Values: 8079\n",
      "b.8 Column/Feature total number of NAN Values: 1773\n",
      "b.10 Column/Feature total number of NAN Values: 16007\n",
      "b.11 Column/Feature total number of NAN Values: 16007\n",
      "b.13 Column/Feature total number of NAN Values: 11683\n",
      "b.14 Column/Feature total number of NAN Values: 11920\n",
      "b.20 Column/Feature total number of NAN Values: 14234\n",
      "b.21 Column/Feature total number of NAN Values: 15098\n",
      "c.31 Column/Feature total number of NAN Values: 15225\n",
      "c.36 Column/Feature total number of NAN Values: 18148\n",
      "c.37 Column/Feature total number of NAN Values: 18372\n",
      "c.39 Column/Feature total number of NAN Values: 5359\n",
      "c.48 Column/Feature total number of NAN Values: 4475\n",
      "c.60 Column/Feature total number of NAN Values: 7984\n",
      "c.61 Column/Feature total number of NAN Values: 16770\n",
      "c.67 Column/Feature total number of NAN Values: 17436\n",
      "c.77 Column/Feature total number of NAN Values: 78\n",
      "c.92 Column/Feature total number of NAN Values: 3090\n",
      "e.101 Column/Feature total number of NAN Values: 4241\n",
      "f.105 Column/Feature total number of NAN Values: 16159\n",
      "f.106 Column/Feature total number of NAN Values: 16160\n",
      "f.107 Column/Feature total number of NAN Values: 16378\n",
      "f.108 Column/Feature total number of NAN Values: 17394\n",
      "f.109 Column/Feature total number of NAN Values: 16542\n",
      "f.110 Column/Feature total number of NAN Values: 17709\n",
      "f.111 Column/Feature total number of NAN Values: 17450\n",
      "f.112 Column/Feature total number of NAN Values: 15825\n",
      "f.113 Column/Feature total number of NAN Values: 14983\n",
      "f.114 Column/Feature total number of NAN Values: 17435\n",
      "f.115 Column/Feature total number of NAN Values: 17878\n",
      "f.116 Column/Feature total number of NAN Values: 17745\n",
      "f.117 Column/Feature total number of NAN Values: 17985\n",
      "f.118 Column/Feature total number of NAN Values: 17944\n",
      "f.119 Column/Feature total number of NAN Values: 17821\n",
      "f.120 Column/Feature total number of NAN Values: 18042\n",
      "f.121 Column/Feature total number of NAN Values: 18128\n",
      "f.122 Column/Feature total number of NAN Values: 17952\n",
      "f.123 Column/Feature total number of NAN Values: 17874\n",
      "var4 Column/Feature total number of NAN Values: 3090\n",
      "c.125 Column/Feature total number of NAN Values: 77\n",
      "c.135 Column/Feature total number of NAN Values: 67\n",
      "c.140 Column/Feature total number of NAN Values: 4\n",
      "c.141 Column/Feature total number of NAN Values: 3\n",
      "c.145 Column/Feature total number of NAN Values: 1\n",
      "c.147 Column/Feature total number of NAN Values: 1\n",
      "c.148 Column/Feature total number of NAN Values: 1\n",
      "t7.149 Column/Feature total number of NAN Values: 67\n",
      "t7.153 Column/Feature total number of NAN Values: 4\n",
      "t7.154 Column/Feature total number of NAN Values: 2\n",
      "t7.157 Column/Feature total number of NAN Values: 3\n",
      "t7.158 Column/Feature total number of NAN Values: 76\n",
      "a.183 Column/Feature total number of NAN Values: 5360\n",
      "a.184 Column/Feature total number of NAN Values: 18148\n",
      "a.185 Column/Feature total number of NAN Values: 18372\n",
      "c.189 Column/Feature total number of NAN Values: 298\n",
      "c.190 Column/Feature total number of NAN Values: 5361\n",
      "var9 Column/Feature total number of NAN Values: 237\n",
      "b.195 Column/Feature total number of NAN Values: 14605\n",
      "c.214 Column/Feature total number of NAN Values: 5356\n",
      "c.215 Column/Feature total number of NAN Values: 18148\n",
      "c.216 Column/Feature total number of NAN Values: 18372\n",
      "c.217 Column/Feature total number of NAN Values: 18264\n",
      "c.218 Column/Feature total number of NAN Values: 18088\n",
      "c.219 Column/Feature total number of NAN Values: 18297\n",
      "c.220 Column/Feature total number of NAN Values: 18374\n",
      "c.221 Column/Feature total number of NAN Values: 18350\n",
      "c.222 Column/Feature total number of NAN Values: 15012\n",
      "c.223 Column/Feature total number of NAN Values: 18292\n",
      "c.250 Column/Feature total number of NAN Values: 221\n",
      "f.284 Column/Feature total number of NAN Values: 4418\n",
      "t.158 Column/Feature total number of NAN Values: 18379\n"
     ]
    }
   ],
   "source": [
    "#Getting all the columns which have null values along with the number of null values that they have in the entire column\n",
    "\n",
    "data_columns = list(data.columns)\n",
    "null_columns = []\n",
    "non_null_columns = []\n",
    "null_values = []\n",
    "count = 0\n",
    "for i in range(len(data_columns)):\n",
    "  if data[data_columns[i]].isnull().sum() == 0:\n",
    "    non_null_columns.append(data_columns[i])\n",
    "    pass\n",
    "  else:\n",
    "    print(data_columns[i], end = \" \")\n",
    "    print('Column/Feature total number of NAN Values:', end= ' ')\n",
    "    print(data[data_columns[i]].isnull().sum())\n",
    "    count += 1\n",
    "    null_columns.append(data_columns[i])\n",
    "    null_values.append(data[data_columns[i]].isnull().sum())"
   ]
  },
  {
   "cell_type": "code",
   "execution_count": null,
   "metadata": {
    "colab": {
     "base_uri": "https://localhost:8080/"
    },
    "id": "PabeHDStgKa5",
    "outputId": "05eda9ec-0bad-41c4-f37e-1c5db6d511af"
   },
   "outputs": [
    {
     "name": "stdout",
     "output_type": "stream",
     "text": [
      "Total number of rows with NAN values:  73\n"
     ]
    }
   ],
   "source": [
    "print('Total number of rows with NAN values: ', count)"
   ]
  },
  {
   "cell_type": "code",
   "execution_count": null,
   "metadata": {
    "colab": {
     "base_uri": "https://localhost:8080/"
    },
    "id": "JB2gVp_bgXRr",
    "outputId": "5440e7de-8158-4e8e-c187-4fa537ed3369"
   },
   "outputs": [
    {
     "name": "stdout",
     "output_type": "stream",
     "text": [
      "Number of Columns/Features Rejected due to Threshold value: 60\n",
      "Number of Columns/Features Selected to be in Dataset as per Threshold value: 13\n",
      "Shape of Data with removing columns with high amount of null_values  (18379, 241)\n"
     ]
    }
   ],
   "source": [
    "#Setting a thresold for NAN Values\n",
    "#Here we are setting the threshold to 99 and rejecting all other columns that contains number of null values in 3 digits \n",
    "\n",
    "total_rows = len(data)\n",
    "threshold_value = 99\n",
    "rejected_columns = []\n",
    "appending_columns = []\n",
    "for i in range(len(null_values)):\n",
    "  if null_values[i] >= threshold_value:\n",
    "    rejected_columns.append(null_columns[i])\n",
    "  else:\n",
    "    appending_columns.append(null_columns[i])\n",
    "\n",
    "\n",
    "print('Number of Columns/Features Rejected due to Threshold value:', len(rejected_columns))\n",
    "print('Number of Columns/Features Selected to be in Dataset as per Threshold value:', len(appending_columns))\n",
    "\n",
    "data.drop(columns= rejected_columns , inplace= True)\n",
    "print('Shape of Data with removing columns with high amount of null_values ',data.shape)"
   ]
  },
  {
   "cell_type": "markdown",
   "metadata": {
    "id": "nVvUUyA00wix"
   },
   "source": [
    "Now we need to now fill all the null values with somw kind of logic in order to remove null values entirely from the dataset"
   ]
  },
  {
   "cell_type": "code",
   "execution_count": null,
   "metadata": {
    "colab": {
     "base_uri": "https://localhost:8080/",
     "height": 307
    },
    "id": "9jF0PID4xnrO",
    "outputId": "769b7124-204e-4252-c23c-b27f6fa09f65"
   },
   "outputs": [
    {
     "data": {
      "text/html": [
       "<div>\n",
       "<style scoped>\n",
       "    .dataframe tbody tr th:only-of-type {\n",
       "        vertical-align: middle;\n",
       "    }\n",
       "\n",
       "    .dataframe tbody tr th {\n",
       "        vertical-align: top;\n",
       "    }\n",
       "\n",
       "    .dataframe thead th {\n",
       "        text-align: right;\n",
       "    }\n",
       "</style>\n",
       "<table border=\"1\" class=\"dataframe\">\n",
       "  <thead>\n",
       "    <tr style=\"text-align: right;\">\n",
       "      <th></th>\n",
       "      <th>c.77</th>\n",
       "      <th>c.125</th>\n",
       "      <th>c.135</th>\n",
       "      <th>c.140</th>\n",
       "      <th>c.141</th>\n",
       "      <th>c.145</th>\n",
       "      <th>c.147</th>\n",
       "      <th>c.148</th>\n",
       "      <th>t7.149</th>\n",
       "      <th>t7.153</th>\n",
       "      <th>t7.154</th>\n",
       "      <th>t7.157</th>\n",
       "      <th>t7.158</th>\n",
       "    </tr>\n",
       "  </thead>\n",
       "  <tbody>\n",
       "    <tr>\n",
       "      <th>count</th>\n",
       "      <td>18301.000000</td>\n",
       "      <td>18302.000000</td>\n",
       "      <td>18312.000000</td>\n",
       "      <td>18375.000000</td>\n",
       "      <td>18376.000000</td>\n",
       "      <td>18378.000000</td>\n",
       "      <td>18378.000000</td>\n",
       "      <td>18378.000000</td>\n",
       "      <td>18312.000000</td>\n",
       "      <td>18375.000000</td>\n",
       "      <td>18377.000000</td>\n",
       "      <td>18376.000000</td>\n",
       "      <td>18303.000000</td>\n",
       "    </tr>\n",
       "    <tr>\n",
       "      <th>mean</th>\n",
       "      <td>442.001570</td>\n",
       "      <td>432.809165</td>\n",
       "      <td>108.445045</td>\n",
       "      <td>22.320676</td>\n",
       "      <td>28.462364</td>\n",
       "      <td>2.476381</td>\n",
       "      <td>1.512926</td>\n",
       "      <td>0.075566</td>\n",
       "      <td>108.445045</td>\n",
       "      <td>22.320676</td>\n",
       "      <td>28.460815</td>\n",
       "      <td>15.704016</td>\n",
       "      <td>258.827959</td>\n",
       "    </tr>\n",
       "    <tr>\n",
       "      <th>std</th>\n",
       "      <td>668.713513</td>\n",
       "      <td>582.908732</td>\n",
       "      <td>350.324365</td>\n",
       "      <td>46.076570</td>\n",
       "      <td>55.646490</td>\n",
       "      <td>14.028052</td>\n",
       "      <td>28.527704</td>\n",
       "      <td>5.310951</td>\n",
       "      <td>350.324365</td>\n",
       "      <td>46.076570</td>\n",
       "      <td>55.645372</td>\n",
       "      <td>69.434167</td>\n",
       "      <td>452.892203</td>\n",
       "    </tr>\n",
       "    <tr>\n",
       "      <th>min</th>\n",
       "      <td>0.000000</td>\n",
       "      <td>0.000000</td>\n",
       "      <td>0.000000</td>\n",
       "      <td>0.000000</td>\n",
       "      <td>0.000000</td>\n",
       "      <td>0.000000</td>\n",
       "      <td>0.000000</td>\n",
       "      <td>0.000000</td>\n",
       "      <td>0.000000</td>\n",
       "      <td>0.000000</td>\n",
       "      <td>0.000000</td>\n",
       "      <td>0.000000</td>\n",
       "      <td>0.000000</td>\n",
       "    </tr>\n",
       "    <tr>\n",
       "      <th>25%</th>\n",
       "      <td>50.730000</td>\n",
       "      <td>50.000000</td>\n",
       "      <td>0.000000</td>\n",
       "      <td>0.000000</td>\n",
       "      <td>0.000000</td>\n",
       "      <td>0.000000</td>\n",
       "      <td>0.000000</td>\n",
       "      <td>0.000000</td>\n",
       "      <td>0.000000</td>\n",
       "      <td>0.000000</td>\n",
       "      <td>0.000000</td>\n",
       "      <td>0.000000</td>\n",
       "      <td>46.670000</td>\n",
       "    </tr>\n",
       "    <tr>\n",
       "      <th>50%</th>\n",
       "      <td>250.000000</td>\n",
       "      <td>250.000000</td>\n",
       "      <td>7.500000</td>\n",
       "      <td>0.000000</td>\n",
       "      <td>0.000000</td>\n",
       "      <td>0.000000</td>\n",
       "      <td>0.000000</td>\n",
       "      <td>0.000000</td>\n",
       "      <td>7.500000</td>\n",
       "      <td>0.000000</td>\n",
       "      <td>0.000000</td>\n",
       "      <td>0.000000</td>\n",
       "      <td>150.000000</td>\n",
       "    </tr>\n",
       "    <tr>\n",
       "      <th>75%</th>\n",
       "      <td>500.000000</td>\n",
       "      <td>500.000000</td>\n",
       "      <td>125.000000</td>\n",
       "      <td>30.000000</td>\n",
       "      <td>45.000000</td>\n",
       "      <td>0.000000</td>\n",
       "      <td>0.000000</td>\n",
       "      <td>0.000000</td>\n",
       "      <td>125.000000</td>\n",
       "      <td>30.000000</td>\n",
       "      <td>45.000000</td>\n",
       "      <td>0.000000</td>\n",
       "      <td>300.000000</td>\n",
       "    </tr>\n",
       "    <tr>\n",
       "      <th>max</th>\n",
       "      <td>31467.400000</td>\n",
       "      <td>6600.000000</td>\n",
       "      <td>33333.000000</td>\n",
       "      <td>1000.000000</td>\n",
       "      <td>1500.000000</td>\n",
       "      <td>500.000000</td>\n",
       "      <td>1950.000000</td>\n",
       "      <td>600.000000</td>\n",
       "      <td>33333.000000</td>\n",
       "      <td>1000.000000</td>\n",
       "      <td>1500.000000</td>\n",
       "      <td>3000.000000</td>\n",
       "      <td>33333.000000</td>\n",
       "    </tr>\n",
       "  </tbody>\n",
       "</table>\n",
       "</div>"
      ],
      "text/plain": [
       "               c.77         c.125  ...        t7.157        t7.158\n",
       "count  18301.000000  18302.000000  ...  18376.000000  18303.000000\n",
       "mean     442.001570    432.809165  ...     15.704016    258.827959\n",
       "std      668.713513    582.908732  ...     69.434167    452.892203\n",
       "min        0.000000      0.000000  ...      0.000000      0.000000\n",
       "25%       50.730000     50.000000  ...      0.000000     46.670000\n",
       "50%      250.000000    250.000000  ...      0.000000    150.000000\n",
       "75%      500.000000    500.000000  ...      0.000000    300.000000\n",
       "max    31467.400000   6600.000000  ...   3000.000000  33333.000000\n",
       "\n",
       "[8 rows x 13 columns]"
      ]
     },
     "execution_count": 29,
     "metadata": {
      "tags": []
     },
     "output_type": "execute_result"
    }
   ],
   "source": [
    "data[appending_columns].describe()"
   ]
  },
  {
   "cell_type": "code",
   "execution_count": null,
   "metadata": {
    "colab": {
     "base_uri": "https://localhost:8080/"
    },
    "id": "C-l65hLByDR_",
    "outputId": "5f4e3197-e693-4f5d-d868-ef59316b4964"
   },
   "outputs": [
    {
     "name": "stdout",
     "output_type": "stream",
     "text": [
      " Total number of NAN values in current Dataset:  384\n",
      " Total number of NAN valuesin Dataset after filling:  0\n"
     ]
    }
   ],
   "source": [
    "print(' Total number of NAN values in current Dataset: ',data[appending_columns].isnull().sum().sum())\n",
    "\n",
    "#Filling all the NAN Values with the most frequent occuring values in the columns\n",
    "for column in data[appending_columns].columns:\n",
    "    data[column].fillna(data[column].mode()[0], inplace=True)\n",
    "\n",
    "print(' Total number of NAN valuesin Dataset after filling: ',data[appending_columns].isnull().sum().sum())"
   ]
  },
  {
   "cell_type": "code",
   "execution_count": null,
   "metadata": {
    "colab": {
     "base_uri": "https://localhost:8080/"
    },
    "id": "i1KWWIgg00bS",
    "outputId": "986bdc04-6480-45d8-d701-a8a47eb5e005"
   },
   "outputs": [
    {
     "name": "stdout",
     "output_type": "stream",
     "text": [
      "Shape of Training Dataset: (18379, 241)\n"
     ]
    }
   ],
   "source": [
    "print('Shape of Training Dataset:', data.shape)"
   ]
  },
  {
   "cell_type": "code",
   "execution_count": null,
   "metadata": {
    "colab": {
     "base_uri": "https://localhost:8080/"
    },
    "id": "sztbIWmJUKn2",
    "outputId": "4dddac82-0e79-4a75-cc1f-876578265b0e"
   },
   "outputs": [
    {
     "name": "stdout",
     "output_type": "stream",
     "text": [
      "<class 'pandas.core.frame.DataFrame'>\n",
      "RangeIndex: 18379 entries, 0 to 18378\n",
      "Columns: 241 entries, Unnamed: 0 to c.283\n",
      "dtypes: float64(75), int64(165), object(1)\n",
      "memory usage: 33.8+ MB\n"
     ]
    }
   ],
   "source": [
    "data.info()"
   ]
  },
  {
   "cell_type": "code",
   "execution_count": null,
   "metadata": {
    "colab": {
     "base_uri": "https://localhost:8080/"
    },
    "id": "TOYPyPzGUxL9",
    "outputId": "ccf34d25-c813-40b7-eadc-7e9a6883caf5"
   },
   "outputs": [
    {
     "name": "stdout",
     "output_type": "stream",
     "text": [
      "respondent.id    object\n",
      "dtype: object\n"
     ]
    }
   ],
   "source": [
    "import numpy as np\n",
    "object_columns = data.dtypes[data.dtypes == np.object]\n",
    "print(object_columns)"
   ]
  },
  {
   "cell_type": "code",
   "execution_count": null,
   "metadata": {
    "id": "_1tCgT6WU_E5"
   },
   "outputs": [],
   "source": [
    "import re\n",
    "data['respondent.id'] = data['respondent.id'].apply(lambda x : re.sub('2016_' , '' , x))\n",
    "data['respondent.id'] = data['respondent.id'].astype('int64')"
   ]
  },
  {
   "cell_type": "code",
   "execution_count": null,
   "metadata": {
    "colab": {
     "base_uri": "https://localhost:8080/"
    },
    "id": "3b4v2KDWXB0Z",
    "outputId": "855ae37d-0455-4cab-f5a0-eebb2fb0e54f"
   },
   "outputs": [
    {
     "name": "stdout",
     "output_type": "stream",
     "text": [
      "Series([], dtype: object)\n"
     ]
    }
   ],
   "source": [
    "object_columns = data.dtypes[data.dtypes == np.object]\n",
    "print(object_columns)"
   ]
  },
  {
   "cell_type": "code",
   "execution_count": null,
   "metadata": {
    "colab": {
     "base_uri": "https://localhost:8080/",
     "height": 263
    },
    "id": "p-ziXuZyYo8N",
    "outputId": "8723470c-9c1a-4822-fb3c-fe2a40ea8a42"
   },
   "outputs": [
    {
     "data": {
      "text/html": [
       "<div>\n",
       "<style scoped>\n",
       "    .dataframe tbody tr th:only-of-type {\n",
       "        vertical-align: middle;\n",
       "    }\n",
       "\n",
       "    .dataframe tbody tr th {\n",
       "        vertical-align: top;\n",
       "    }\n",
       "\n",
       "    .dataframe thead th {\n",
       "        text-align: right;\n",
       "    }\n",
       "</style>\n",
       "<table border=\"1\" class=\"dataframe\">\n",
       "  <thead>\n",
       "    <tr style=\"text-align: right;\">\n",
       "      <th></th>\n",
       "      <th>Unnamed: 0</th>\n",
       "      <th>month</th>\n",
       "      <th>var8</th>\n",
       "      <th>var6</th>\n",
       "      <th>a.1</th>\n",
       "      <th>a.2</th>\n",
       "      <th>a.3</th>\n",
       "      <th>a.4</th>\n",
       "      <th>var5</th>\n",
       "      <th>b.5</th>\n",
       "      <th>b.6</th>\n",
       "      <th>b.7</th>\n",
       "      <th>b.8</th>\n",
       "      <th>b.9</th>\n",
       "      <th>b.10</th>\n",
       "      <th>b.11</th>\n",
       "      <th>b.12</th>\n",
       "      <th>b.13</th>\n",
       "      <th>b.14</th>\n",
       "      <th>b.15</th>\n",
       "      <th>b.16</th>\n",
       "      <th>b.17</th>\n",
       "      <th>b.18</th>\n",
       "      <th>b.19</th>\n",
       "      <th>b.20</th>\n",
       "      <th>b.21</th>\n",
       "      <th>b.22</th>\n",
       "      <th>pov6</th>\n",
       "      <th>b.23</th>\n",
       "      <th>b.24</th>\n",
       "      <th>b.25</th>\n",
       "      <th>b.26</th>\n",
       "      <th>b.27</th>\n",
       "      <th>b.28</th>\n",
       "      <th>c.29</th>\n",
       "      <th>c.30</th>\n",
       "      <th>var7</th>\n",
       "      <th>c.31</th>\n",
       "      <th>c.32</th>\n",
       "      <th>c.33</th>\n",
       "      <th>...</th>\n",
       "      <th>c.245</th>\n",
       "      <th>c.246</th>\n",
       "      <th>c.247</th>\n",
       "      <th>c.248</th>\n",
       "      <th>c.249</th>\n",
       "      <th>c.250</th>\n",
       "      <th>c.251</th>\n",
       "      <th>c.252</th>\n",
       "      <th>c.253</th>\n",
       "      <th>c.254</th>\n",
       "      <th>c.255</th>\n",
       "      <th>c.256</th>\n",
       "      <th>c.257</th>\n",
       "      <th>c.258</th>\n",
       "      <th>c.259</th>\n",
       "      <th>c.260</th>\n",
       "      <th>c.261</th>\n",
       "      <th>c.262</th>\n",
       "      <th>c.263</th>\n",
       "      <th>c.264</th>\n",
       "      <th>c.265</th>\n",
       "      <th>c.266</th>\n",
       "      <th>c.267</th>\n",
       "      <th>c.268</th>\n",
       "      <th>c.269</th>\n",
       "      <th>c.270</th>\n",
       "      <th>c.271</th>\n",
       "      <th>c.272</th>\n",
       "      <th>c.273</th>\n",
       "      <th>c.274</th>\n",
       "      <th>c.275</th>\n",
       "      <th>c.276</th>\n",
       "      <th>c.277</th>\n",
       "      <th>c.278</th>\n",
       "      <th>c.279</th>\n",
       "      <th>c.280</th>\n",
       "      <th>c.281</th>\n",
       "      <th>c.282</th>\n",
       "      <th>c.283</th>\n",
       "      <th>f.284</th>\n",
       "    </tr>\n",
       "  </thead>\n",
       "  <tbody>\n",
       "    <tr>\n",
       "      <th>0</th>\n",
       "      <td>9</td>\n",
       "      <td>1</td>\n",
       "      <td>1.0</td>\n",
       "      <td>NaN</td>\n",
       "      <td>1</td>\n",
       "      <td>11</td>\n",
       "      <td>1</td>\n",
       "      <td>47</td>\n",
       "      <td>8</td>\n",
       "      <td>2</td>\n",
       "      <td>1.0</td>\n",
       "      <td>1</td>\n",
       "      <td>1.0</td>\n",
       "      <td>1</td>\n",
       "      <td>211.0</td>\n",
       "      <td>0.0</td>\n",
       "      <td>1</td>\n",
       "      <td>211.0</td>\n",
       "      <td>NaN</td>\n",
       "      <td>12</td>\n",
       "      <td>12</td>\n",
       "      <td>12.0</td>\n",
       "      <td>12.0</td>\n",
       "      <td>10</td>\n",
       "      <td>0.0</td>\n",
       "      <td>0.0</td>\n",
       "      <td>31</td>\n",
       "      <td>NaN</td>\n",
       "      <td>14</td>\n",
       "      <td>0</td>\n",
       "      <td>0</td>\n",
       "      <td>0</td>\n",
       "      <td>0</td>\n",
       "      <td>0</td>\n",
       "      <td>2</td>\n",
       "      <td>2</td>\n",
       "      <td>2</td>\n",
       "      <td>NaN</td>\n",
       "      <td>2</td>\n",
       "      <td>0</td>\n",
       "      <td>...</td>\n",
       "      <td>0</td>\n",
       "      <td>1</td>\n",
       "      <td>0</td>\n",
       "      <td>0</td>\n",
       "      <td>0</td>\n",
       "      <td>0.0</td>\n",
       "      <td>0</td>\n",
       "      <td>0</td>\n",
       "      <td>0</td>\n",
       "      <td>0</td>\n",
       "      <td>0</td>\n",
       "      <td>0</td>\n",
       "      <td>0</td>\n",
       "      <td>0</td>\n",
       "      <td>0</td>\n",
       "      <td>0</td>\n",
       "      <td>0</td>\n",
       "      <td>0</td>\n",
       "      <td>0</td>\n",
       "      <td>0</td>\n",
       "      <td>0</td>\n",
       "      <td>0</td>\n",
       "      <td>1</td>\n",
       "      <td>0</td>\n",
       "      <td>1</td>\n",
       "      <td>1</td>\n",
       "      <td>0</td>\n",
       "      <td>0</td>\n",
       "      <td>0</td>\n",
       "      <td>0</td>\n",
       "      <td>0</td>\n",
       "      <td>0</td>\n",
       "      <td>0</td>\n",
       "      <td>0</td>\n",
       "      <td>0</td>\n",
       "      <td>0</td>\n",
       "      <td>0</td>\n",
       "      <td>1</td>\n",
       "      <td>0</td>\n",
       "      <td>3.0</td>\n",
       "    </tr>\n",
       "    <tr>\n",
       "      <th>1</th>\n",
       "      <td>15</td>\n",
       "      <td>1</td>\n",
       "      <td>2.0</td>\n",
       "      <td>NaN</td>\n",
       "      <td>1</td>\n",
       "      <td>11</td>\n",
       "      <td>1</td>\n",
       "      <td>65</td>\n",
       "      <td>27</td>\n",
       "      <td>1</td>\n",
       "      <td>NaN</td>\n",
       "      <td>1</td>\n",
       "      <td>1.0</td>\n",
       "      <td>2</td>\n",
       "      <td>NaN</td>\n",
       "      <td>NaN</td>\n",
       "      <td>2</td>\n",
       "      <td>NaN</td>\n",
       "      <td>NaN</td>\n",
       "      <td>4</td>\n",
       "      <td>4</td>\n",
       "      <td>4.0</td>\n",
       "      <td>4.0</td>\n",
       "      <td>5</td>\n",
       "      <td>0.0</td>\n",
       "      <td>0.0</td>\n",
       "      <td>14</td>\n",
       "      <td>NaN</td>\n",
       "      <td>0</td>\n",
       "      <td>0</td>\n",
       "      <td>0</td>\n",
       "      <td>0</td>\n",
       "      <td>0</td>\n",
       "      <td>0</td>\n",
       "      <td>1</td>\n",
       "      <td>1</td>\n",
       "      <td>1</td>\n",
       "      <td>1.0</td>\n",
       "      <td>1</td>\n",
       "      <td>1</td>\n",
       "      <td>...</td>\n",
       "      <td>0</td>\n",
       "      <td>1</td>\n",
       "      <td>0</td>\n",
       "      <td>0</td>\n",
       "      <td>0</td>\n",
       "      <td>0.0</td>\n",
       "      <td>0</td>\n",
       "      <td>1</td>\n",
       "      <td>0</td>\n",
       "      <td>0</td>\n",
       "      <td>0</td>\n",
       "      <td>0</td>\n",
       "      <td>0</td>\n",
       "      <td>0</td>\n",
       "      <td>0</td>\n",
       "      <td>0</td>\n",
       "      <td>0</td>\n",
       "      <td>0</td>\n",
       "      <td>0</td>\n",
       "      <td>0</td>\n",
       "      <td>0</td>\n",
       "      <td>0</td>\n",
       "      <td>1</td>\n",
       "      <td>0</td>\n",
       "      <td>1</td>\n",
       "      <td>1</td>\n",
       "      <td>0</td>\n",
       "      <td>0</td>\n",
       "      <td>0</td>\n",
       "      <td>0</td>\n",
       "      <td>0</td>\n",
       "      <td>1</td>\n",
       "      <td>0</td>\n",
       "      <td>0</td>\n",
       "      <td>0</td>\n",
       "      <td>0</td>\n",
       "      <td>0</td>\n",
       "      <td>0</td>\n",
       "      <td>0</td>\n",
       "      <td>3.0</td>\n",
       "    </tr>\n",
       "    <tr>\n",
       "      <th>2</th>\n",
       "      <td>16</td>\n",
       "      <td>1</td>\n",
       "      <td>2.0</td>\n",
       "      <td>NaN</td>\n",
       "      <td>1</td>\n",
       "      <td>6</td>\n",
       "      <td>1</td>\n",
       "      <td>65</td>\n",
       "      <td>27</td>\n",
       "      <td>2</td>\n",
       "      <td>1.0</td>\n",
       "      <td>1</td>\n",
       "      <td>1.0</td>\n",
       "      <td>2</td>\n",
       "      <td>NaN</td>\n",
       "      <td>NaN</td>\n",
       "      <td>2</td>\n",
       "      <td>NaN</td>\n",
       "      <td>NaN</td>\n",
       "      <td>56</td>\n",
       "      <td>56</td>\n",
       "      <td>56.0</td>\n",
       "      <td>56.0</td>\n",
       "      <td>12</td>\n",
       "      <td>0.0</td>\n",
       "      <td>0.0</td>\n",
       "      <td>45</td>\n",
       "      <td>NaN</td>\n",
       "      <td>0</td>\n",
       "      <td>0</td>\n",
       "      <td>0</td>\n",
       "      <td>0</td>\n",
       "      <td>0</td>\n",
       "      <td>0</td>\n",
       "      <td>2</td>\n",
       "      <td>2</td>\n",
       "      <td>3</td>\n",
       "      <td>NaN</td>\n",
       "      <td>2</td>\n",
       "      <td>0</td>\n",
       "      <td>...</td>\n",
       "      <td>0</td>\n",
       "      <td>0</td>\n",
       "      <td>1</td>\n",
       "      <td>0</td>\n",
       "      <td>0</td>\n",
       "      <td>0.0</td>\n",
       "      <td>0</td>\n",
       "      <td>0</td>\n",
       "      <td>0</td>\n",
       "      <td>0</td>\n",
       "      <td>0</td>\n",
       "      <td>0</td>\n",
       "      <td>0</td>\n",
       "      <td>0</td>\n",
       "      <td>0</td>\n",
       "      <td>0</td>\n",
       "      <td>0</td>\n",
       "      <td>0</td>\n",
       "      <td>0</td>\n",
       "      <td>0</td>\n",
       "      <td>0</td>\n",
       "      <td>0</td>\n",
       "      <td>1</td>\n",
       "      <td>0</td>\n",
       "      <td>0</td>\n",
       "      <td>0</td>\n",
       "      <td>0</td>\n",
       "      <td>0</td>\n",
       "      <td>0</td>\n",
       "      <td>0</td>\n",
       "      <td>0</td>\n",
       "      <td>0</td>\n",
       "      <td>0</td>\n",
       "      <td>0</td>\n",
       "      <td>0</td>\n",
       "      <td>0</td>\n",
       "      <td>0</td>\n",
       "      <td>1</td>\n",
       "      <td>0</td>\n",
       "      <td>3.0</td>\n",
       "    </tr>\n",
       "    <tr>\n",
       "      <th>3</th>\n",
       "      <td>24</td>\n",
       "      <td>1</td>\n",
       "      <td>1.0</td>\n",
       "      <td>NaN</td>\n",
       "      <td>1</td>\n",
       "      <td>3</td>\n",
       "      <td>1</td>\n",
       "      <td>3</td>\n",
       "      <td>2</td>\n",
       "      <td>1</td>\n",
       "      <td>NaN</td>\n",
       "      <td>1</td>\n",
       "      <td>1.0</td>\n",
       "      <td>1</td>\n",
       "      <td>35.0</td>\n",
       "      <td>3.0</td>\n",
       "      <td>1</td>\n",
       "      <td>90.0</td>\n",
       "      <td>NaN</td>\n",
       "      <td>5</td>\n",
       "      <td>5</td>\n",
       "      <td>5.0</td>\n",
       "      <td>5.0</td>\n",
       "      <td>6</td>\n",
       "      <td>0.0</td>\n",
       "      <td>0.0</td>\n",
       "      <td>14</td>\n",
       "      <td>NaN</td>\n",
       "      <td>0</td>\n",
       "      <td>0</td>\n",
       "      <td>0</td>\n",
       "      <td>0</td>\n",
       "      <td>0</td>\n",
       "      <td>0</td>\n",
       "      <td>2</td>\n",
       "      <td>2</td>\n",
       "      <td>2</td>\n",
       "      <td>NaN</td>\n",
       "      <td>2</td>\n",
       "      <td>0</td>\n",
       "      <td>...</td>\n",
       "      <td>0</td>\n",
       "      <td>0</td>\n",
       "      <td>0</td>\n",
       "      <td>0</td>\n",
       "      <td>0</td>\n",
       "      <td>0.0</td>\n",
       "      <td>0</td>\n",
       "      <td>0</td>\n",
       "      <td>0</td>\n",
       "      <td>0</td>\n",
       "      <td>0</td>\n",
       "      <td>0</td>\n",
       "      <td>0</td>\n",
       "      <td>0</td>\n",
       "      <td>0</td>\n",
       "      <td>0</td>\n",
       "      <td>0</td>\n",
       "      <td>0</td>\n",
       "      <td>0</td>\n",
       "      <td>0</td>\n",
       "      <td>0</td>\n",
       "      <td>0</td>\n",
       "      <td>1</td>\n",
       "      <td>0</td>\n",
       "      <td>0</td>\n",
       "      <td>0</td>\n",
       "      <td>0</td>\n",
       "      <td>0</td>\n",
       "      <td>0</td>\n",
       "      <td>0</td>\n",
       "      <td>0</td>\n",
       "      <td>0</td>\n",
       "      <td>0</td>\n",
       "      <td>0</td>\n",
       "      <td>0</td>\n",
       "      <td>0</td>\n",
       "      <td>0</td>\n",
       "      <td>0</td>\n",
       "      <td>0</td>\n",
       "      <td>NaN</td>\n",
       "    </tr>\n",
       "    <tr>\n",
       "      <th>4</th>\n",
       "      <td>32</td>\n",
       "      <td>1</td>\n",
       "      <td>1.0</td>\n",
       "      <td>NaN</td>\n",
       "      <td>1</td>\n",
       "      <td>5</td>\n",
       "      <td>1</td>\n",
       "      <td>83</td>\n",
       "      <td>3</td>\n",
       "      <td>1</td>\n",
       "      <td>NaN</td>\n",
       "      <td>1</td>\n",
       "      <td>4.0</td>\n",
       "      <td>1</td>\n",
       "      <td>94.0</td>\n",
       "      <td>5.0</td>\n",
       "      <td>1</td>\n",
       "      <td>200.0</td>\n",
       "      <td>4.0</td>\n",
       "      <td>4</td>\n",
       "      <td>4</td>\n",
       "      <td>4.0</td>\n",
       "      <td>4.0</td>\n",
       "      <td>5</td>\n",
       "      <td>0.0</td>\n",
       "      <td>0.0</td>\n",
       "      <td>14</td>\n",
       "      <td>NaN</td>\n",
       "      <td>0</td>\n",
       "      <td>0</td>\n",
       "      <td>0</td>\n",
       "      <td>0</td>\n",
       "      <td>0</td>\n",
       "      <td>0</td>\n",
       "      <td>2</td>\n",
       "      <td>2</td>\n",
       "      <td>2</td>\n",
       "      <td>NaN</td>\n",
       "      <td>2</td>\n",
       "      <td>0</td>\n",
       "      <td>...</td>\n",
       "      <td>1</td>\n",
       "      <td>1</td>\n",
       "      <td>1</td>\n",
       "      <td>0</td>\n",
       "      <td>0</td>\n",
       "      <td>0.0</td>\n",
       "      <td>0</td>\n",
       "      <td>0</td>\n",
       "      <td>0</td>\n",
       "      <td>0</td>\n",
       "      <td>0</td>\n",
       "      <td>0</td>\n",
       "      <td>0</td>\n",
       "      <td>0</td>\n",
       "      <td>0</td>\n",
       "      <td>0</td>\n",
       "      <td>0</td>\n",
       "      <td>0</td>\n",
       "      <td>0</td>\n",
       "      <td>0</td>\n",
       "      <td>0</td>\n",
       "      <td>0</td>\n",
       "      <td>1</td>\n",
       "      <td>0</td>\n",
       "      <td>0</td>\n",
       "      <td>1</td>\n",
       "      <td>0</td>\n",
       "      <td>0</td>\n",
       "      <td>0</td>\n",
       "      <td>0</td>\n",
       "      <td>0</td>\n",
       "      <td>1</td>\n",
       "      <td>0</td>\n",
       "      <td>0</td>\n",
       "      <td>0</td>\n",
       "      <td>1</td>\n",
       "      <td>0</td>\n",
       "      <td>0</td>\n",
       "      <td>0</td>\n",
       "      <td>NaN</td>\n",
       "    </tr>\n",
       "  </tbody>\n",
       "</table>\n",
       "<p>5 rows × 300 columns</p>\n",
       "</div>"
      ],
      "text/plain": [
       "   Unnamed: 0  month  var8  var6  a.1  ...  c.280  c.281  c.282  c.283  f.284\n",
       "0           9      1   1.0   NaN    1  ...      0      0      1      0    3.0\n",
       "1          15      1   2.0   NaN    1  ...      0      0      0      0    3.0\n",
       "2          16      1   2.0   NaN    1  ...      0      0      1      0    3.0\n",
       "3          24      1   1.0   NaN    1  ...      0      0      0      0    NaN\n",
       "4          32      1   1.0   NaN    1  ...      1      0      0      0    NaN\n",
       "\n",
       "[5 rows x 300 columns]"
      ]
     },
     "execution_count": 37,
     "metadata": {
      "tags": []
     },
     "output_type": "execute_result"
    }
   ],
   "source": [
    "#Reading the test data in tabular formal using pandas\n",
    "test_df = pd.read_csv('/content/drive/MyDrive/TestData.csv')\n",
    "test_df.head(5)"
   ]
  },
  {
   "cell_type": "markdown",
   "metadata": {
    "id": "-weCTQTO1ot2"
   },
   "source": [
    "Since we are traning our dataset with reduced number of columns/Features , hence we need to remove those columns/features from test data as well"
   ]
  },
  {
   "cell_type": "code",
   "execution_count": null,
   "metadata": {
    "colab": {
     "base_uri": "https://localhost:8080/",
     "height": 334
    },
    "id": "ERolR8JK12xl",
    "outputId": "0a7726e4-2643-43d6-a7d6-1a6c0b28b972"
   },
   "outputs": [
    {
     "ename": "KeyError",
     "evalue": "ignored",
     "output_type": "error",
     "traceback": [
      "\u001b[0;31m---------------------------------------------------------------------------\u001b[0m",
      "\u001b[0;31mKeyError\u001b[0m                                  Traceback (most recent call last)",
      "\u001b[0;32m<ipython-input-176-7cf508b73e95>\u001b[0m in \u001b[0;36m<module>\u001b[0;34m()\u001b[0m\n\u001b[0;32m----> 1\u001b[0;31m \u001b[0mtest_df\u001b[0m\u001b[0;34m.\u001b[0m\u001b[0mdrop\u001b[0m\u001b[0;34m(\u001b[0m\u001b[0mcolumns\u001b[0m\u001b[0;34m=\u001b[0m \u001b[0mrejected_columns\u001b[0m \u001b[0;34m,\u001b[0m \u001b[0minplace\u001b[0m \u001b[0;34m=\u001b[0m \u001b[0;32mTrue\u001b[0m \u001b[0;34m)\u001b[0m\u001b[0;34m\u001b[0m\u001b[0;34m\u001b[0m\u001b[0m\n\u001b[0m\u001b[1;32m      2\u001b[0m \u001b[0mprint\u001b[0m\u001b[0;34m(\u001b[0m\u001b[0;34m'Shape of Testing Data: '\u001b[0m\u001b[0;34m,\u001b[0m \u001b[0mtest_df\u001b[0m\u001b[0;34m.\u001b[0m\u001b[0mshape\u001b[0m\u001b[0;34m)\u001b[0m\u001b[0;34m\u001b[0m\u001b[0;34m\u001b[0m\u001b[0m\n",
      "\u001b[0;32m/usr/local/lib/python3.6/dist-packages/pandas/core/frame.py\u001b[0m in \u001b[0;36mdrop\u001b[0;34m(self, labels, axis, index, columns, level, inplace, errors)\u001b[0m\n\u001b[1;32m   4172\u001b[0m             \u001b[0mlevel\u001b[0m\u001b[0;34m=\u001b[0m\u001b[0mlevel\u001b[0m\u001b[0;34m,\u001b[0m\u001b[0;34m\u001b[0m\u001b[0;34m\u001b[0m\u001b[0m\n\u001b[1;32m   4173\u001b[0m             \u001b[0minplace\u001b[0m\u001b[0;34m=\u001b[0m\u001b[0minplace\u001b[0m\u001b[0;34m,\u001b[0m\u001b[0;34m\u001b[0m\u001b[0;34m\u001b[0m\u001b[0m\n\u001b[0;32m-> 4174\u001b[0;31m             \u001b[0merrors\u001b[0m\u001b[0;34m=\u001b[0m\u001b[0merrors\u001b[0m\u001b[0;34m,\u001b[0m\u001b[0;34m\u001b[0m\u001b[0;34m\u001b[0m\u001b[0m\n\u001b[0m\u001b[1;32m   4175\u001b[0m         )\n\u001b[1;32m   4176\u001b[0m \u001b[0;34m\u001b[0m\u001b[0m\n",
      "\u001b[0;32m/usr/local/lib/python3.6/dist-packages/pandas/core/generic.py\u001b[0m in \u001b[0;36mdrop\u001b[0;34m(self, labels, axis, index, columns, level, inplace, errors)\u001b[0m\n\u001b[1;32m   3887\u001b[0m         \u001b[0;32mfor\u001b[0m \u001b[0maxis\u001b[0m\u001b[0;34m,\u001b[0m \u001b[0mlabels\u001b[0m \u001b[0;32min\u001b[0m \u001b[0maxes\u001b[0m\u001b[0;34m.\u001b[0m\u001b[0mitems\u001b[0m\u001b[0;34m(\u001b[0m\u001b[0;34m)\u001b[0m\u001b[0;34m:\u001b[0m\u001b[0;34m\u001b[0m\u001b[0;34m\u001b[0m\u001b[0m\n\u001b[1;32m   3888\u001b[0m             \u001b[0;32mif\u001b[0m \u001b[0mlabels\u001b[0m \u001b[0;32mis\u001b[0m \u001b[0;32mnot\u001b[0m \u001b[0;32mNone\u001b[0m\u001b[0;34m:\u001b[0m\u001b[0;34m\u001b[0m\u001b[0;34m\u001b[0m\u001b[0m\n\u001b[0;32m-> 3889\u001b[0;31m                 \u001b[0mobj\u001b[0m \u001b[0;34m=\u001b[0m \u001b[0mobj\u001b[0m\u001b[0;34m.\u001b[0m\u001b[0m_drop_axis\u001b[0m\u001b[0;34m(\u001b[0m\u001b[0mlabels\u001b[0m\u001b[0;34m,\u001b[0m \u001b[0maxis\u001b[0m\u001b[0;34m,\u001b[0m \u001b[0mlevel\u001b[0m\u001b[0;34m=\u001b[0m\u001b[0mlevel\u001b[0m\u001b[0;34m,\u001b[0m \u001b[0merrors\u001b[0m\u001b[0;34m=\u001b[0m\u001b[0merrors\u001b[0m\u001b[0;34m)\u001b[0m\u001b[0;34m\u001b[0m\u001b[0;34m\u001b[0m\u001b[0m\n\u001b[0m\u001b[1;32m   3890\u001b[0m \u001b[0;34m\u001b[0m\u001b[0m\n\u001b[1;32m   3891\u001b[0m         \u001b[0;32mif\u001b[0m \u001b[0minplace\u001b[0m\u001b[0;34m:\u001b[0m\u001b[0;34m\u001b[0m\u001b[0;34m\u001b[0m\u001b[0m\n",
      "\u001b[0;32m/usr/local/lib/python3.6/dist-packages/pandas/core/generic.py\u001b[0m in \u001b[0;36m_drop_axis\u001b[0;34m(self, labels, axis, level, errors)\u001b[0m\n\u001b[1;32m   3921\u001b[0m                 \u001b[0mnew_axis\u001b[0m \u001b[0;34m=\u001b[0m \u001b[0maxis\u001b[0m\u001b[0;34m.\u001b[0m\u001b[0mdrop\u001b[0m\u001b[0;34m(\u001b[0m\u001b[0mlabels\u001b[0m\u001b[0;34m,\u001b[0m \u001b[0mlevel\u001b[0m\u001b[0;34m=\u001b[0m\u001b[0mlevel\u001b[0m\u001b[0;34m,\u001b[0m \u001b[0merrors\u001b[0m\u001b[0;34m=\u001b[0m\u001b[0merrors\u001b[0m\u001b[0;34m)\u001b[0m\u001b[0;34m\u001b[0m\u001b[0;34m\u001b[0m\u001b[0m\n\u001b[1;32m   3922\u001b[0m             \u001b[0;32melse\u001b[0m\u001b[0;34m:\u001b[0m\u001b[0;34m\u001b[0m\u001b[0;34m\u001b[0m\u001b[0m\n\u001b[0;32m-> 3923\u001b[0;31m                 \u001b[0mnew_axis\u001b[0m \u001b[0;34m=\u001b[0m \u001b[0maxis\u001b[0m\u001b[0;34m.\u001b[0m\u001b[0mdrop\u001b[0m\u001b[0;34m(\u001b[0m\u001b[0mlabels\u001b[0m\u001b[0;34m,\u001b[0m \u001b[0merrors\u001b[0m\u001b[0;34m=\u001b[0m\u001b[0merrors\u001b[0m\u001b[0;34m)\u001b[0m\u001b[0;34m\u001b[0m\u001b[0;34m\u001b[0m\u001b[0m\n\u001b[0m\u001b[1;32m   3924\u001b[0m             \u001b[0mresult\u001b[0m \u001b[0;34m=\u001b[0m \u001b[0mself\u001b[0m\u001b[0;34m.\u001b[0m\u001b[0mreindex\u001b[0m\u001b[0;34m(\u001b[0m\u001b[0;34m**\u001b[0m\u001b[0;34m{\u001b[0m\u001b[0maxis_name\u001b[0m\u001b[0;34m:\u001b[0m \u001b[0mnew_axis\u001b[0m\u001b[0;34m}\u001b[0m\u001b[0;34m)\u001b[0m\u001b[0;34m\u001b[0m\u001b[0;34m\u001b[0m\u001b[0m\n\u001b[1;32m   3925\u001b[0m \u001b[0;34m\u001b[0m\u001b[0m\n",
      "\u001b[0;32m/usr/local/lib/python3.6/dist-packages/pandas/core/indexes/base.py\u001b[0m in \u001b[0;36mdrop\u001b[0;34m(self, labels, errors)\u001b[0m\n\u001b[1;32m   5285\u001b[0m         \u001b[0;32mif\u001b[0m \u001b[0mmask\u001b[0m\u001b[0;34m.\u001b[0m\u001b[0many\u001b[0m\u001b[0;34m(\u001b[0m\u001b[0;34m)\u001b[0m\u001b[0;34m:\u001b[0m\u001b[0;34m\u001b[0m\u001b[0;34m\u001b[0m\u001b[0m\n\u001b[1;32m   5286\u001b[0m             \u001b[0;32mif\u001b[0m \u001b[0merrors\u001b[0m \u001b[0;34m!=\u001b[0m \u001b[0;34m\"ignore\"\u001b[0m\u001b[0;34m:\u001b[0m\u001b[0;34m\u001b[0m\u001b[0;34m\u001b[0m\u001b[0m\n\u001b[0;32m-> 5287\u001b[0;31m                 \u001b[0;32mraise\u001b[0m \u001b[0mKeyError\u001b[0m\u001b[0;34m(\u001b[0m\u001b[0;34mf\"{labels[mask]} not found in axis\"\u001b[0m\u001b[0;34m)\u001b[0m\u001b[0;34m\u001b[0m\u001b[0;34m\u001b[0m\u001b[0m\n\u001b[0m\u001b[1;32m   5288\u001b[0m             \u001b[0mindexer\u001b[0m \u001b[0;34m=\u001b[0m \u001b[0mindexer\u001b[0m\u001b[0;34m[\u001b[0m\u001b[0;34m~\u001b[0m\u001b[0mmask\u001b[0m\u001b[0;34m]\u001b[0m\u001b[0;34m\u001b[0m\u001b[0;34m\u001b[0m\u001b[0m\n\u001b[1;32m   5289\u001b[0m         \u001b[0;32mreturn\u001b[0m \u001b[0mself\u001b[0m\u001b[0;34m.\u001b[0m\u001b[0mdelete\u001b[0m\u001b[0;34m(\u001b[0m\u001b[0mindexer\u001b[0m\u001b[0;34m)\u001b[0m\u001b[0;34m\u001b[0m\u001b[0;34m\u001b[0m\u001b[0m\n",
      "\u001b[0;31mKeyError\u001b[0m: \"['t.158'] not found in axis\""
     ]
    }
   ],
   "source": [
    "test_df.drop(columns= rejected_columns , inplace = True )\n",
    "print('Shape of Testing Data: ', test_df.shape)"
   ]
  },
  {
   "cell_type": "markdown",
   "metadata": {
    "id": "VFDyp2RI2RoJ"
   },
   "source": [
    "It seems column/feature : t.158 is not present in test_data so either we need to populate this feild in testing data or we need to remove it entirely from the training data as well\n",
    "\n",
    "We have already removed the column/Feature t.158 from the training data since it had null values in three digits in earlier part of Preprocessing."
   ]
  },
  {
   "cell_type": "code",
   "execution_count": null,
   "metadata": {
    "id": "MEMjIu8x2Odg"
   },
   "outputs": [],
   "source": [
    "#Here we are removing the column t.158 from the rejected_column list using remove \n",
    "rejected_columns.remove('t.158')\n",
    "test_df.drop(columns= rejected_columns , inplace = True )"
   ]
  },
  {
   "cell_type": "code",
   "execution_count": null,
   "metadata": {
    "colab": {
     "base_uri": "https://localhost:8080/"
    },
    "id": "Ni7v9LLFZuwH",
    "outputId": "fb7b058f-ac59-4b38-b3cf-0c0d9f89df30"
   },
   "outputs": [
    {
     "name": "stdout",
     "output_type": "stream",
     "text": [
      "Shape of Testing Data:  (4595, 241)\n"
     ]
    }
   ],
   "source": [
    "# Number of cloumns/Features in Testing data should be same as that of Training Data\n",
    "print('Shape of Testing Data: ',test_df.shape)\n",
    "\n",
    "#Filling all the NAN Values with the most frequent occuring values in the columns\n",
    "for column in test_df[appending_columns].columns:\n",
    "    test_df[column].fillna(test_df[column].mode()[0], inplace=True)"
   ]
  },
  {
   "cell_type": "code",
   "execution_count": null,
   "metadata": {
    "id": "KhvEnNvwcT-8"
   },
   "outputs": [],
   "source": [
    "import re\n",
    "test_df['respondent.id'] = test_df['respondent.id'].apply(lambda x : re.sub('2016_' , '' , x))\n",
    "test_df['respondent.id'] = test_df['respondent.id'].astype('int64')"
   ]
  },
  {
   "cell_type": "code",
   "execution_count": null,
   "metadata": {
    "colab": {
     "base_uri": "https://localhost:8080/"
    },
    "id": "cZb0HPlRaKpW",
    "outputId": "7fb413d0-9f38-4b24-e626-dc56e901c807"
   },
   "outputs": [
    {
     "name": "stdout",
     "output_type": "stream",
     "text": [
      "Shape of Traning Data:  (12313, 240)\n",
      "shape of Cross-validation Data:  (6066, 240)\n",
      "Shape of Testing Data:  (4595, 240)\n"
     ]
    }
   ],
   "source": [
    "#Now we would split our training , testing and Cross_validation data\n",
    "\n",
    "from sklearn.model_selection import train_test_split\n",
    "\n",
    "x = data.drop(columns= ['pov6'] )\n",
    "y = data['pov6']\n",
    "\n",
    "x_train , x_cv , y_train , y_cv = train_test_split(x,y , test_size = 0.33 , random_state = 42)\n",
    "x_test = test_df.drop(columns= ['pov6'])\n",
    "y_test = test_df['pov6']\n",
    "\n",
    "print('Shape of Traning Data: ', x_train.shape)\n",
    "print('shape of Cross-validation Data: ', x_cv.shape)\n",
    "print('Shape of Testing Data: ', x_test.shape)"
   ]
  },
  {
   "cell_type": "code",
   "execution_count": null,
   "metadata": {
    "colab": {
     "base_uri": "https://localhost:8080/"
    },
    "id": "ruW1INPx7ZcX",
    "outputId": "72d783d8-8197-41ee-f3dd-31d5ed6143cf"
   },
   "outputs": [
    {
     "name": "stdout",
     "output_type": "stream",
     "text": [
      "Shape of Training Class label Data:  (12313, 6)\n",
      "Shape of Cross-Validation Class label Data:  (6066, 6)\n"
     ]
    }
   ],
   "source": [
    "# We will one hot encode the Class label column in order to do Multi-class classification Problem\n",
    "\n",
    "from sklearn.preprocessing import LabelEncoder\n",
    "from tensorflow.keras.utils import to_categorical\n",
    "\n",
    "le = LabelEncoder()\n",
    "#Traning Class labels\n",
    "y_train = le.fit_transform(y_train)\n",
    "y_train = to_categorical(y_train)\n",
    "print('Shape of Training Class label Data: ', y_train.shape)\n",
    "#Cross-validation Class labels\n",
    "y_cv = le.transform(y_cv)\n",
    "y_cv = to_categorical(y_cv)\n",
    "print('Shape of Cross-Validation Class label Data: ', y_cv.shape)"
   ]
  },
  {
   "cell_type": "code",
   "execution_count": null,
   "metadata": {
    "colab": {
     "base_uri": "https://localhost:8080/"
    },
    "id": "cOoJSjt39BQG",
    "outputId": "98e7bed3-44a1-4e22-bb0d-a8278b0d7b5c"
   },
   "outputs": [
    {
     "name": "stdout",
     "output_type": "stream",
     "text": [
      "Null_values in Testing_Class Labels:  4595\n"
     ]
    }
   ],
   "source": [
    "print('Null_values in Testing_Class Labels: ',y_test.isnull().sum().sum())\n",
    "\n",
    "#In testing Data we don't have any class labels and we would need to predict all of them using your model "
   ]
  },
  {
   "cell_type": "markdown",
   "metadata": {
    "id": "ZJ6RHHdi5YCZ"
   },
   "source": [
    "a. Please explain the choice of metric / evaluation criterion used :\n",
    "\n",
    "**Metric:** Since we have a lot of class imbalance thus we cannot use accuracy as a metric for this problem statement and hence we need to choose a metric which could provide the performance each class wise and then weighted average of that performance would be our metric. This could be achived using F1_score which uses precision and recall class wise in multi-class problems.\n",
    "\n",
    "A macro-average will compute the metric independently for each class and then take the average and hence in the process it treats all the classes equally , whereas a micro-average will aggregate the contributions of all classes to compute the average metric.\n",
    "Thus we would use Micro F1_score to compute our model's performance \n",
    "</br>\n",
    "</br>\n",
    "**Model:** Here we are choosing one of the ensemble's model RandomForest since it has multiple estimators and would work great in case of outliers and will keep an eye on the metric through F1_score"
   ]
  },
  {
   "cell_type": "markdown",
   "metadata": {
    "id": "l601rG3xcBiC"
   },
   "source": [
    "What were the approaches you considered? Please explain the reason for the technique/ approach used as well as the pros and cons.\n",
    "\n",
    "Here in this task I have used Hyper-parameter tunning in order to find the best possible value of F1_score through RandomizedSearchCV.\n",
    "Also the training data is divided into 2 parts using sklearn's train_test_split : one part is used to train our model while the other is kept unseen to the model and used for generating cross validation results to observe the performance of the model. Since there is a class imbalance and entries for group 6,5 and 4 are way less , we might have end up traning over model with very less entires which belongs to these groups "
   ]
  },
  {
   "cell_type": "code",
   "execution_count": null,
   "metadata": {
    "colab": {
     "base_uri": "https://localhost:8080/"
    },
    "id": "7xlQxAKVBCqO",
    "outputId": "5cdd963b-756d-4e1c-f49f-f2a19747cba6"
   },
   "outputs": [
    {
     "name": "stdout",
     "output_type": "stream",
     "text": [
      "Fitting 3 folds for each of 10 candidates, totalling 30 fits\n",
      "[CV] n_estimators=1000, min_samples_split=4 ..........................\n"
     ]
    },
    {
     "name": "stderr",
     "output_type": "stream",
     "text": [
      "[Parallel(n_jobs=1)]: Using backend SequentialBackend with 1 concurrent workers.\n"
     ]
    },
    {
     "name": "stdout",
     "output_type": "stream",
     "text": [
      "[CV]  n_estimators=1000, min_samples_split=4, score=(train=0.994, test=0.948), total=  21.7s\n",
      "[CV] n_estimators=1000, min_samples_split=4 ..........................\n"
     ]
    },
    {
     "name": "stderr",
     "output_type": "stream",
     "text": [
      "[Parallel(n_jobs=1)]: Done   1 out of   1 | elapsed:   24.6s remaining:    0.0s\n"
     ]
    },
    {
     "name": "stdout",
     "output_type": "stream",
     "text": [
      "[CV]  n_estimators=1000, min_samples_split=4, score=(train=0.994, test=0.951), total=  22.5s\n",
      "[CV] n_estimators=1000, min_samples_split=4 ..........................\n"
     ]
    },
    {
     "name": "stderr",
     "output_type": "stream",
     "text": [
      "[Parallel(n_jobs=1)]: Done   2 out of   2 | elapsed:   50.1s remaining:    0.0s\n"
     ]
    },
    {
     "name": "stdout",
     "output_type": "stream",
     "text": [
      "[CV]  n_estimators=1000, min_samples_split=4, score=(train=0.995, test=0.949), total=  22.3s\n",
      "[CV] n_estimators=2000, min_samples_split=3 ..........................\n"
     ]
    },
    {
     "name": "stderr",
     "output_type": "stream",
     "text": [
      "[Parallel(n_jobs=1)]: Done   3 out of   3 | elapsed:  1.3min remaining:    0.0s\n"
     ]
    },
    {
     "name": "stdout",
     "output_type": "stream",
     "text": [
      "[CV]  n_estimators=2000, min_samples_split=3, score=(train=1.000, test=0.947), total=  43.6s\n",
      "[CV] n_estimators=2000, min_samples_split=3 ..........................\n"
     ]
    },
    {
     "name": "stderr",
     "output_type": "stream",
     "text": [
      "[Parallel(n_jobs=1)]: Done   4 out of   4 | elapsed:  2.1min remaining:    0.0s\n"
     ]
    },
    {
     "name": "stdout",
     "output_type": "stream",
     "text": [
      "[CV]  n_estimators=2000, min_samples_split=3, score=(train=0.999, test=0.951), total=  45.6s\n",
      "[CV] n_estimators=2000, min_samples_split=3 ..........................\n",
      "[CV]  n_estimators=2000, min_samples_split=3, score=(train=1.000, test=0.949), total=  44.3s\n",
      "[CV] n_estimators=2000, min_samples_split=2 ..........................\n",
      "[CV]  n_estimators=2000, min_samples_split=2, score=(train=1.000, test=0.948), total=  44.4s\n",
      "[CV] n_estimators=2000, min_samples_split=2 ..........................\n",
      "[CV]  n_estimators=2000, min_samples_split=2, score=(train=1.000, test=0.951), total=  45.7s\n",
      "[CV] n_estimators=2000, min_samples_split=2 ..........................\n",
      "[CV]  n_estimators=2000, min_samples_split=2, score=(train=1.000, test=0.950), total=  44.6s\n",
      "[CV] n_estimators=2000, min_samples_split=4 ..........................\n",
      "[CV]  n_estimators=2000, min_samples_split=4, score=(train=0.994, test=0.948), total=  43.7s\n",
      "[CV] n_estimators=2000, min_samples_split=4 ..........................\n",
      "[CV]  n_estimators=2000, min_samples_split=4, score=(train=0.994, test=0.950), total=  45.6s\n",
      "[CV] n_estimators=2000, min_samples_split=4 ..........................\n",
      "[CV]  n_estimators=2000, min_samples_split=4, score=(train=0.995, test=0.949), total=  44.1s\n",
      "[CV] n_estimators=500, min_samples_split=3 ...........................\n",
      "[CV]  n_estimators=500, min_samples_split=3, score=(train=0.999, test=0.948), total=  10.8s\n",
      "[CV] n_estimators=500, min_samples_split=3 ...........................\n",
      "[CV]  n_estimators=500, min_samples_split=3, score=(train=0.999, test=0.952), total=  11.4s\n",
      "[CV] n_estimators=500, min_samples_split=3 ...........................\n",
      "[CV]  n_estimators=500, min_samples_split=3, score=(train=0.999, test=0.948), total=  11.3s\n",
      "[CV] n_estimators=500, min_samples_split=1 ...........................\n",
      "[CV]  n_estimators=500, min_samples_split=1, score=(train=nan, test=nan), total=   0.2s\n",
      "[CV] n_estimators=500, min_samples_split=1 ...........................\n",
      "[CV]  n_estimators=500, min_samples_split=1, score=(train=nan, test=nan), total=   0.2s\n",
      "[CV] n_estimators=500, min_samples_split=1 ...........................\n",
      "[CV]  n_estimators=500, min_samples_split=1, score=(train=nan, test=nan), total=   0.2s\n",
      "[CV] n_estimators=500, min_samples_split=2 ...........................\n",
      "[CV]  n_estimators=500, min_samples_split=2, score=(train=1.000, test=0.947), total=  11.2s\n",
      "[CV] n_estimators=500, min_samples_split=2 ...........................\n",
      "[CV]  n_estimators=500, min_samples_split=2, score=(train=1.000, test=0.952), total=  11.4s\n",
      "[CV] n_estimators=500, min_samples_split=2 ...........................\n",
      "[CV]  n_estimators=500, min_samples_split=2, score=(train=1.000, test=0.948), total=  11.2s\n",
      "[CV] n_estimators=2000, min_samples_split=1 ..........................\n",
      "[CV]  n_estimators=2000, min_samples_split=1, score=(train=nan, test=nan), total=   0.7s\n",
      "[CV] n_estimators=2000, min_samples_split=1 ..........................\n",
      "[CV]  n_estimators=2000, min_samples_split=1, score=(train=nan, test=nan), total=   0.6s\n",
      "[CV] n_estimators=2000, min_samples_split=1 ..........................\n",
      "[CV]  n_estimators=2000, min_samples_split=1, score=(train=nan, test=nan), total=   0.6s\n",
      "[CV] n_estimators=100, min_samples_split=2 ...........................\n",
      "[CV]  n_estimators=100, min_samples_split=2, score=(train=1.000, test=0.947), total=   2.3s\n",
      "[CV] n_estimators=100, min_samples_split=2 ...........................\n",
      "[CV]  n_estimators=100, min_samples_split=2, score=(train=1.000, test=0.950), total=   2.3s\n",
      "[CV] n_estimators=100, min_samples_split=2 ...........................\n",
      "[CV]  n_estimators=100, min_samples_split=2, score=(train=1.000, test=0.947), total=   2.3s\n",
      "[CV] n_estimators=1000, min_samples_split=1 ..........................\n",
      "[CV]  n_estimators=1000, min_samples_split=1, score=(train=nan, test=nan), total=   0.3s\n",
      "[CV] n_estimators=1000, min_samples_split=1 ..........................\n",
      "[CV]  n_estimators=1000, min_samples_split=1, score=(train=nan, test=nan), total=   0.3s\n",
      "[CV] n_estimators=1000, min_samples_split=1 ..........................\n",
      "[CV]  n_estimators=1000, min_samples_split=1, score=(train=nan, test=nan), total=   0.3s\n"
     ]
    },
    {
     "name": "stderr",
     "output_type": "stream",
     "text": [
      "[Parallel(n_jobs=1)]: Done  30 out of  30 | elapsed: 10.3min finished\n"
     ]
    },
    {
     "data": {
      "text/plain": [
       "RandomizedSearchCV(cv=3, error_score=nan,\n",
       "                   estimator=RandomForestClassifier(bootstrap=True,\n",
       "                                                    ccp_alpha=0.0,\n",
       "                                                    class_weight=None,\n",
       "                                                    criterion='gini',\n",
       "                                                    max_depth=None,\n",
       "                                                    max_features='auto',\n",
       "                                                    max_leaf_nodes=None,\n",
       "                                                    max_samples=None,\n",
       "                                                    min_impurity_decrease=0.0,\n",
       "                                                    min_impurity_split=None,\n",
       "                                                    min_samples_leaf=1,\n",
       "                                                    min_samples_split=2,\n",
       "                                                    min_weight_fraction_leaf=0.0,\n",
       "                                                    n_estimators=100,\n",
       "                                                    n_jobs=None,\n",
       "                                                    oob_score=False,\n",
       "                                                    random_state=None,\n",
       "                                                    verbose=0,\n",
       "                                                    warm_start=False),\n",
       "                   iid='deprecated', n_iter=10, n_jobs=None,\n",
       "                   param_distributions={'min_samples_split': [1, 2, 3, 4],\n",
       "                                        'n_estimators': [100, 300, 500, 1000,\n",
       "                                                         2000]},\n",
       "                   pre_dispatch='2*n_jobs', random_state=None, refit=True,\n",
       "                   return_train_score=True,\n",
       "                   scoring=make_scorer(f1_score, average=micro), verbose=5)"
      ]
     },
     "execution_count": 44,
     "metadata": {
      "tags": []
     },
     "output_type": "execute_result"
    }
   ],
   "source": [
    "# Hyperparamter tunning the essential parameters of the RandomForest Classifier\n",
    "# Using RamdomizedSearchCV for Hypertunning \n",
    "\n",
    "from sklearn.ensemble import RandomForestClassifier\n",
    "from sklearn.model_selection import RandomizedSearchCV\n",
    "from sklearn.metrics import f1_score, make_scorer\n",
    "import warnings\n",
    "warnings.filterwarnings(\"ignore\")\n",
    "\n",
    "# making a f1_score funtion separetly in order to fit that into RandomizedSearchCV\n",
    "f1 = make_scorer(f1_score , average = 'micro')\n",
    "model = RandomForestClassifier()\n",
    "\n",
    "#parameters considered for hyperparameter tunning are min_samples_split and n_estimators\n",
    "parameters = {'min_samples_split' :[1,2,3,4],\n",
    "              'n_estimators' : [100,300,500,1000,2000]}\n",
    "\n",
    "cross_validation = RandomizedSearchCV(model, parameters, cv = 3 , scoring = f1 , return_train_score= True, verbose = 5)\n",
    "cross_validation.fit(x_train,y_train)"
   ]
  },
  {
   "cell_type": "code",
   "execution_count": null,
   "metadata": {
    "colab": {
     "base_uri": "https://localhost:8080/",
     "height": 867
    },
    "id": "IDdubMM5Hl7W",
    "outputId": "ea280c05-a4fa-4ef9-bb9b-d88cbd06e899"
   },
   "outputs": [
    {
     "data": {
      "text/html": [
       "<div>\n",
       "<style scoped>\n",
       "    .dataframe tbody tr th:only-of-type {\n",
       "        vertical-align: middle;\n",
       "    }\n",
       "\n",
       "    .dataframe tbody tr th {\n",
       "        vertical-align: top;\n",
       "    }\n",
       "\n",
       "    .dataframe thead th {\n",
       "        text-align: right;\n",
       "    }\n",
       "</style>\n",
       "<table border=\"1\" class=\"dataframe\">\n",
       "  <thead>\n",
       "    <tr style=\"text-align: right;\">\n",
       "      <th></th>\n",
       "      <th>mean_fit_time</th>\n",
       "      <th>std_fit_time</th>\n",
       "      <th>mean_score_time</th>\n",
       "      <th>std_score_time</th>\n",
       "      <th>param_n_estimators</th>\n",
       "      <th>param_min_samples_split</th>\n",
       "      <th>params</th>\n",
       "      <th>split0_test_score</th>\n",
       "      <th>split1_test_score</th>\n",
       "      <th>split2_test_score</th>\n",
       "      <th>mean_test_score</th>\n",
       "      <th>std_test_score</th>\n",
       "      <th>rank_test_score</th>\n",
       "      <th>split0_train_score</th>\n",
       "      <th>split1_train_score</th>\n",
       "      <th>split2_train_score</th>\n",
       "      <th>mean_train_score</th>\n",
       "      <th>std_train_score</th>\n",
       "    </tr>\n",
       "  </thead>\n",
       "  <tbody>\n",
       "    <tr>\n",
       "      <th>0</th>\n",
       "      <td>20.575007</td>\n",
       "      <td>0.317045</td>\n",
       "      <td>1.571967</td>\n",
       "      <td>0.010299</td>\n",
       "      <td>1000</td>\n",
       "      <td>4</td>\n",
       "      <td>{'n_estimators': 1000, 'min_samples_split': 4}</td>\n",
       "      <td>0.948187</td>\n",
       "      <td>0.950771</td>\n",
       "      <td>0.948848</td>\n",
       "      <td>0.949268</td>\n",
       "      <td>0.001096</td>\n",
       "      <td>3</td>\n",
       "      <td>0.994138</td>\n",
       "      <td>0.993894</td>\n",
       "      <td>0.994626</td>\n",
       "      <td>0.994219</td>\n",
       "      <td>0.000305</td>\n",
       "    </tr>\n",
       "    <tr>\n",
       "      <th>1</th>\n",
       "      <td>41.368952</td>\n",
       "      <td>0.792065</td>\n",
       "      <td>3.136507</td>\n",
       "      <td>0.009203</td>\n",
       "      <td>2000</td>\n",
       "      <td>3</td>\n",
       "      <td>{'n_estimators': 2000, 'min_samples_split': 3}</td>\n",
       "      <td>0.947109</td>\n",
       "      <td>0.951277</td>\n",
       "      <td>0.948885</td>\n",
       "      <td>0.949090</td>\n",
       "      <td>0.001708</td>\n",
       "      <td>5</td>\n",
       "      <td>0.999574</td>\n",
       "      <td>0.999452</td>\n",
       "      <td>0.999695</td>\n",
       "      <td>0.999574</td>\n",
       "      <td>0.000099</td>\n",
       "    </tr>\n",
       "    <tr>\n",
       "      <th>2</th>\n",
       "      <td>41.669513</td>\n",
       "      <td>0.536298</td>\n",
       "      <td>3.184189</td>\n",
       "      <td>0.038965</td>\n",
       "      <td>2000</td>\n",
       "      <td>2</td>\n",
       "      <td>{'n_estimators': 2000, 'min_samples_split': 2}</td>\n",
       "      <td>0.947706</td>\n",
       "      <td>0.951499</td>\n",
       "      <td>0.949704</td>\n",
       "      <td>0.949637</td>\n",
       "      <td>0.001549</td>\n",
       "      <td>1</td>\n",
       "      <td>1.000000</td>\n",
       "      <td>1.000000</td>\n",
       "      <td>1.000000</td>\n",
       "      <td>1.000000</td>\n",
       "      <td>0.000000</td>\n",
       "    </tr>\n",
       "    <tr>\n",
       "      <th>3</th>\n",
       "      <td>41.303706</td>\n",
       "      <td>0.787145</td>\n",
       "      <td>3.164752</td>\n",
       "      <td>0.025925</td>\n",
       "      <td>2000</td>\n",
       "      <td>4</td>\n",
       "      <td>{'n_estimators': 2000, 'min_samples_split': 4}</td>\n",
       "      <td>0.947927</td>\n",
       "      <td>0.950278</td>\n",
       "      <td>0.948885</td>\n",
       "      <td>0.949030</td>\n",
       "      <td>0.000965</td>\n",
       "      <td>6</td>\n",
       "      <td>0.994321</td>\n",
       "      <td>0.994323</td>\n",
       "      <td>0.995176</td>\n",
       "      <td>0.994607</td>\n",
       "      <td>0.000403</td>\n",
       "    </tr>\n",
       "    <tr>\n",
       "      <th>4</th>\n",
       "      <td>10.394404</td>\n",
       "      <td>0.257945</td>\n",
       "      <td>0.800420</td>\n",
       "      <td>0.008166</td>\n",
       "      <td>500</td>\n",
       "      <td>3</td>\n",
       "      <td>{'n_estimators': 500, 'min_samples_split': 3}</td>\n",
       "      <td>0.948238</td>\n",
       "      <td>0.951923</td>\n",
       "      <td>0.948238</td>\n",
       "      <td>0.949466</td>\n",
       "      <td>0.001737</td>\n",
       "      <td>2</td>\n",
       "      <td>0.999330</td>\n",
       "      <td>0.999330</td>\n",
       "      <td>0.999452</td>\n",
       "      <td>0.999370</td>\n",
       "      <td>0.000057</td>\n",
       "    </tr>\n",
       "    <tr>\n",
       "      <th>5</th>\n",
       "      <td>0.174566</td>\n",
       "      <td>0.004493</td>\n",
       "      <td>0.000000</td>\n",
       "      <td>0.000000</td>\n",
       "      <td>500</td>\n",
       "      <td>1</td>\n",
       "      <td>{'n_estimators': 500, 'min_samples_split': 1}</td>\n",
       "      <td>NaN</td>\n",
       "      <td>NaN</td>\n",
       "      <td>NaN</td>\n",
       "      <td>NaN</td>\n",
       "      <td>NaN</td>\n",
       "      <td>8</td>\n",
       "      <td>NaN</td>\n",
       "      <td>NaN</td>\n",
       "      <td>NaN</td>\n",
       "      <td>NaN</td>\n",
       "      <td>NaN</td>\n",
       "    </tr>\n",
       "    <tr>\n",
       "      <th>6</th>\n",
       "      <td>10.473683</td>\n",
       "      <td>0.113159</td>\n",
       "      <td>0.799336</td>\n",
       "      <td>0.002848</td>\n",
       "      <td>500</td>\n",
       "      <td>2</td>\n",
       "      <td>{'n_estimators': 500, 'min_samples_split': 2}</td>\n",
       "      <td>0.947433</td>\n",
       "      <td>0.951511</td>\n",
       "      <td>0.948497</td>\n",
       "      <td>0.949147</td>\n",
       "      <td>0.001727</td>\n",
       "      <td>4</td>\n",
       "      <td>1.000000</td>\n",
       "      <td>1.000000</td>\n",
       "      <td>1.000000</td>\n",
       "      <td>1.000000</td>\n",
       "      <td>0.000000</td>\n",
       "    </tr>\n",
       "    <tr>\n",
       "      <th>7</th>\n",
       "      <td>0.638818</td>\n",
       "      <td>0.011814</td>\n",
       "      <td>0.000000</td>\n",
       "      <td>0.000000</td>\n",
       "      <td>2000</td>\n",
       "      <td>1</td>\n",
       "      <td>{'n_estimators': 2000, 'min_samples_split': 1}</td>\n",
       "      <td>NaN</td>\n",
       "      <td>NaN</td>\n",
       "      <td>NaN</td>\n",
       "      <td>NaN</td>\n",
       "      <td>NaN</td>\n",
       "      <td>9</td>\n",
       "      <td>NaN</td>\n",
       "      <td>NaN</td>\n",
       "      <td>NaN</td>\n",
       "      <td>NaN</td>\n",
       "      <td>NaN</td>\n",
       "    </tr>\n",
       "    <tr>\n",
       "      <th>8</th>\n",
       "      <td>2.123621</td>\n",
       "      <td>0.024988</td>\n",
       "      <td>0.170614</td>\n",
       "      <td>0.002941</td>\n",
       "      <td>100</td>\n",
       "      <td>2</td>\n",
       "      <td>{'n_estimators': 100, 'min_samples_split': 2}</td>\n",
       "      <td>0.947057</td>\n",
       "      <td>0.949525</td>\n",
       "      <td>0.947304</td>\n",
       "      <td>0.947962</td>\n",
       "      <td>0.001110</td>\n",
       "      <td>7</td>\n",
       "      <td>1.000000</td>\n",
       "      <td>1.000000</td>\n",
       "      <td>1.000000</td>\n",
       "      <td>1.000000</td>\n",
       "      <td>0.000000</td>\n",
       "    </tr>\n",
       "    <tr>\n",
       "      <th>9</th>\n",
       "      <td>0.327094</td>\n",
       "      <td>0.005693</td>\n",
       "      <td>0.000000</td>\n",
       "      <td>0.000000</td>\n",
       "      <td>1000</td>\n",
       "      <td>1</td>\n",
       "      <td>{'n_estimators': 1000, 'min_samples_split': 1}</td>\n",
       "      <td>NaN</td>\n",
       "      <td>NaN</td>\n",
       "      <td>NaN</td>\n",
       "      <td>NaN</td>\n",
       "      <td>NaN</td>\n",
       "      <td>10</td>\n",
       "      <td>NaN</td>\n",
       "      <td>NaN</td>\n",
       "      <td>NaN</td>\n",
       "      <td>NaN</td>\n",
       "      <td>NaN</td>\n",
       "    </tr>\n",
       "  </tbody>\n",
       "</table>\n",
       "</div>"
      ],
      "text/plain": [
       "   mean_fit_time  std_fit_time  ...  mean_train_score  std_train_score\n",
       "0      20.575007      0.317045  ...          0.994219         0.000305\n",
       "1      41.368952      0.792065  ...          0.999574         0.000099\n",
       "2      41.669513      0.536298  ...          1.000000         0.000000\n",
       "3      41.303706      0.787145  ...          0.994607         0.000403\n",
       "4      10.394404      0.257945  ...          0.999370         0.000057\n",
       "5       0.174566      0.004493  ...               NaN              NaN\n",
       "6      10.473683      0.113159  ...          1.000000         0.000000\n",
       "7       0.638818      0.011814  ...               NaN              NaN\n",
       "8       2.123621      0.024988  ...          1.000000         0.000000\n",
       "9       0.327094      0.005693  ...               NaN              NaN\n",
       "\n",
       "[10 rows x 18 columns]"
      ]
     },
     "execution_count": 45,
     "metadata": {
      "tags": []
     },
     "output_type": "execute_result"
    }
   ],
   "source": [
    "results = pd.DataFrame.from_dict(cross_validation.cv_results_)\n",
    "results"
   ]
  },
  {
   "cell_type": "code",
   "execution_count": null,
   "metadata": {
    "colab": {
     "base_uri": "https://localhost:8080/",
     "height": 368
    },
    "id": "sBar7CRfKEDi",
    "outputId": "dbbc5ae3-7c00-42ff-8382-5c6a511763b8"
   },
   "outputs": [
    {
     "data": {
      "text/plain": [
       "Text(0.5, 1.0, 'Hyperparameter Tunning Test Scores:F1_score')"
      ]
     },
     "execution_count": 46,
     "metadata": {
      "tags": []
     },
     "output_type": "execute_result"
    },
    {
     "data": {
      "image/png": "[encoded data removed]",
      "text/plain": [
       "<Figure size 1080x360 with 4 Axes>"
      ]
     },
     "metadata": {
      "needs_background": "light",
      "tags": []
     },
     "output_type": "display_data"
    }
   ],
   "source": [
    "#Creating a Heatmap for Visualizing F1-score using different values of parameters \n",
    "\n",
    "import matplotlib.pyplot as plt\n",
    "import seaborn as sns\n",
    "df = pd.DataFrame()\n",
    "df['n_estimators'] = results['param_n_estimators']\n",
    "df['min_samples_split'] = results['param_min_samples_split']\n",
    "df['train_score'] = results['mean_train_score']\n",
    "df['test_score'] = results['mean_test_score']\n",
    "plt.figure(figsize=(15,5))\n",
    "plt.subplot(1,2,1)\n",
    "heatmap_data1 = pd.pivot_table(df, values = 'train_score' , index = ['n_estimators'] , columns = 'min_samples_split')\n",
    "sns.heatmap(heatmap_data1, annot = True , cmap=\"viridis\")\n",
    "plt.title('Hyperparameter Tunning Train Scores: F1_score')\n",
    "plt.subplot(1,2,2)\n",
    "heatmap_data2 = pd.pivot_table(df, values = 'test_score' , index = ['n_estimators'] , columns = 'min_samples_split')\n",
    "sns.heatmap(heatmap_data2, annot = True , cmap=\"viridis\")\n",
    "plt.title('Hyperparameter Tunning Test Scores:F1_score')\n"
   ]
  },
  {
   "cell_type": "markdown",
   "metadata": {
    "id": "PW2PTb0jbTWi"
   },
   "source": [
    "b. What are the assumptions you made when building this model?\n",
    "\n",
    "The assumptions made while building our RandomForest Classifier are as follows:\n",
    "\n",
    "1.   At each step of building individual tree we find the best split of data\n",
    "2.   While building a tree we use not the whole dataset, but bootstrap sample\n",
    "\n"
   ]
  },
  {
   "cell_type": "code",
   "execution_count": null,
   "metadata": {
    "colab": {
     "base_uri": "https://localhost:8080/"
    },
    "id": "uMafBXQAJ-3C",
    "outputId": "0c89bb04-ddbd-4261-882d-9d45f18ea140"
   },
   "outputs": [
    {
     "data": {
      "text/plain": [
       "RandomForestClassifier(bootstrap=True, ccp_alpha=0.0, class_weight=None,\n",
       "                       criterion='gini', max_depth=None, max_features='auto',\n",
       "                       max_leaf_nodes=None, max_samples=None,\n",
       "                       min_impurity_decrease=0.0, min_impurity_split=None,\n",
       "                       min_samples_leaf=1, min_samples_split=2,\n",
       "                       min_weight_fraction_leaf=0.0, n_estimators=2000,\n",
       "                       n_jobs=None, oob_score=False, random_state=None,\n",
       "                       verbose=0, warm_start=False)"
      ]
     },
     "execution_count": 47,
     "metadata": {
      "tags": []
     },
     "output_type": "execute_result"
    }
   ],
   "source": [
    "#Using Best parameters claculated using Hyperparameter Tunning to train the RandomForest model\n",
    "Rf = RandomForestClassifier(n_estimators = cross_validation.best_params_.get('n_estimators')\n",
    "                            ,min_samples_split = cross_validation.best_params_.get('min_samples_split')  )\n",
    "Rf.fit(x_train, y_train)"
   ]
  },
  {
   "cell_type": "code",
   "execution_count": null,
   "metadata": {
    "colab": {
     "base_uri": "https://localhost:8080/"
    },
    "id": "VVjS1ztwUPnG",
    "outputId": "f1889675-9612-44e7-bedb-46f51e8065cd"
   },
   "outputs": [
    {
     "name": "stdout",
     "output_type": "stream",
     "text": [
      "Shape of predicted value for Cross_valiidation:  (6066, 6)\n",
      "Cross-Validation _Results:\n",
      "\n",
      "Confusion Matrix:\n",
      "[[4633   34    0    1    0    0]\n",
      " [ 132  939    0    0    0    0]\n",
      " [  20    4   89    0    0    0]\n",
      " [  34   22    0    8    0    2]\n",
      " [  27    3    0    0   16    0]\n",
      " [  43    9    0    0    0   50]]\n",
      "\n",
      "Classification_Report:\n",
      "              precision    recall  f1-score   support\n",
      "\n",
      "           0       0.97      0.98      0.98      4668\n",
      "           1       0.93      0.88      0.90      1071\n",
      "           2       1.00      0.79      0.88       113\n",
      "           3       0.89      0.12      0.21        66\n",
      "           4       1.00      0.35      0.52        46\n",
      "           5       0.96      0.49      0.65       102\n",
      "\n",
      "   micro avg       0.96      0.94      0.95      6066\n",
      "   macro avg       0.96      0.60      0.69      6066\n",
      "weighted avg       0.96      0.94      0.94      6066\n",
      " samples avg       0.94      0.94      0.94      6066\n",
      "\n",
      "F1-Score 0.95077590522276\n"
     ]
    }
   ],
   "source": [
    "from sklearn.metrics import confusion_matrix , classification_report\n",
    "\n",
    "#Predicting the class labels for cross-validation report \n",
    "y_pred = Rf.predict(x_cv)\n",
    "print('Shape of predicted value for Cross_valiidation: ',y_pred.shape)\n",
    "\n",
    "print('Cross-Validation _Results:\\n')\n",
    "matrix = confusion_matrix(y_cv.argmax(axis=1), y_pred.argmax(axis=1))\n",
    "print('Confusion Matrix:')\n",
    "print(matrix)\n",
    "\n",
    "print('\\nClassification_Report:')\n",
    "print(classification_report(y_cv, y_pred))\n",
    "print('F1-Score', f1_score(y_cv, y_pred , average= 'micro'))"
   ]
  },
  {
   "cell_type": "markdown",
   "metadata": {
    "id": "XCBXoy31dxFP"
   },
   "source": [
    "e. How confident are you of the model’s robustness and how would you explain the model’s performance?\n",
    "\n",
    "The randomness in data whcih is used to train the Decision Trees makes the RandomForests robust to outliers to some extent.\n",
    "The metric we used to evaluate our model i.e. Micro F1_score comes out to be 0.95 which is a decent value and thus we conclude that our model is performing well."
   ]
  },
  {
   "cell_type": "markdown",
   "metadata": {
    "id": "InFTOZz0gQ6k"
   },
   "source": [
    "f. Why is your model performing well / not well?\n",
    "\n",
    "RandomForest Classifier works well tabular kind of data and also the randomness in selecting samples from the training data for training different Decision Trees to its max depth adds a plus point which helps the model to perform well"
   ]
  },
  {
   "cell_type": "code",
   "execution_count": null,
   "metadata": {
    "colab": {
     "base_uri": "https://localhost:8080/",
     "height": 316
    },
    "id": "n30hJ_XKVsAp",
    "outputId": "dbf1947d-dfb3-46c0-9291-96a65d5d297b"
   },
   "outputs": [
    {
     "ename": "ValueError",
     "evalue": "ignored",
     "output_type": "error",
     "traceback": [
      "\u001b[0;31m---------------------------------------------------------------------------\u001b[0m",
      "\u001b[0;31mValueError\u001b[0m                                Traceback (most recent call last)",
      "\u001b[0;32m<ipython-input-212-80c9abab7498>\u001b[0m in \u001b[0;36m<module>\u001b[0;34m()\u001b[0m\n\u001b[0;32m----> 1\u001b[0;31m \u001b[0my_test\u001b[0m \u001b[0;34m=\u001b[0m \u001b[0mRf\u001b[0m\u001b[0;34m.\u001b[0m\u001b[0mpredict\u001b[0m\u001b[0;34m(\u001b[0m\u001b[0mx_test\u001b[0m\u001b[0;34m)\u001b[0m\u001b[0;34m\u001b[0m\u001b[0;34m\u001b[0m\u001b[0m\n\u001b[0m",
      "\u001b[0;32m/usr/local/lib/python3.6/dist-packages/sklearn/ensemble/_forest.py\u001b[0m in \u001b[0;36mpredict\u001b[0;34m(self, X)\u001b[0m\n\u001b[1;32m    610\u001b[0m             \u001b[0mThe\u001b[0m \u001b[0mpredicted\u001b[0m \u001b[0mclasses\u001b[0m\u001b[0;34m.\u001b[0m\u001b[0;34m\u001b[0m\u001b[0;34m\u001b[0m\u001b[0m\n\u001b[1;32m    611\u001b[0m         \"\"\"\n\u001b[0;32m--> 612\u001b[0;31m         \u001b[0mproba\u001b[0m \u001b[0;34m=\u001b[0m \u001b[0mself\u001b[0m\u001b[0;34m.\u001b[0m\u001b[0mpredict_proba\u001b[0m\u001b[0;34m(\u001b[0m\u001b[0mX\u001b[0m\u001b[0;34m)\u001b[0m\u001b[0;34m\u001b[0m\u001b[0;34m\u001b[0m\u001b[0m\n\u001b[0m\u001b[1;32m    613\u001b[0m \u001b[0;34m\u001b[0m\u001b[0m\n\u001b[1;32m    614\u001b[0m         \u001b[0;32mif\u001b[0m \u001b[0mself\u001b[0m\u001b[0;34m.\u001b[0m\u001b[0mn_outputs_\u001b[0m \u001b[0;34m==\u001b[0m \u001b[0;36m1\u001b[0m\u001b[0;34m:\u001b[0m\u001b[0;34m\u001b[0m\u001b[0;34m\u001b[0m\u001b[0m\n",
      "\u001b[0;32m/usr/local/lib/python3.6/dist-packages/sklearn/ensemble/_forest.py\u001b[0m in \u001b[0;36mpredict_proba\u001b[0;34m(self, X)\u001b[0m\n\u001b[1;32m    654\u001b[0m         \u001b[0mcheck_is_fitted\u001b[0m\u001b[0;34m(\u001b[0m\u001b[0mself\u001b[0m\u001b[0;34m)\u001b[0m\u001b[0;34m\u001b[0m\u001b[0;34m\u001b[0m\u001b[0m\n\u001b[1;32m    655\u001b[0m         \u001b[0;31m# Check data\u001b[0m\u001b[0;34m\u001b[0m\u001b[0;34m\u001b[0m\u001b[0;34m\u001b[0m\u001b[0m\n\u001b[0;32m--> 656\u001b[0;31m         \u001b[0mX\u001b[0m \u001b[0;34m=\u001b[0m \u001b[0mself\u001b[0m\u001b[0;34m.\u001b[0m\u001b[0m_validate_X_predict\u001b[0m\u001b[0;34m(\u001b[0m\u001b[0mX\u001b[0m\u001b[0;34m)\u001b[0m\u001b[0;34m\u001b[0m\u001b[0;34m\u001b[0m\u001b[0m\n\u001b[0m\u001b[1;32m    657\u001b[0m \u001b[0;34m\u001b[0m\u001b[0m\n\u001b[1;32m    658\u001b[0m         \u001b[0;31m# Assign chunk of trees to jobs\u001b[0m\u001b[0;34m\u001b[0m\u001b[0;34m\u001b[0m\u001b[0;34m\u001b[0m\u001b[0m\n",
      "\u001b[0;32m/usr/local/lib/python3.6/dist-packages/sklearn/ensemble/_forest.py\u001b[0m in \u001b[0;36m_validate_X_predict\u001b[0;34m(self, X)\u001b[0m\n\u001b[1;32m    410\u001b[0m         \u001b[0mcheck_is_fitted\u001b[0m\u001b[0;34m(\u001b[0m\u001b[0mself\u001b[0m\u001b[0;34m)\u001b[0m\u001b[0;34m\u001b[0m\u001b[0;34m\u001b[0m\u001b[0m\n\u001b[1;32m    411\u001b[0m \u001b[0;34m\u001b[0m\u001b[0m\n\u001b[0;32m--> 412\u001b[0;31m         \u001b[0;32mreturn\u001b[0m \u001b[0mself\u001b[0m\u001b[0;34m.\u001b[0m\u001b[0mestimators_\u001b[0m\u001b[0;34m[\u001b[0m\u001b[0;36m0\u001b[0m\u001b[0;34m]\u001b[0m\u001b[0;34m.\u001b[0m\u001b[0m_validate_X_predict\u001b[0m\u001b[0;34m(\u001b[0m\u001b[0mX\u001b[0m\u001b[0;34m,\u001b[0m \u001b[0mcheck_input\u001b[0m\u001b[0;34m=\u001b[0m\u001b[0;32mTrue\u001b[0m\u001b[0;34m)\u001b[0m\u001b[0;34m\u001b[0m\u001b[0;34m\u001b[0m\u001b[0m\n\u001b[0m\u001b[1;32m    413\u001b[0m \u001b[0;34m\u001b[0m\u001b[0m\n\u001b[1;32m    414\u001b[0m     \u001b[0;34m@\u001b[0m\u001b[0mproperty\u001b[0m\u001b[0;34m\u001b[0m\u001b[0;34m\u001b[0m\u001b[0m\n",
      "\u001b[0;32m/usr/local/lib/python3.6/dist-packages/sklearn/tree/_classes.py\u001b[0m in \u001b[0;36m_validate_X_predict\u001b[0;34m(self, X, check_input)\u001b[0m\n\u001b[1;32m    378\u001b[0m         \u001b[0;34m\"\"\"Validate X whenever one tries to predict, apply, predict_proba\"\"\"\u001b[0m\u001b[0;34m\u001b[0m\u001b[0;34m\u001b[0m\u001b[0m\n\u001b[1;32m    379\u001b[0m         \u001b[0;32mif\u001b[0m \u001b[0mcheck_input\u001b[0m\u001b[0;34m:\u001b[0m\u001b[0;34m\u001b[0m\u001b[0;34m\u001b[0m\u001b[0m\n\u001b[0;32m--> 380\u001b[0;31m             \u001b[0mX\u001b[0m \u001b[0;34m=\u001b[0m \u001b[0mcheck_array\u001b[0m\u001b[0;34m(\u001b[0m\u001b[0mX\u001b[0m\u001b[0;34m,\u001b[0m \u001b[0mdtype\u001b[0m\u001b[0;34m=\u001b[0m\u001b[0mDTYPE\u001b[0m\u001b[0;34m,\u001b[0m \u001b[0maccept_sparse\u001b[0m\u001b[0;34m=\u001b[0m\u001b[0;34m\"csr\"\u001b[0m\u001b[0;34m)\u001b[0m\u001b[0;34m\u001b[0m\u001b[0;34m\u001b[0m\u001b[0m\n\u001b[0m\u001b[1;32m    381\u001b[0m             if issparse(X) and (X.indices.dtype != np.intc or\n\u001b[1;32m    382\u001b[0m                                 X.indptr.dtype != np.intc):\n",
      "\u001b[0;32m/usr/local/lib/python3.6/dist-packages/sklearn/utils/validation.py\u001b[0m in \u001b[0;36mcheck_array\u001b[0;34m(array, accept_sparse, accept_large_sparse, dtype, order, copy, force_all_finite, ensure_2d, allow_nd, ensure_min_samples, ensure_min_features, warn_on_dtype, estimator)\u001b[0m\n\u001b[1;32m    576\u001b[0m         \u001b[0;32mif\u001b[0m \u001b[0mforce_all_finite\u001b[0m\u001b[0;34m:\u001b[0m\u001b[0;34m\u001b[0m\u001b[0;34m\u001b[0m\u001b[0m\n\u001b[1;32m    577\u001b[0m             _assert_all_finite(array,\n\u001b[0;32m--> 578\u001b[0;31m                                allow_nan=force_all_finite == 'allow-nan')\n\u001b[0m\u001b[1;32m    579\u001b[0m \u001b[0;34m\u001b[0m\u001b[0m\n\u001b[1;32m    580\u001b[0m     \u001b[0;32mif\u001b[0m \u001b[0mensure_min_samples\u001b[0m \u001b[0;34m>\u001b[0m \u001b[0;36m0\u001b[0m\u001b[0;34m:\u001b[0m\u001b[0;34m\u001b[0m\u001b[0;34m\u001b[0m\u001b[0m\n",
      "\u001b[0;32m/usr/local/lib/python3.6/dist-packages/sklearn/utils/validation.py\u001b[0m in \u001b[0;36m_assert_all_finite\u001b[0;34m(X, allow_nan, msg_dtype)\u001b[0m\n\u001b[1;32m     58\u001b[0m                     \u001b[0mmsg_err\u001b[0m\u001b[0;34m.\u001b[0m\u001b[0mformat\u001b[0m\u001b[0;34m\u001b[0m\u001b[0;34m\u001b[0m\u001b[0m\n\u001b[1;32m     59\u001b[0m                     (type_err,\n\u001b[0;32m---> 60\u001b[0;31m                      msg_dtype if msg_dtype is not None else X.dtype)\n\u001b[0m\u001b[1;32m     61\u001b[0m             )\n\u001b[1;32m     62\u001b[0m     \u001b[0;31m# for object dtype data, we only check for NaNs (GH-13254)\u001b[0m\u001b[0;34m\u001b[0m\u001b[0;34m\u001b[0m\u001b[0;34m\u001b[0m\u001b[0m\n",
      "\u001b[0;31mValueError\u001b[0m: Input contains NaN, infinity or a value too large for dtype('float32')."
     ]
    }
   ],
   "source": [
    "y_test = Rf.predict(x_test)"
   ]
  },
  {
   "cell_type": "markdown",
   "metadata": {
    "id": "W7V0RvV3XRGC"
   },
   "source": [
    "It seems our Test Data conatains some NAN values and we would have to observe"
   ]
  },
  {
   "cell_type": "code",
   "execution_count": null,
   "metadata": {
    "colab": {
     "base_uri": "https://localhost:8080/"
    },
    "id": "i9hLcnOhXGj4",
    "outputId": "336afd5f-e331-4e2c-94f8-4d445b77ba80"
   },
   "outputs": [
    {
     "name": "stdout",
     "output_type": "stream",
     "text": [
      "totshopping.rep Column/Feature total number of NAN Values: 4595\n"
     ]
    }
   ],
   "source": [
    "data_columns = list(x_test.columns)\n",
    "null_columns = []\n",
    "non_null_columns = []\n",
    "null_values = []\n",
    "count = 0\n",
    "for i in range(len(data_columns)):\n",
    "  if x_test[data_columns[i]].isnull().sum() == 0:\n",
    "    non_null_columns.append(data_columns[i])\n",
    "    pass\n",
    "  else:\n",
    "    print(data_columns[i], end = \" \")\n",
    "    print('Column/Feature total number of NAN Values:', end= ' ')\n",
    "    print(x_test[data_columns[i]].isnull().sum())\n",
    "    count += 1\n",
    "    null_columns.append(data_columns[i])\n",
    "    null_values.append(x_test[data_columns[i]].isnull().sum())"
   ]
  },
  {
   "cell_type": "markdown",
   "metadata": {
    "id": "zqajLdjVX4fK"
   },
   "source": [
    "This means that the entire Column/Feature totshopping.rep conatins NULL values which is generating such problem while predicting the class labels and this a prblem of Data Leakage "
   ]
  },
  {
   "cell_type": "code",
   "execution_count": null,
   "metadata": {
    "colab": {
     "base_uri": "https://localhost:8080/"
    },
    "id": "jP_wYYu-X3pc",
    "outputId": "f2570737-e06c-438e-9cec-b363a60131ac"
   },
   "outputs": [
    {
     "data": {
      "text/plain": [
       "count    12313.000000\n",
       "mean       331.300123\n",
       "std        366.590573\n",
       "min          1.620000\n",
       "25%        114.060000\n",
       "50%        228.600000\n",
       "75%        420.890000\n",
       "max       5078.540000\n",
       "Name: totshopping.rep, dtype: float64"
      ]
     },
     "execution_count": 50,
     "metadata": {
      "tags": []
     },
     "output_type": "execute_result"
    }
   ],
   "source": [
    "x_train['totshopping.rep'].describe()"
   ]
  },
  {
   "cell_type": "markdown",
   "metadata": {
    "id": "qPQhuTjhD8ks"
   },
   "source": [
    "Here we have two options either to remove the entire Column/Featrue or to populate the entire column using some methodlogy.\n",
    "\n",
    "We weould try the 2nd option and try to populate the values for this Column/Featrue using a Linear Regression Model and will use RSquared Coefficient in order to check how well is it populating in the field "
   ]
  },
  {
   "cell_type": "code",
   "execution_count": null,
   "metadata": {
    "colab": {
     "base_uri": "https://localhost:8080/"
    },
    "id": "_hD8eug5YskR",
    "outputId": "25320543-5f2a-4cb1-e5db-ce6119516f2c"
   },
   "outputs": [
    {
     "name": "stdout",
     "output_type": "stream",
     "text": [
      "Training Data shape:  (8249, 239)\n",
      "Cross_validation Data shape:  (4064, 239)\n"
     ]
    },
    {
     "data": {
      "text/plain": [
       "LinearRegression(copy_X=True, fit_intercept=True, n_jobs=None, normalize=False)"
      ]
     },
     "execution_count": 51,
     "metadata": {
      "tags": []
     },
     "output_type": "execute_result"
    }
   ],
   "source": [
    "x_shopping = x_train.drop(columns = ['totshopping.rep'])\n",
    "y_shopping = x_train['totshopping.rep']\n",
    "\n",
    "x_shopping_train, x_shopping_cv , y_shopping_train , y_shopping_cv = train_test_split(x_shopping, y_shopping , test_size = 0.33)\n",
    "\n",
    "print('Training Data shape: ', x_shopping_train.shape)\n",
    "print('Cross_validation Data shape: ', x_shopping_cv.shape)\n",
    "\n",
    "#Import Linear Regression Model\n",
    "from sklearn.linear_model import LinearRegression\n",
    "\n",
    "#Creating an Object of Linear Regression\n",
    "lr = LinearRegression()\n",
    "lr.fit(x_shopping_train, y_shopping_train)"
   ]
  },
  {
   "cell_type": "code",
   "execution_count": null,
   "metadata": {
    "colab": {
     "base_uri": "https://localhost:8080/"
    },
    "id": "6kJ3LUZfaONN",
    "outputId": "f8fda20a-137b-409c-c7c1-aad8b8c80129"
   },
   "outputs": [
    {
     "name": "stdout",
     "output_type": "stream",
     "text": [
      "shape of CV Data :  (4064,)\n",
      "Shape of Predicted Data:  (4064,)\n",
      "Cross-validation Metric for Linear Regression:  0.999999102310064\n"
     ]
    }
   ],
   "source": [
    "from sklearn.metrics import r2_score\n",
    "\n",
    "print('shape of CV Data : ', y_shopping_cv.shape)\n",
    "y_pred = lr.predict(x_shopping_cv)\n",
    "print('Shape of Predicted Data: ',y_pred.shape)\n",
    "\n",
    "print('Cross-validation Metric for Linear Regression: ',r2_score(y_shopping_cv, y_pred))"
   ]
  },
  {
   "cell_type": "markdown",
   "metadata": {
    "id": "90_EW8-5F9Gv"
   },
   "source": [
    "g. Was any feature engineering required? If yes, what were they. If no, why?\n",
    "\n",
    "Performance of Linear Regression Model is quite good and I guess we could use this model in order populate the Column: 'totshopping.rep'\n",
    "using this model.\n",
    "</br>\n",
    "This entire process in known as Model based Imputation \n",
    "\n",
    "This was the only Feature Engineering required since the Feature : 'totshopping.rep' had only Null values and we needed to do Model based Impuatation "
   ]
  },
  {
   "cell_type": "code",
   "execution_count": null,
   "metadata": {
    "colab": {
     "base_uri": "https://localhost:8080/"
    },
    "id": "m8dXCMsYbCrh",
    "outputId": "3c0a9dd3-730e-43aa-af72-fd3b7cd88452"
   },
   "outputs": [
    {
     "name": "stdout",
     "output_type": "stream",
     "text": [
      "Shape of Prediction:  (4595,)\n"
     ]
    }
   ],
   "source": [
    "#Predicting Column 'totshopping.rep' in test data in order to help the prediction of groups using RandomForests Model\n",
    "pred = lr.predict(x_test.drop(columns= ['totshopping.rep']))\n",
    "print('Shape of Prediction: ',pred.shape)\n",
    "\n",
    "x_test['totshopping.rep'] = pred"
   ]
  },
  {
   "cell_type": "code",
   "execution_count": null,
   "metadata": {
    "colab": {
     "base_uri": "https://localhost:8080/"
    },
    "id": "oalaDxPobtoz",
    "outputId": "ed1ce10f-c0d7-44e5-e769-1d627f993395"
   },
   "outputs": [
    {
     "name": "stdout",
     "output_type": "stream",
     "text": [
      "Shape of Prediction of respondents group in pov6:  (4595, 6)\n",
      "Shape of array conatining Group Predictions:  (4595,)\n",
      "\n",
      "Number of Groups present in Test Data: \n"
     ]
    },
    {
     "data": {
      "text/plain": [
       "1    3685\n",
       "2     790\n",
       "3      71\n",
       "6      32\n",
       "5      15\n",
       "4       2\n",
       "dtype: int64"
      ]
     },
     "execution_count": 54,
     "metadata": {
      "tags": []
     },
     "output_type": "execute_result"
    }
   ],
   "source": [
    "import numpy as np\n",
    "\n",
    "y_test = Rf.predict(x_test)\n",
    "print('Shape of Prediction of respondents group in pov6: ',y_test.shape)\n",
    "\n",
    "group_predictions = np.argmax(y_test, axis= 1)\n",
    "print('Shape of array conatining Group Predictions: ',group_predictions.shape)\n",
    "\n",
    "for i in range(len(group_predictions)):\n",
    "  group_predictions[i] = group_predictions[i]+1\n",
    "\n",
    "group_predictions = pd.DataFrame(group_predictions)\n",
    "print('\\nNumber of Groups present in Test Data: ')\n",
    "group_predictions.value_counts()"
   ]
  },
  {
   "cell_type": "code",
   "execution_count": null,
   "metadata": {
    "colab": {
     "base_uri": "https://localhost:8080/"
    },
    "id": "vUPC7OIjqKtM",
    "outputId": "0a544c4d-b23b-4346-d9a8-3b5d5c70c70c"
   },
   "outputs": [
    {
     "data": {
      "text/plain": [
       "['RandomForest_Model.pkl']"
      ]
     },
     "execution_count": 56,
     "metadata": {
      "tags": []
     },
     "output_type": "execute_result"
    }
   ],
   "source": [
    "#Dumping the model in order to use it afterwards to predict the testing data\n",
    "from sklearn.externals import joblib\n",
    "\n",
    "joblib.dump(Rf , 'RandomForest_Model.pkl')"
   ]
  },
  {
   "cell_type": "markdown",
   "metadata": {
    "id": "T8qqOcBtLL1m"
   },
   "source": [
    "d. Please explain under what conditions will the model you choose be not appropriate\n",
    "\n",
    "If the Dataset had been too sparse then our model RandomForest wouldn't have worked as well as it is working right now \n",
    "\n",
    "If the Data used to train would be image data or graph data even then our model wouldn't have worked this properly \n",
    "\n",
    "If the test_data has all together different kind of data distribution then predicted results might not be that accurate."
   ]
  },
  {
   "cell_type": "markdown",
   "metadata": {
    "id": "la9JrMgwh7bM"
   },
   "source": [
    "# Future Work:\n",
    "\n",
    "1. Further we could use feature imporatnce in order to get the features which contributes maximum in the performance of model. These Features could be transformed basically know as Feature Tranform which takes the features into a higher dimensional space and new features could be added up to the list which might help in increasing performance of model.\n",
    "<br>\n",
    "Note: Decision Tree based model donot require scaling.\n",
    "</br>\n",
    "\n",
    "\n",
    "2. We could use deep learning models on this dataset keeping activation functions as sigmoid since it would keep the effect of outliers less due to squashing. Also we would try scaling the data and apply relu activation functions but we need to keep in mind that vanishing gradient prblem don't occur due to high number to parameters and chain rle of differentiation.\n",
    "\n",
    "3. We can also use linear models such as SVM after standardizing the data along with its other kernel versions where we could use RBF , polynomial kernel in order to handle non-linearity in the data.\n",
    "\n",
    "\n"
   ]
  }
 ],
 "metadata": {
  "accelerator": "GPU",
  "colab": {
   "collapsed_sections": [],
   "name": "BlackBuckInsights_1",
   "provenance": [],
   "toc_visible": true
  },
  "kernelspec": {
   "display_name": "Python 3",
   "language": "python",
   "name": "python3"
  },
  "language_info": {
   "codemirror_mode": {
    "name": "ipython",
    "version": 3
   },
   "file_extension": ".py",
   "mimetype": "text/x-python",
   "name": "python",
   "nbconvert_exporter": "python",
   "pygments_lexer": "ipython3",
   "version": "3.7.6"
  }
 },
 "nbformat": 4,
 "nbformat_minor": 1
}
